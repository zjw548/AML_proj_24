{
 "cells": [
  {
   "cell_type": "markdown",
   "metadata": {
    "id": "51d96220"
   },
   "source": [
    "**This Notebook contains the following :**\n",
    "\n",
    "1. Data Pre-Processing - Checking for Missing Data\n",
    "2. Data Pre-Processing - Visualizing and Interpreting Correlation Matrix\n",
    "3. Data Pre-Processing - Creating Subsets of Dataset\n",
    "4. Training using SVM Dual\n",
    "5. Training using Neural Networks\n",
    "\n",
    "This notebook has been published by Aman Anand (UNI aa4821) for Group 24."
   ]
  },
  {
   "cell_type": "code",
   "execution_count": 1,
   "metadata": {
    "id": "cLWrirJZKf-c"
   },
   "outputs": [],
   "source": [
    "import numpy as np\n",
    "import pandas as pd\n",
    "import matplotlib.pyplot as plt\n",
    "import seaborn as sns\n",
    "import sklearn\n",
    "import time\n",
    "from xgboost import XGBClassifier"
   ]
  },
  {
   "cell_type": "code",
   "execution_count": 2,
   "metadata": {
    "id": "b8c099f4"
   },
   "outputs": [],
   "source": [
    "import warnings\n",
    "\n",
    "def fxn():\n",
    "    warnings.warn(\"deprecated\", DeprecationWarning)\n",
    "\n",
    "with warnings.catch_warnings():\n",
    "    warnings.simplefilter(\"ignore\")\n",
    "    fxn()"
   ]
  },
  {
   "cell_type": "markdown",
   "metadata": {
    "id": "XLYk9FGfprcG"
   },
   "source": [
    "**Loading and Understanding the Dataset**"
   ]
  },
  {
   "cell_type": "code",
   "execution_count": 4,
   "metadata": {
    "colab": {
     "base_uri": "https://localhost:8080/"
    },
    "id": "57d0e357",
    "outputId": "d04fe7d2-56bf-4e97-e0fd-2e39fc55739a"
   },
   "outputs": [
    {
     "name": "stdout",
     "output_type": "stream",
     "text": [
      "Shape of original dataset:  (1884, 32)\n",
      "Shape of quantified dataset:  (1884, 32)\n"
     ]
    }
   ],
   "source": [
    "df_original = pd.read_csv(\"Drug_Consumption.csv\")\n",
    "df_quantified = pd.read_csv(\"Drug_Consumption_Quantified.csv\")\n",
    "\n",
    "print(\"Shape of original dataset: \", df_original.shape)\n",
    "print(\"Shape of quantified dataset: \", df_quantified.shape)"
   ]
  },
  {
   "cell_type": "code",
   "execution_count": 5,
   "metadata": {
    "colab": {
     "base_uri": "https://localhost:8080/",
     "height": 404
    },
    "id": "87b2e619",
    "outputId": "e0059aba-8274-4aba-c8d8-0c77d0f99cb9"
   },
   "outputs": [
    {
     "data": {
      "text/html": [
       "<div>\n",
       "<style scoped>\n",
       "    .dataframe tbody tr th:only-of-type {\n",
       "        vertical-align: middle;\n",
       "    }\n",
       "\n",
       "    .dataframe tbody tr th {\n",
       "        vertical-align: top;\n",
       "    }\n",
       "\n",
       "    .dataframe thead th {\n",
       "        text-align: right;\n",
       "    }\n",
       "</style>\n",
       "<table border=\"1\" class=\"dataframe\">\n",
       "  <thead>\n",
       "    <tr style=\"text-align: right;\">\n",
       "      <th></th>\n",
       "      <th>ID</th>\n",
       "      <th>Age</th>\n",
       "      <th>Gender</th>\n",
       "      <th>Education</th>\n",
       "      <th>Country</th>\n",
       "      <th>Ethnicity</th>\n",
       "      <th>Nscore</th>\n",
       "      <th>Escore</th>\n",
       "      <th>Oscore</th>\n",
       "      <th>AScore</th>\n",
       "      <th>...</th>\n",
       "      <th>Ecstasy</th>\n",
       "      <th>Heroin</th>\n",
       "      <th>Ketamine</th>\n",
       "      <th>Legalh</th>\n",
       "      <th>LSD</th>\n",
       "      <th>Meth</th>\n",
       "      <th>Mushrooms</th>\n",
       "      <th>Nicotine</th>\n",
       "      <th>Semer</th>\n",
       "      <th>VSA</th>\n",
       "    </tr>\n",
       "  </thead>\n",
       "  <tbody>\n",
       "    <tr>\n",
       "      <th>0</th>\n",
       "      <td>2</td>\n",
       "      <td>25-34</td>\n",
       "      <td>M</td>\n",
       "      <td>Doctorate degree</td>\n",
       "      <td>UK</td>\n",
       "      <td>White</td>\n",
       "      <td>-0.67825</td>\n",
       "      <td>1.93886</td>\n",
       "      <td>1.43533</td>\n",
       "      <td>0.76096</td>\n",
       "      <td>...</td>\n",
       "      <td>CL4</td>\n",
       "      <td>CL0</td>\n",
       "      <td>CL2</td>\n",
       "      <td>CL0</td>\n",
       "      <td>CL2</td>\n",
       "      <td>CL3</td>\n",
       "      <td>CL0</td>\n",
       "      <td>CL4</td>\n",
       "      <td>CL0</td>\n",
       "      <td>CL0</td>\n",
       "    </tr>\n",
       "    <tr>\n",
       "      <th>1</th>\n",
       "      <td>3</td>\n",
       "      <td>35-44</td>\n",
       "      <td>M</td>\n",
       "      <td>Professional certificate/ diploma</td>\n",
       "      <td>UK</td>\n",
       "      <td>White</td>\n",
       "      <td>-0.46725</td>\n",
       "      <td>0.80523</td>\n",
       "      <td>-0.84732</td>\n",
       "      <td>-1.62090</td>\n",
       "      <td>...</td>\n",
       "      <td>CL0</td>\n",
       "      <td>CL0</td>\n",
       "      <td>CL0</td>\n",
       "      <td>CL0</td>\n",
       "      <td>CL0</td>\n",
       "      <td>CL0</td>\n",
       "      <td>CL1</td>\n",
       "      <td>CL0</td>\n",
       "      <td>CL0</td>\n",
       "      <td>CL0</td>\n",
       "    </tr>\n",
       "    <tr>\n",
       "      <th>2</th>\n",
       "      <td>4</td>\n",
       "      <td>18-24</td>\n",
       "      <td>F</td>\n",
       "      <td>Masters degree</td>\n",
       "      <td>UK</td>\n",
       "      <td>White</td>\n",
       "      <td>-0.14882</td>\n",
       "      <td>-0.80615</td>\n",
       "      <td>-0.01928</td>\n",
       "      <td>0.59042</td>\n",
       "      <td>...</td>\n",
       "      <td>CL0</td>\n",
       "      <td>CL0</td>\n",
       "      <td>CL2</td>\n",
       "      <td>CL0</td>\n",
       "      <td>CL0</td>\n",
       "      <td>CL0</td>\n",
       "      <td>CL0</td>\n",
       "      <td>CL2</td>\n",
       "      <td>CL0</td>\n",
       "      <td>CL0</td>\n",
       "    </tr>\n",
       "    <tr>\n",
       "      <th>3</th>\n",
       "      <td>5</td>\n",
       "      <td>35-44</td>\n",
       "      <td>F</td>\n",
       "      <td>Doctorate degree</td>\n",
       "      <td>UK</td>\n",
       "      <td>White</td>\n",
       "      <td>0.73545</td>\n",
       "      <td>-1.63340</td>\n",
       "      <td>-0.45174</td>\n",
       "      <td>-0.30172</td>\n",
       "      <td>...</td>\n",
       "      <td>CL1</td>\n",
       "      <td>CL0</td>\n",
       "      <td>CL0</td>\n",
       "      <td>CL1</td>\n",
       "      <td>CL0</td>\n",
       "      <td>CL0</td>\n",
       "      <td>CL2</td>\n",
       "      <td>CL2</td>\n",
       "      <td>CL0</td>\n",
       "      <td>CL0</td>\n",
       "    </tr>\n",
       "    <tr>\n",
       "      <th>4</th>\n",
       "      <td>6</td>\n",
       "      <td>65+</td>\n",
       "      <td>F</td>\n",
       "      <td>Left school at 18 years</td>\n",
       "      <td>Canada</td>\n",
       "      <td>White</td>\n",
       "      <td>-0.67825</td>\n",
       "      <td>-0.30033</td>\n",
       "      <td>-1.55521</td>\n",
       "      <td>2.03972</td>\n",
       "      <td>...</td>\n",
       "      <td>CL0</td>\n",
       "      <td>CL0</td>\n",
       "      <td>CL0</td>\n",
       "      <td>CL0</td>\n",
       "      <td>CL0</td>\n",
       "      <td>CL0</td>\n",
       "      <td>CL0</td>\n",
       "      <td>CL6</td>\n",
       "      <td>CL0</td>\n",
       "      <td>CL0</td>\n",
       "    </tr>\n",
       "  </tbody>\n",
       "</table>\n",
       "<p>5 rows × 32 columns</p>\n",
       "</div>"
      ],
      "text/plain": [
       "   ID    Age Gender                          Education Country Ethnicity  \\\n",
       "0   2  25-34      M                   Doctorate degree      UK     White   \n",
       "1   3  35-44      M  Professional certificate/ diploma      UK     White   \n",
       "2   4  18-24      F                     Masters degree      UK     White   \n",
       "3   5  35-44      F                   Doctorate degree      UK     White   \n",
       "4   6    65+      F            Left school at 18 years  Canada     White   \n",
       "\n",
       "    Nscore   Escore   Oscore   AScore  ...  Ecstasy  Heroin  Ketamine Legalh  \\\n",
       "0 -0.67825  1.93886  1.43533  0.76096  ...      CL4     CL0       CL2    CL0   \n",
       "1 -0.46725  0.80523 -0.84732 -1.62090  ...      CL0     CL0       CL0    CL0   \n",
       "2 -0.14882 -0.80615 -0.01928  0.59042  ...      CL0     CL0       CL2    CL0   \n",
       "3  0.73545 -1.63340 -0.45174 -0.30172  ...      CL1     CL0       CL0    CL1   \n",
       "4 -0.67825 -0.30033 -1.55521  2.03972  ...      CL0     CL0       CL0    CL0   \n",
       "\n",
       "   LSD Meth Mushrooms Nicotine Semer  VSA  \n",
       "0  CL2  CL3       CL0      CL4   CL0  CL0  \n",
       "1  CL0  CL0       CL1      CL0   CL0  CL0  \n",
       "2  CL0  CL0       CL0      CL2   CL0  CL0  \n",
       "3  CL0  CL0       CL2      CL2   CL0  CL0  \n",
       "4  CL0  CL0       CL0      CL6   CL0  CL0  \n",
       "\n",
       "[5 rows x 32 columns]"
      ]
     },
     "execution_count": 5,
     "metadata": {},
     "output_type": "execute_result"
    }
   ],
   "source": [
    "df_original.head()"
   ]
  },
  {
   "cell_type": "code",
   "execution_count": 6,
   "metadata": {
    "colab": {
     "base_uri": "https://localhost:8080/",
     "height": 300
    },
    "id": "zUbg3AWSpjeV",
    "outputId": "9dcd6777-66e7-4412-9a63-336c01115d4b"
   },
   "outputs": [
    {
     "data": {
      "text/html": [
       "<div>\n",
       "<style scoped>\n",
       "    .dataframe tbody tr th:only-of-type {\n",
       "        vertical-align: middle;\n",
       "    }\n",
       "\n",
       "    .dataframe tbody tr th {\n",
       "        vertical-align: top;\n",
       "    }\n",
       "\n",
       "    .dataframe thead th {\n",
       "        text-align: right;\n",
       "    }\n",
       "</style>\n",
       "<table border=\"1\" class=\"dataframe\">\n",
       "  <thead>\n",
       "    <tr style=\"text-align: right;\">\n",
       "      <th></th>\n",
       "      <th>ID</th>\n",
       "      <th>Age</th>\n",
       "      <th>Gender</th>\n",
       "      <th>Education</th>\n",
       "      <th>Country</th>\n",
       "      <th>Ethnicity</th>\n",
       "      <th>Nscore</th>\n",
       "      <th>Escore</th>\n",
       "      <th>Oscore</th>\n",
       "      <th>AScore</th>\n",
       "      <th>...</th>\n",
       "      <th>Ecstasy</th>\n",
       "      <th>Heroin</th>\n",
       "      <th>Ketamine</th>\n",
       "      <th>Legalh</th>\n",
       "      <th>LSD</th>\n",
       "      <th>Meth</th>\n",
       "      <th>Mushrooms</th>\n",
       "      <th>Nicotine</th>\n",
       "      <th>Semer</th>\n",
       "      <th>VSA</th>\n",
       "    </tr>\n",
       "  </thead>\n",
       "  <tbody>\n",
       "    <tr>\n",
       "      <th>0</th>\n",
       "      <td>2</td>\n",
       "      <td>-0.07854</td>\n",
       "      <td>-0.48246</td>\n",
       "      <td>1.98437</td>\n",
       "      <td>0.96082</td>\n",
       "      <td>-0.31685</td>\n",
       "      <td>-0.67825</td>\n",
       "      <td>1.93886</td>\n",
       "      <td>1.43533</td>\n",
       "      <td>0.76096</td>\n",
       "      <td>...</td>\n",
       "      <td>CL4</td>\n",
       "      <td>CL0</td>\n",
       "      <td>CL2</td>\n",
       "      <td>CL0</td>\n",
       "      <td>CL2</td>\n",
       "      <td>CL3</td>\n",
       "      <td>CL0</td>\n",
       "      <td>CL4</td>\n",
       "      <td>CL0</td>\n",
       "      <td>CL0</td>\n",
       "    </tr>\n",
       "    <tr>\n",
       "      <th>1</th>\n",
       "      <td>3</td>\n",
       "      <td>0.49788</td>\n",
       "      <td>-0.48246</td>\n",
       "      <td>-0.05921</td>\n",
       "      <td>0.96082</td>\n",
       "      <td>-0.31685</td>\n",
       "      <td>-0.46725</td>\n",
       "      <td>0.80523</td>\n",
       "      <td>-0.84732</td>\n",
       "      <td>-1.62090</td>\n",
       "      <td>...</td>\n",
       "      <td>CL0</td>\n",
       "      <td>CL0</td>\n",
       "      <td>CL0</td>\n",
       "      <td>CL0</td>\n",
       "      <td>CL0</td>\n",
       "      <td>CL0</td>\n",
       "      <td>CL1</td>\n",
       "      <td>CL0</td>\n",
       "      <td>CL0</td>\n",
       "      <td>CL0</td>\n",
       "    </tr>\n",
       "    <tr>\n",
       "      <th>2</th>\n",
       "      <td>4</td>\n",
       "      <td>-0.95197</td>\n",
       "      <td>0.48246</td>\n",
       "      <td>1.16365</td>\n",
       "      <td>0.96082</td>\n",
       "      <td>-0.31685</td>\n",
       "      <td>-0.14882</td>\n",
       "      <td>-0.80615</td>\n",
       "      <td>-0.01928</td>\n",
       "      <td>0.59042</td>\n",
       "      <td>...</td>\n",
       "      <td>CL0</td>\n",
       "      <td>CL0</td>\n",
       "      <td>CL2</td>\n",
       "      <td>CL0</td>\n",
       "      <td>CL0</td>\n",
       "      <td>CL0</td>\n",
       "      <td>CL0</td>\n",
       "      <td>CL2</td>\n",
       "      <td>CL0</td>\n",
       "      <td>CL0</td>\n",
       "    </tr>\n",
       "    <tr>\n",
       "      <th>3</th>\n",
       "      <td>5</td>\n",
       "      <td>0.49788</td>\n",
       "      <td>0.48246</td>\n",
       "      <td>1.98437</td>\n",
       "      <td>0.96082</td>\n",
       "      <td>-0.31685</td>\n",
       "      <td>0.73545</td>\n",
       "      <td>-1.63340</td>\n",
       "      <td>-0.45174</td>\n",
       "      <td>-0.30172</td>\n",
       "      <td>...</td>\n",
       "      <td>CL1</td>\n",
       "      <td>CL0</td>\n",
       "      <td>CL0</td>\n",
       "      <td>CL1</td>\n",
       "      <td>CL0</td>\n",
       "      <td>CL0</td>\n",
       "      <td>CL2</td>\n",
       "      <td>CL2</td>\n",
       "      <td>CL0</td>\n",
       "      <td>CL0</td>\n",
       "    </tr>\n",
       "    <tr>\n",
       "      <th>4</th>\n",
       "      <td>6</td>\n",
       "      <td>2.59171</td>\n",
       "      <td>0.48246</td>\n",
       "      <td>-1.22751</td>\n",
       "      <td>0.24923</td>\n",
       "      <td>-0.31685</td>\n",
       "      <td>-0.67825</td>\n",
       "      <td>-0.30033</td>\n",
       "      <td>-1.55521</td>\n",
       "      <td>2.03972</td>\n",
       "      <td>...</td>\n",
       "      <td>CL0</td>\n",
       "      <td>CL0</td>\n",
       "      <td>CL0</td>\n",
       "      <td>CL0</td>\n",
       "      <td>CL0</td>\n",
       "      <td>CL0</td>\n",
       "      <td>CL0</td>\n",
       "      <td>CL6</td>\n",
       "      <td>CL0</td>\n",
       "      <td>CL0</td>\n",
       "    </tr>\n",
       "  </tbody>\n",
       "</table>\n",
       "<p>5 rows × 32 columns</p>\n",
       "</div>"
      ],
      "text/plain": [
       "   ID      Age   Gender  Education  Country  Ethnicity   Nscore   Escore  \\\n",
       "0   2 -0.07854 -0.48246    1.98437  0.96082   -0.31685 -0.67825  1.93886   \n",
       "1   3  0.49788 -0.48246   -0.05921  0.96082   -0.31685 -0.46725  0.80523   \n",
       "2   4 -0.95197  0.48246    1.16365  0.96082   -0.31685 -0.14882 -0.80615   \n",
       "3   5  0.49788  0.48246    1.98437  0.96082   -0.31685  0.73545 -1.63340   \n",
       "4   6  2.59171  0.48246   -1.22751  0.24923   -0.31685 -0.67825 -0.30033   \n",
       "\n",
       "    Oscore   AScore  ...  Ecstasy  Heroin  Ketamine Legalh  LSD Meth  \\\n",
       "0  1.43533  0.76096  ...      CL4     CL0       CL2    CL0  CL2  CL3   \n",
       "1 -0.84732 -1.62090  ...      CL0     CL0       CL0    CL0  CL0  CL0   \n",
       "2 -0.01928  0.59042  ...      CL0     CL0       CL2    CL0  CL0  CL0   \n",
       "3 -0.45174 -0.30172  ...      CL1     CL0       CL0    CL1  CL0  CL0   \n",
       "4 -1.55521  2.03972  ...      CL0     CL0       CL0    CL0  CL0  CL0   \n",
       "\n",
       "  Mushrooms Nicotine Semer  VSA  \n",
       "0       CL0      CL4   CL0  CL0  \n",
       "1       CL1      CL0   CL0  CL0  \n",
       "2       CL0      CL2   CL0  CL0  \n",
       "3       CL2      CL2   CL0  CL0  \n",
       "4       CL0      CL6   CL0  CL0  \n",
       "\n",
       "[5 rows x 32 columns]"
      ]
     },
     "execution_count": 6,
     "metadata": {},
     "output_type": "execute_result"
    }
   ],
   "source": [
    "df_quantified.head()"
   ]
  },
  {
   "cell_type": "code",
   "execution_count": 7,
   "metadata": {
    "colab": {
     "base_uri": "https://localhost:8080/",
     "height": 317
    },
    "id": "f1tiDecSpmIg",
    "outputId": "906460d7-8599-4918-d688-ecbdfcb531cb"
   },
   "outputs": [
    {
     "name": "stdout",
     "output_type": "stream",
     "text": [
      "df.shape:  (1884, 31)\n"
     ]
    },
    {
     "data": {
      "text/html": [
       "<div>\n",
       "<style scoped>\n",
       "    .dataframe tbody tr th:only-of-type {\n",
       "        vertical-align: middle;\n",
       "    }\n",
       "\n",
       "    .dataframe tbody tr th {\n",
       "        vertical-align: top;\n",
       "    }\n",
       "\n",
       "    .dataframe thead th {\n",
       "        text-align: right;\n",
       "    }\n",
       "</style>\n",
       "<table border=\"1\" class=\"dataframe\">\n",
       "  <thead>\n",
       "    <tr style=\"text-align: right;\">\n",
       "      <th></th>\n",
       "      <th>Age</th>\n",
       "      <th>Gender</th>\n",
       "      <th>Education</th>\n",
       "      <th>Country</th>\n",
       "      <th>Ethnicity</th>\n",
       "      <th>Nscore</th>\n",
       "      <th>Escore</th>\n",
       "      <th>Oscore</th>\n",
       "      <th>AScore</th>\n",
       "      <th>Cscore</th>\n",
       "      <th>...</th>\n",
       "      <th>Ecstasy</th>\n",
       "      <th>Heroin</th>\n",
       "      <th>Ketamine</th>\n",
       "      <th>Legalh</th>\n",
       "      <th>LSD</th>\n",
       "      <th>Meth</th>\n",
       "      <th>Mushrooms</th>\n",
       "      <th>Nicotine</th>\n",
       "      <th>Semer</th>\n",
       "      <th>VSA</th>\n",
       "    </tr>\n",
       "  </thead>\n",
       "  <tbody>\n",
       "    <tr>\n",
       "      <th>0</th>\n",
       "      <td>-0.07854</td>\n",
       "      <td>-0.48246</td>\n",
       "      <td>1.98437</td>\n",
       "      <td>0.96082</td>\n",
       "      <td>-0.31685</td>\n",
       "      <td>-0.67825</td>\n",
       "      <td>1.93886</td>\n",
       "      <td>1.43533</td>\n",
       "      <td>0.76096</td>\n",
       "      <td>-0.14277</td>\n",
       "      <td>...</td>\n",
       "      <td>CL4</td>\n",
       "      <td>CL0</td>\n",
       "      <td>CL2</td>\n",
       "      <td>CL0</td>\n",
       "      <td>CL2</td>\n",
       "      <td>CL3</td>\n",
       "      <td>CL0</td>\n",
       "      <td>CL4</td>\n",
       "      <td>CL0</td>\n",
       "      <td>CL0</td>\n",
       "    </tr>\n",
       "    <tr>\n",
       "      <th>1</th>\n",
       "      <td>0.49788</td>\n",
       "      <td>-0.48246</td>\n",
       "      <td>-0.05921</td>\n",
       "      <td>0.96082</td>\n",
       "      <td>-0.31685</td>\n",
       "      <td>-0.46725</td>\n",
       "      <td>0.80523</td>\n",
       "      <td>-0.84732</td>\n",
       "      <td>-1.62090</td>\n",
       "      <td>-1.01450</td>\n",
       "      <td>...</td>\n",
       "      <td>CL0</td>\n",
       "      <td>CL0</td>\n",
       "      <td>CL0</td>\n",
       "      <td>CL0</td>\n",
       "      <td>CL0</td>\n",
       "      <td>CL0</td>\n",
       "      <td>CL1</td>\n",
       "      <td>CL0</td>\n",
       "      <td>CL0</td>\n",
       "      <td>CL0</td>\n",
       "    </tr>\n",
       "    <tr>\n",
       "      <th>2</th>\n",
       "      <td>-0.95197</td>\n",
       "      <td>0.48246</td>\n",
       "      <td>1.16365</td>\n",
       "      <td>0.96082</td>\n",
       "      <td>-0.31685</td>\n",
       "      <td>-0.14882</td>\n",
       "      <td>-0.80615</td>\n",
       "      <td>-0.01928</td>\n",
       "      <td>0.59042</td>\n",
       "      <td>0.58489</td>\n",
       "      <td>...</td>\n",
       "      <td>CL0</td>\n",
       "      <td>CL0</td>\n",
       "      <td>CL2</td>\n",
       "      <td>CL0</td>\n",
       "      <td>CL0</td>\n",
       "      <td>CL0</td>\n",
       "      <td>CL0</td>\n",
       "      <td>CL2</td>\n",
       "      <td>CL0</td>\n",
       "      <td>CL0</td>\n",
       "    </tr>\n",
       "    <tr>\n",
       "      <th>3</th>\n",
       "      <td>0.49788</td>\n",
       "      <td>0.48246</td>\n",
       "      <td>1.98437</td>\n",
       "      <td>0.96082</td>\n",
       "      <td>-0.31685</td>\n",
       "      <td>0.73545</td>\n",
       "      <td>-1.63340</td>\n",
       "      <td>-0.45174</td>\n",
       "      <td>-0.30172</td>\n",
       "      <td>1.30612</td>\n",
       "      <td>...</td>\n",
       "      <td>CL1</td>\n",
       "      <td>CL0</td>\n",
       "      <td>CL0</td>\n",
       "      <td>CL1</td>\n",
       "      <td>CL0</td>\n",
       "      <td>CL0</td>\n",
       "      <td>CL2</td>\n",
       "      <td>CL2</td>\n",
       "      <td>CL0</td>\n",
       "      <td>CL0</td>\n",
       "    </tr>\n",
       "    <tr>\n",
       "      <th>4</th>\n",
       "      <td>2.59171</td>\n",
       "      <td>0.48246</td>\n",
       "      <td>-1.22751</td>\n",
       "      <td>0.24923</td>\n",
       "      <td>-0.31685</td>\n",
       "      <td>-0.67825</td>\n",
       "      <td>-0.30033</td>\n",
       "      <td>-1.55521</td>\n",
       "      <td>2.03972</td>\n",
       "      <td>1.63088</td>\n",
       "      <td>...</td>\n",
       "      <td>CL0</td>\n",
       "      <td>CL0</td>\n",
       "      <td>CL0</td>\n",
       "      <td>CL0</td>\n",
       "      <td>CL0</td>\n",
       "      <td>CL0</td>\n",
       "      <td>CL0</td>\n",
       "      <td>CL6</td>\n",
       "      <td>CL0</td>\n",
       "      <td>CL0</td>\n",
       "    </tr>\n",
       "  </tbody>\n",
       "</table>\n",
       "<p>5 rows × 31 columns</p>\n",
       "</div>"
      ],
      "text/plain": [
       "       Age   Gender  Education  Country  Ethnicity   Nscore   Escore   Oscore  \\\n",
       "0 -0.07854 -0.48246    1.98437  0.96082   -0.31685 -0.67825  1.93886  1.43533   \n",
       "1  0.49788 -0.48246   -0.05921  0.96082   -0.31685 -0.46725  0.80523 -0.84732   \n",
       "2 -0.95197  0.48246    1.16365  0.96082   -0.31685 -0.14882 -0.80615 -0.01928   \n",
       "3  0.49788  0.48246    1.98437  0.96082   -0.31685  0.73545 -1.63340 -0.45174   \n",
       "4  2.59171  0.48246   -1.22751  0.24923   -0.31685 -0.67825 -0.30033 -1.55521   \n",
       "\n",
       "    AScore   Cscore  ...  Ecstasy  Heroin Ketamine Legalh  LSD Meth Mushrooms  \\\n",
       "0  0.76096 -0.14277  ...      CL4     CL0      CL2    CL0  CL2  CL3       CL0   \n",
       "1 -1.62090 -1.01450  ...      CL0     CL0      CL0    CL0  CL0  CL0       CL1   \n",
       "2  0.59042  0.58489  ...      CL0     CL0      CL2    CL0  CL0  CL0       CL0   \n",
       "3 -0.30172  1.30612  ...      CL1     CL0      CL0    CL1  CL0  CL0       CL2   \n",
       "4  2.03972  1.63088  ...      CL0     CL0      CL0    CL0  CL0  CL0       CL0   \n",
       "\n",
       "  Nicotine Semer  VSA  \n",
       "0      CL4   CL0  CL0  \n",
       "1      CL0   CL0  CL0  \n",
       "2      CL2   CL0  CL0  \n",
       "3      CL2   CL0  CL0  \n",
       "4      CL6   CL0  CL0  \n",
       "\n",
       "[5 rows x 31 columns]"
      ]
     },
     "execution_count": 7,
     "metadata": {},
     "output_type": "execute_result"
    }
   ],
   "source": [
    "df = df_quantified.drop('ID', axis = 1)\n",
    "print(\"df.shape: \", df.shape)\n",
    "df.head()"
   ]
  },
  {
   "cell_type": "markdown",
   "metadata": {
    "id": "o6h4-JfSr5Ks"
   },
   "source": [
    "**Pre-Processing 1 : Check for missing values**"
   ]
  },
  {
   "cell_type": "code",
   "execution_count": 8,
   "metadata": {
    "colab": {
     "base_uri": "https://localhost:8080/"
    },
    "id": "37Mr0x09r4sF",
    "outputId": "98b1236d-7e48-4282-faf9-1d860c14c80d"
   },
   "outputs": [
    {
     "name": "stdout",
     "output_type": "stream",
     "text": [
      "Age          0.0\n",
      "Gender       0.0\n",
      "Education    0.0\n",
      "Country      0.0\n",
      "Ethnicity    0.0\n",
      "Nscore       0.0\n",
      "Escore       0.0\n",
      "Oscore       0.0\n",
      "AScore       0.0\n",
      "Cscore       0.0\n",
      "Impulsive    0.0\n",
      "SS           0.0\n",
      "Alcohol      0.0\n",
      "Amphet       0.0\n",
      "Amyl         0.0\n",
      "Benzos       0.0\n",
      "Caff         0.0\n",
      "Cannabis     0.0\n",
      "Choc         0.0\n",
      "Coke         0.0\n",
      "Crack        0.0\n",
      "Ecstasy      0.0\n",
      "Heroin       0.0\n",
      "Ketamine     0.0\n",
      "Legalh       0.0\n",
      "LSD          0.0\n",
      "Meth         0.0\n",
      "Mushrooms    0.0\n",
      "Nicotine     0.0\n",
      "Semer        0.0\n",
      "VSA          0.0\n",
      "dtype: float64\n",
      "Number of rows with missing values:  0\n",
      "Number of columns with missing values:  0\n"
     ]
    }
   ],
   "source": [
    "print(df.isnull().mean() * 100)\n",
    "\n",
    "print(\"Number of rows with missing values: \", df.isnull().any(axis=1).sum())\n",
    "print(\"Number of columns with missing values: \", df.isnull().any(axis=0).sum())"
   ]
  },
  {
   "cell_type": "markdown",
   "metadata": {
    "id": "sRKB9Ymmsm-O"
   },
   "source": [
    "**We observe that there are no missing values in the dataset**"
   ]
  },
  {
   "cell_type": "markdown",
   "metadata": {
    "id": "zDSIHU0HtnQq"
   },
   "source": [
    "**Pre-Processing 2 : Visualzing the correlation matrix**"
   ]
  },
  {
   "cell_type": "code",
   "execution_count": 9,
   "metadata": {
    "colab": {
     "base_uri": "https://localhost:8080/",
     "height": 613
    },
    "id": "mKJQfwEvrGz-",
    "outputId": "b17d3a49-52ea-4bf2-97a0-d1cba469ae8b"
   },
   "outputs": [
    {
     "data": {
      "text/plain": [
       "<AxesSubplot:>"
      ]
     },
     "execution_count": 9,
     "metadata": {},
     "output_type": "execute_result"
    },
    {
     "data": {
      "image/png": "[encoded data removed]",
      "text/plain": [
       "<Figure size 1440x720 with 2 Axes>"
      ]
     },
     "metadata": {
      "needs_background": "light"
     },
     "output_type": "display_data"
    }
   ],
   "source": [
    "corr = df.corr()\n",
    "plt.figure(figsize = (20, 10))\n",
    "sns.heatmap(corr, annot = True)"
   ]
  },
  {
   "cell_type": "markdown",
   "metadata": {
    "id": "Y8OkD4VTtr6U"
   },
   "source": [
    "We observe that none of the features are highly correlated with one another (no pair of features has correlation more than 0.90)"
   ]
  },
  {
   "cell_type": "markdown",
   "metadata": {
    "id": "76SBIx3srTyw"
   },
   "source": [
    "Pre-Processing 3 : Subset Datasets by Target\n",
    "  * This a multi-class classification with 18 targets and 7 classes\n",
    "  * We subset the dataset into 12 different subsets each having one target\n",
    "  * For each subset, we do a multi-class classification over the 7 classes\n",
    "  * 10 targets refer to 8 out of the 18 drugs we choose to model\n",
    "      * df_alcohol\n",
    "      * df_caff\n",
    "      * df_cannabis\n",
    "      * df_choc\n",
    "      * df_coke\n",
    "      * df_crack\n",
    "      * df_ecstasy\n",
    "      * df_nicotine\n",
    "      * df_lsd\n",
    "      * df_heroin\n",
    "    \n",
    "  * 7 classes refer to the following labels\n",
    "      * \"Never Used\" ; Embedded as CLO in the dataset\n",
    "      * \"Used over a Decade\" ; Embedded as CL1 in the dataset\n",
    "      * \"Used in Last Decade\" ; Embedded as CL2 in the dataset\n",
    "      * \"Used in Last Year\" ; Embedded as CL3 in the dataset\n",
    "      * \"Used in Lasr Month\" ; Embedded as CL4 in the dataset\n",
    "      * \"Used in Last Week\" ; Embedded as CL5 in the dataset\n",
    "      * \"Used in Last Day\" ; Embedded as CL6 in the dataset\n"
   ]
  },
  {
   "cell_type": "code",
   "execution_count": 10,
   "metadata": {
    "colab": {
     "base_uri": "https://localhost:8080/"
    },
    "id": "H5oq861sxHiO",
    "outputId": "02d8445e-f899-46cc-9fea-22eae16b248d"
   },
   "outputs": [
    {
     "name": "stdout",
     "output_type": "stream",
     "text": [
      "Following features are present in the dataset\n",
      "Age\n",
      "Gender\n",
      "Education\n",
      "Country\n",
      "Ethnicity\n",
      "Nscore\n",
      "Escore\n",
      "Oscore\n",
      "AScore\n",
      "Cscore\n",
      "Impulsive\n",
      "SS\n",
      "Alcohol\n",
      "Amphet\n",
      "Amyl\n",
      "Benzos\n",
      "Caff\n",
      "Cannabis\n",
      "Choc\n",
      "Coke\n",
      "Crack\n",
      "Ecstasy\n",
      "Heroin\n",
      "Ketamine\n",
      "Legalh\n",
      "LSD\n",
      "Meth\n",
      "Mushrooms\n",
      "Nicotine\n",
      "Semer\n",
      "VSA\n"
     ]
    }
   ],
   "source": [
    "print(\"Following features are present in the dataset\")\n",
    "\n",
    "for col in df.columns:\n",
    "  print(col)"
   ]
  },
  {
   "cell_type": "code",
   "execution_count": 12,
   "metadata": {
    "id": "GtGpDOlZzBbH"
   },
   "outputs": [],
   "source": [
    "drugs_to_ignore = ['Amphet', 'Amyl', 'Benzos', 'Ketamine', 'Legalh', 'Meth', 'VSA']\n",
    "drugs_to_consider = ['Alcohol', 'Caff', 'Cannabis', 'Choc', 'Coke', 'Crack', 'Ecstasy', 'Heroin', 'LSD', 'Mushrooms', 'Nicotine', 'Semer']"
   ]
  },
  {
   "cell_type": "markdown",
   "metadata": {
    "id": "MleSljLp0GC6"
   },
   "source": [
    "Pre-Processing 3.1 : Creating subsets to perform prediction over only \"drugs_to_consider\" attributes"
   ]
  },
  {
   "cell_type": "code",
   "execution_count": 13,
   "metadata": {
    "id": "JfAdf966xksa"
   },
   "outputs": [],
   "source": [
    "non_alcohol_feature = drugs_to_ignore + ['Caff', 'Cannabis', 'Choc', 'Coke', 'Crack', 'Ecstasy', 'Heroin', 'LSD', 'Mushrooms', 'Nicotine', 'Semer']\n",
    "non_caff_features = drugs_to_ignore + ['Alcohol', 'Cannabis', 'Choc', 'Coke', 'Crack', 'Ecstasy', 'Heroin', 'LSD', 'Mushrooms', 'Nicotine', 'Semer']\n",
    "non_cannabis_features = drugs_to_ignore + ['Alcohol', 'Caff', 'Choc', 'Coke', 'Crack', 'Ecstasy', 'Heroin', 'LSD', 'Mushrooms', 'Nicotine', 'Semer']\n",
    "non_choc_features = drugs_to_ignore + ['Alcohol', 'Caff', 'Cannabis', 'Coke', 'Crack', 'Ecstasy', 'Heroin', 'LSD', 'Mushrooms', 'Nicotine', 'Semer']\n",
    "non_coke_features = drugs_to_ignore + ['Alcohol', 'Caff', 'Cannabis', 'Choc', 'Crack', 'Ecstasy', 'Heroin', 'LSD', 'Mushrooms', 'Nicotine', 'Semer']\n",
    "non_crack_features = drugs_to_ignore + ['Alcohol', 'Caff', 'Cannabis', 'Choc', 'Coke', 'Ecstasy', 'Heroin', 'LSD', 'Mushrooms', 'Nicotine', 'Semer']\n",
    "non_ecstasy_features = drugs_to_ignore + ['Alcohol', 'Caff', 'Cannabis', 'Choc', 'Coke', 'Crack', 'Heroin', 'LSD', 'Mushrooms', 'Nicotine', 'Semer']\n",
    "non_heroin_features = drugs_to_ignore + ['Alcohol', 'Caff', 'Cannabis', 'Choc', 'Coke', 'Crack', 'Ecstasy', 'LSD', 'Mushrooms', 'Nicotine', 'Semer']\n",
    "non_lsd_features = drugs_to_ignore + ['Alcohol', 'Caff', 'Cannabis', 'Choc', 'Coke', 'Crack', 'Ecstasy', 'Heroin', 'Mushrooms', 'Nicotine', 'Semer']\n",
    "non_mushrooms_features = drugs_to_ignore + ['Alcohol', 'Caff', 'Cannabis', 'Choc', 'Coke', 'Crack', 'Ecstasy', 'Heroin', 'LSD', 'Nicotine', 'Semer']\n",
    "non_nicotine_features = drugs_to_ignore + ['Alcohol', 'Caff', 'Cannabis', 'Choc', 'Coke', 'Crack', 'Ecstasy', 'Heroin', 'LSD', 'Mushrooms', 'Semer']"
   ]
  },
  {
   "cell_type": "code",
   "execution_count": 14,
   "metadata": {
    "id": "MGjCJws6xpBg"
   },
   "outputs": [],
   "source": [
    "df_alcohol = df.drop(non_alcohol_feature, axis = 1)\n",
    "\n",
    "df_caff = df.drop(non_caff_features, axis = 1)\n",
    "\n",
    "df_cannabis = df.drop(non_cannabis_features, axis = 1)\n",
    "\n",
    "df_choc = df.drop(non_choc_features, axis = 1)\n",
    "\n",
    "df_coke = df.drop(non_coke_features, axis = 1)\n",
    "\n",
    "df_crack = df.drop(non_crack_features, axis = 1)\n",
    "\n",
    "df_ecstasy = df.drop(non_ecstasy_features, axis = 1)\n",
    "\n",
    "df_lsd = df.drop(non_lsd_features, axis = 1)\n",
    "\n",
    "df_heroin = df.drop(non_heroin_features, axis = 1)\n",
    "\n",
    "df_nicotine = df.drop(non_nicotine_features, axis = 1)\n",
    "\n",
    "df_mushroom = df.drop(non_mushrooms_features, axis = 1)"
   ]
  },
  {
   "cell_type": "markdown",
   "metadata": {
    "id": "5x-b9TLT4PfJ"
   },
   "source": [
    "**Classification for Alcohol using SVM - Dual**"
   ]
  },
  {
   "cell_type": "code",
   "execution_count": 15,
   "metadata": {
    "colab": {
     "base_uri": "https://localhost:8080/",
     "height": 206
    },
    "id": "ocPTAuLp2_sC",
    "outputId": "ecfc1a10-26da-48ad-8582-719daafd413c"
   },
   "outputs": [
    {
     "data": {
      "text/html": [
       "<div>\n",
       "<style scoped>\n",
       "    .dataframe tbody tr th:only-of-type {\n",
       "        vertical-align: middle;\n",
       "    }\n",
       "\n",
       "    .dataframe tbody tr th {\n",
       "        vertical-align: top;\n",
       "    }\n",
       "\n",
       "    .dataframe thead th {\n",
       "        text-align: right;\n",
       "    }\n",
       "</style>\n",
       "<table border=\"1\" class=\"dataframe\">\n",
       "  <thead>\n",
       "    <tr style=\"text-align: right;\">\n",
       "      <th></th>\n",
       "      <th>Age</th>\n",
       "      <th>Gender</th>\n",
       "      <th>Education</th>\n",
       "      <th>Country</th>\n",
       "      <th>Ethnicity</th>\n",
       "      <th>Nscore</th>\n",
       "      <th>Escore</th>\n",
       "      <th>Oscore</th>\n",
       "      <th>AScore</th>\n",
       "      <th>Cscore</th>\n",
       "      <th>Impulsive</th>\n",
       "      <th>SS</th>\n",
       "      <th>Alcohol</th>\n",
       "    </tr>\n",
       "  </thead>\n",
       "  <tbody>\n",
       "    <tr>\n",
       "      <th>0</th>\n",
       "      <td>-0.07854</td>\n",
       "      <td>-0.48246</td>\n",
       "      <td>1.98437</td>\n",
       "      <td>0.96082</td>\n",
       "      <td>-0.31685</td>\n",
       "      <td>-0.67825</td>\n",
       "      <td>1.93886</td>\n",
       "      <td>1.43533</td>\n",
       "      <td>0.76096</td>\n",
       "      <td>-0.14277</td>\n",
       "      <td>-0.71126</td>\n",
       "      <td>-0.21575</td>\n",
       "      <td>CL5</td>\n",
       "    </tr>\n",
       "    <tr>\n",
       "      <th>1</th>\n",
       "      <td>0.49788</td>\n",
       "      <td>-0.48246</td>\n",
       "      <td>-0.05921</td>\n",
       "      <td>0.96082</td>\n",
       "      <td>-0.31685</td>\n",
       "      <td>-0.46725</td>\n",
       "      <td>0.80523</td>\n",
       "      <td>-0.84732</td>\n",
       "      <td>-1.62090</td>\n",
       "      <td>-1.01450</td>\n",
       "      <td>-1.37983</td>\n",
       "      <td>0.40148</td>\n",
       "      <td>CL6</td>\n",
       "    </tr>\n",
       "    <tr>\n",
       "      <th>2</th>\n",
       "      <td>-0.95197</td>\n",
       "      <td>0.48246</td>\n",
       "      <td>1.16365</td>\n",
       "      <td>0.96082</td>\n",
       "      <td>-0.31685</td>\n",
       "      <td>-0.14882</td>\n",
       "      <td>-0.80615</td>\n",
       "      <td>-0.01928</td>\n",
       "      <td>0.59042</td>\n",
       "      <td>0.58489</td>\n",
       "      <td>-1.37983</td>\n",
       "      <td>-1.18084</td>\n",
       "      <td>CL4</td>\n",
       "    </tr>\n",
       "    <tr>\n",
       "      <th>3</th>\n",
       "      <td>0.49788</td>\n",
       "      <td>0.48246</td>\n",
       "      <td>1.98437</td>\n",
       "      <td>0.96082</td>\n",
       "      <td>-0.31685</td>\n",
       "      <td>0.73545</td>\n",
       "      <td>-1.63340</td>\n",
       "      <td>-0.45174</td>\n",
       "      <td>-0.30172</td>\n",
       "      <td>1.30612</td>\n",
       "      <td>-0.21712</td>\n",
       "      <td>-0.21575</td>\n",
       "      <td>CL4</td>\n",
       "    </tr>\n",
       "    <tr>\n",
       "      <th>4</th>\n",
       "      <td>2.59171</td>\n",
       "      <td>0.48246</td>\n",
       "      <td>-1.22751</td>\n",
       "      <td>0.24923</td>\n",
       "      <td>-0.31685</td>\n",
       "      <td>-0.67825</td>\n",
       "      <td>-0.30033</td>\n",
       "      <td>-1.55521</td>\n",
       "      <td>2.03972</td>\n",
       "      <td>1.63088</td>\n",
       "      <td>-1.37983</td>\n",
       "      <td>-1.54858</td>\n",
       "      <td>CL2</td>\n",
       "    </tr>\n",
       "  </tbody>\n",
       "</table>\n",
       "</div>"
      ],
      "text/plain": [
       "       Age   Gender  Education  Country  Ethnicity   Nscore   Escore   Oscore  \\\n",
       "0 -0.07854 -0.48246    1.98437  0.96082   -0.31685 -0.67825  1.93886  1.43533   \n",
       "1  0.49788 -0.48246   -0.05921  0.96082   -0.31685 -0.46725  0.80523 -0.84732   \n",
       "2 -0.95197  0.48246    1.16365  0.96082   -0.31685 -0.14882 -0.80615 -0.01928   \n",
       "3  0.49788  0.48246    1.98437  0.96082   -0.31685  0.73545 -1.63340 -0.45174   \n",
       "4  2.59171  0.48246   -1.22751  0.24923   -0.31685 -0.67825 -0.30033 -1.55521   \n",
       "\n",
       "    AScore   Cscore  Impulsive       SS Alcohol  \n",
       "0  0.76096 -0.14277   -0.71126 -0.21575     CL5  \n",
       "1 -1.62090 -1.01450   -1.37983  0.40148     CL6  \n",
       "2  0.59042  0.58489   -1.37983 -1.18084     CL4  \n",
       "3 -0.30172  1.30612   -0.21712 -0.21575     CL4  \n",
       "4  2.03972  1.63088   -1.37983 -1.54858     CL2  "
      ]
     },
     "execution_count": 15,
     "metadata": {},
     "output_type": "execute_result"
    }
   ],
   "source": [
    "df_alcohol.head()"
   ]
  },
  {
   "cell_type": "code",
   "execution_count": 16,
   "metadata": {
    "colab": {
     "base_uri": "https://localhost:8080/"
    },
    "id": "9-pmZPlR4f2K",
    "outputId": "671bb441-227f-4251-87d0-c6bbc4b049de"
   },
   "outputs": [
    {
     "name": "stdout",
     "output_type": "stream",
     "text": [
      "X_alcohol_train, y_alcohol_train:  (1507, 12) (1507,)\n",
      "X_alcohol_dev, y_alcohol_dev:  (1205, 12) (1205,)\n",
      "X_alcohol_val, y_alcohol_val:  (302, 12) (302,)\n",
      "X_alcohol_test, y_alcohol_test:  (377, 12) (377,)\n"
     ]
    }
   ],
   "source": [
    "from sklearn.model_selection import train_test_split\n",
    "\n",
    "X_alcohol = df_alcohol.drop('Alcohol', axis=1)\n",
    "y_alcohol = df_alcohol['Alcohol']\n",
    "\n",
    "X_alcohol_train, X_alcohol_test, y_alcohol_train, y_alcohol_test = train_test_split(X_alcohol, y_alcohol, test_size=0.2, random_state=42)\n",
    "\n",
    "X_alcohol_dev, X_alcohol_val, y_alcohol_dev, y_alcohol_val = train_test_split(X_alcohol_train, y_alcohol_train, test_size=0.2, random_state=42)\n",
    "\n",
    "print(\"X_alcohol_train, y_alcohol_train: \", X_alcohol_train.shape, y_alcohol_train.shape)\n",
    "print(\"X_alcohol_dev, y_alcohol_dev: \", X_alcohol_dev.shape, y_alcohol_dev.shape)\n",
    "print(\"X_alcohol_val, y_alcohol_val: \", X_alcohol_val.shape, y_alcohol_val.shape)\n",
    "print(\"X_alcohol_test, y_alcohol_test: \", X_alcohol_test.shape, y_alcohol_test.shape)"
   ]
  },
  {
   "cell_type": "code",
   "execution_count": 17,
   "metadata": {
    "colab": {
     "base_uri": "https://localhost:8080/"
    },
    "id": "N6mBjbtc9z71",
    "outputId": "fff54eff-b871-4e36-966c-4926c62c569b"
   },
   "outputs": [
    {
     "data": {
      "text/plain": [
       "SVC(kernel='linear')"
      ]
     },
     "execution_count": 17,
     "metadata": {},
     "output_type": "execute_result"
    }
   ],
   "source": [
    "from sklearn.svm import LinearSVC, SVC\n",
    "from sklearn import metrics\n",
    "\n",
    "svm_classifier_dual_alcohol = SVC(kernel='linear')\n",
    "svm_classifier_dual_alcohol.fit(X_alcohol_dev, y_alcohol_dev)"
   ]
  },
  {
   "cell_type": "code",
   "execution_count": 18,
   "metadata": {
    "colab": {
     "base_uri": "https://localhost:8080/"
    },
    "id": "zl_hNaRn-DCB",
    "outputId": "2b72fe48-e70b-45e6-fa6c-56834e9c0eac"
   },
   "outputs": [
    {
     "name": "stdout",
     "output_type": "stream",
     "text": [
      "Accuracy on developemnt set:  0.3933609958506224\n",
      "Accuracy on validation set:  0.4304635761589404\n",
      "Accuracy on test set:  0.40848806366047746\n",
      "Test Confusion Matrix :  [[  0   0   0   0   0   6   0]\n",
      " [  0   0   0   0   0   7   0]\n",
      " [  0   0   0   0   0  14   0]\n",
      " [  0   0   0   0   0  41   0]\n",
      " [  0   0   0   0   0  60   0]\n",
      " [  0   0   0   0   0 154   0]\n",
      " [  0   0   0   0   0  95   0]]\n",
      "Test Macro F1 0.08286252354048963\n",
      "Test Micro F1 0.40848806366047746\n",
      "Test Weighted F1 0.23693846253752737\n"
     ]
    }
   ],
   "source": [
    "y_alcohol_dev_predict = svm_classifier_dual_alcohol.predict(X_alcohol_dev)\n",
    "y_alcohol_val_predict = svm_classifier_dual_alcohol.predict(X_alcohol_val)\n",
    "y_alcohol_test_predict = svm_classifier_dual_alcohol.predict(X_alcohol_test)\n",
    "\n",
    "print(\"Accuracy on developemnt set: \", metrics.accuracy_score(y_alcohol_dev, y_alcohol_dev_predict))\n",
    "print(\"Accuracy on validation set: \", metrics.accuracy_score(y_alcohol_val, y_alcohol_val_predict))\n",
    "print(\"Accuracy on test set: \", metrics.accuracy_score(y_alcohol_test, y_alcohol_test_predict))\n",
    "\n",
    "print(\"Test Confusion Matrix : \", metrics.confusion_matrix(y_alcohol_test, y_alcohol_test_predict))\n",
    "print('Test Macro F1', metrics.f1_score(y_alcohol_test, y_alcohol_test_predict, average='macro'))\n",
    "print('Test Micro F1', metrics.f1_score(y_alcohol_test, y_alcohol_test_predict, average='micro'))\n",
    "print('Test Weighted F1', metrics.f1_score(y_alcohol_test, y_alcohol_test_predict, average='weighted'))"
   ]
  },
  {
   "cell_type": "code",
   "execution_count": 21,
   "metadata": {},
   "outputs": [
    {
     "data": {
      "image/png": "[encoded data removed]",
      "text/plain": [
       "<Figure size 576x396 with 1 Axes>"
      ]
     },
     "metadata": {},
     "output_type": "display_data"
    },
    {
     "data": {
      "text/plain": [
       "<AxesSubplot:title={'center':'ROC Curves for SVC'}, xlabel='False Positive Rate', ylabel='True Positive Rate'>"
      ]
     },
     "execution_count": 21,
     "metadata": {},
     "output_type": "execute_result"
    }
   ],
   "source": [
    "from yellowbrick.classifier import ROCAUC\n",
    "svm_classifier_dual_alcohol = SVC(kernel='linear')\n",
    "visualizer = ROCAUC(svm_classifier_dual_alcohol, classes=[\"0\", \"1\", \"2\",\"3\",\"4\",\"5\",\"6\"])\n",
    "visualizer.fit(X_alcohol_dev, y_alcohol_dev)        # Fit the training data to the visualizer\n",
    "visualizer.score(X_alcohol_test, y_alcohol_test)        # Evaluate the model on the test data\n",
    "visualizer.show() "
   ]
  },
  {
   "cell_type": "code",
   "execution_count": 22,
   "metadata": {},
   "outputs": [
    {
     "data": {
      "text/plain": [
       "[Text(0.5, 1.0, 'Confusion matrix With svmdual')]"
      ]
     },
     "execution_count": 22,
     "metadata": {},
     "output_type": "execute_result"
    },
    {
     "data": {
      "image/png": "[encoded data removed]",
      "text/plain": [
       "<Figure size 576x396 with 2 Axes>"
      ]
     },
     "metadata": {},
     "output_type": "display_data"
    }
   ],
   "source": [
    "from sklearn.metrics import confusion_matrix\n",
    "from sklearn.metrics import ConfusionMatrixDisplay\n",
    "cm=confusion_matrix(y_alcohol_test, y_alcohol_test_predict)\n",
    "disp=ConfusionMatrixDisplay(cm)\n",
    "disp.plot()\n",
    "disp.ax_.set(title='Confusion matrix With svmdual')"
   ]
  },
  {
   "cell_type": "markdown",
   "metadata": {
    "id": "H9edVcnJpczz"
   },
   "source": [
    "**Classification for Alcohol using Neural Network**"
   ]
  },
  {
   "cell_type": "code",
   "execution_count": 44,
   "metadata": {
    "id": "2Qnu0GuLtqtY"
   },
   "outputs": [],
   "source": [
    "X_alcohol_dev_np = X_alcohol_dev.to_numpy()\n",
    "y_alcohol_dev_np = y_alcohol_dev.to_numpy().reshape(y_alcohol_dev.shape[0], 1)\n",
    "\n",
    "X_alcohol_val_np = X_alcohol_val.to_numpy()\n",
    "y_alcohol_val_np = y_alcohol_val.to_numpy().reshape(y_alcohol_val.shape[0], 1)\n",
    "\n",
    "X_alcohol_test_np = X_alcohol_test.to_numpy()\n",
    "y_alcohol_test_np = y_alcohol_test.to_numpy().reshape(y_alcohol_test.shape[0], 1)"
   ]
  },
  {
   "cell_type": "code",
   "execution_count": 45,
   "metadata": {
    "id": "TCFkle9-tLYT"
   },
   "outputs": [],
   "source": [
    "from sklearn.preprocessing import OneHotEncoder\n",
    "ohe = OneHotEncoder()\n",
    "\n",
    "y_alcohol_dev_ohe = ohe.fit_transform(y_alcohol_dev_np).toarray()\n",
    "y_alcohol_val_ohe = ohe.fit_transform(y_alcohol_val_np).toarray()\n",
    "y_alcohol_test_ohe = ohe.fit_transform(y_alcohol_test_np).toarray()"
   ]
  },
  {
   "cell_type": "code",
   "execution_count": 46,
   "metadata": {
    "id": "EYk8_54FrKfF"
   },
   "outputs": [],
   "source": [
    "from tensorflow.keras.models import Sequential\n",
    "from tensorflow.keras.layers import Dense\n",
    "from tensorflow.keras.layers import BatchNormalization\n",
    "from tensorflow.keras.layers import Dropout\n",
    "\n",
    "model_alcohol = Sequential()\n",
    "\n",
    "model_alcohol.add(Dense(64, input_dim=12, activation='relu'))\n",
    "model_alcohol.add(Dropout(0.2))\n",
    "model_alcohol.add(BatchNormalization())\n",
    "\n",
    "model_alcohol.add(Dense(32, activation='relu'))\n",
    "model_alcohol.add(Dropout(0.2))\n",
    "model_alcohol.add(BatchNormalization())\n",
    "\n",
    "model_alcohol.add(Dense(7, activation='softmax')) "
   ]
  },
  {
   "cell_type": "code",
   "execution_count": 47,
   "metadata": {
    "id": "R6xTvOA_rk3Q"
   },
   "outputs": [],
   "source": [
    "model_alcohol.compile(optimizer='adam', loss='categorical_crossentropy', metrics=['accuracy'])\n",
    "history_alcohol = model_alcohol.fit(X_alcohol_dev_np, y_alcohol_dev_ohe, epochs=50, verbose=0, batch_size=128, validation_data=(X_alcohol_val_np, y_alcohol_val_ohe))"
   ]
  },
  {
   "cell_type": "code",
   "execution_count": 48,
   "metadata": {
    "colab": {
     "base_uri": "https://localhost:8080/",
     "height": 299
    },
    "id": "lxSHK5DNuxJM",
    "outputId": "026b087b-cbd2-470b-8f30-186b4be3b88a"
   },
   "outputs": [
    {
     "data": {
      "text/plain": [
       "[]"
      ]
     },
     "execution_count": 48,
     "metadata": {},
     "output_type": "execute_result"
    },
    {
     "data": {
      "image/png": "[encoded data removed]",
      "text/plain": [
       "<Figure size 432x288 with 1 Axes>"
      ]
     },
     "metadata": {
      "needs_background": "light"
     },
     "output_type": "display_data"
    }
   ],
   "source": [
    "plt.plot(history_alcohol.history['loss'])\n",
    "plt.plot(history_alcohol.history['val_loss'])\n",
    "plt.title('Loss - Alcohol')\n",
    "plt.legend(['train_loss', 'validation_loss'])\n",
    "plt.plot()"
   ]
  },
  {
   "cell_type": "code",
   "execution_count": 49,
   "metadata": {
    "colab": {
     "base_uri": "https://localhost:8080/",
     "height": 299
    },
    "id": "aQoTKZkZvBaN",
    "outputId": "47374516-50f2-452c-b9f1-d603978b4215"
   },
   "outputs": [
    {
     "data": {
      "text/plain": [
       "[]"
      ]
     },
     "execution_count": 49,
     "metadata": {},
     "output_type": "execute_result"
    },
    {
     "data": {
      "image/png": "[encoded data removed]",
      "text/plain": [
       "<Figure size 432x288 with 1 Axes>"
      ]
     },
     "metadata": {
      "needs_background": "light"
     },
     "output_type": "display_data"
    }
   ],
   "source": [
    "plt.plot(history_alcohol.history['accuracy'])\n",
    "plt.plot(history_alcohol.history['val_accuracy'])\n",
    "plt.title('Accuracy - Alcohol')\n",
    "plt.legend(['train_acc', 'validation_acc'])\n",
    "plt.plot()"
   ]
  },
  {
   "cell_type": "code",
   "execution_count": 50,
   "metadata": {
    "colab": {
     "base_uri": "https://localhost:8080/"
    },
    "id": "U8fQcGz3vFY6",
    "outputId": "457c63b3-b66d-4b22-e23f-b1e46dd1f208"
   },
   "outputs": [
    {
     "name": "stdout",
     "output_type": "stream",
     "text": [
      "12/12 [==============================] - 0s 2ms/step - loss: 1.5420 - accuracy: 0.3899\n",
      "\n",
      " Accuracy for Alcohol is:  0.3899204134941101\n"
     ]
    }
   ],
   "source": [
    "score = model_alcohol.evaluate(X_alcohol_test_np, y_alcohol_test_ohe)\n",
    "print(\"\\n Accuracy for Alcohol is: \", score[1])"
   ]
  },
  {
   "cell_type": "markdown",
   "metadata": {
    "id": "fyS-QSYt3Ua0"
   },
   "source": [
    "----------------------------------------------------------------------------"
   ]
  },
  {
   "cell_type": "markdown",
   "metadata": {
    "id": "pCrSQN6f-2xG"
   },
   "source": [
    "**Classification for Caffeine using SVM - Dual**\n",
    "\n"
   ]
  },
  {
   "cell_type": "code",
   "execution_count": 18,
   "metadata": {
    "colab": {
     "base_uri": "https://localhost:8080/",
     "height": 206
    },
    "id": "ANvVVo0n3EDp",
    "outputId": "03489cfe-39d7-4be4-bc6d-1c313fcd69ce"
   },
   "outputs": [
    {
     "data": {
      "text/html": [
       "\n",
       "  <div id=\"df-f01ec4c4-faf5-452d-b3ea-84f37306e1e2\">\n",
       "    <div class=\"colab-df-container\">\n",
       "      <div>\n",
       "<style scoped>\n",
       "    .dataframe tbody tr th:only-of-type {\n",
       "        vertical-align: middle;\n",
       "    }\n",
       "\n",
       "    .dataframe tbody tr th {\n",
       "        vertical-align: top;\n",
       "    }\n",
       "\n",
       "    .dataframe thead th {\n",
       "        text-align: right;\n",
       "    }\n",
       "</style>\n",
       "<table border=\"1\" class=\"dataframe\">\n",
       "  <thead>\n",
       "    <tr style=\"text-align: right;\">\n",
       "      <th></th>\n",
       "      <th>Age</th>\n",
       "      <th>Gender</th>\n",
       "      <th>Education</th>\n",
       "      <th>Country</th>\n",
       "      <th>Ethnicity</th>\n",
       "      <th>Nscore</th>\n",
       "      <th>Escore</th>\n",
       "      <th>Oscore</th>\n",
       "      <th>AScore</th>\n",
       "      <th>Cscore</th>\n",
       "      <th>Impulsive</th>\n",
       "      <th>SS</th>\n",
       "      <th>Caff</th>\n",
       "    </tr>\n",
       "  </thead>\n",
       "  <tbody>\n",
       "    <tr>\n",
       "      <th>0</th>\n",
       "      <td>-0.07854</td>\n",
       "      <td>-0.48246</td>\n",
       "      <td>1.98437</td>\n",
       "      <td>0.96082</td>\n",
       "      <td>-0.31685</td>\n",
       "      <td>-0.67825</td>\n",
       "      <td>1.93886</td>\n",
       "      <td>1.43533</td>\n",
       "      <td>0.76096</td>\n",
       "      <td>-0.14277</td>\n",
       "      <td>-0.71126</td>\n",
       "      <td>-0.21575</td>\n",
       "      <td>CL6</td>\n",
       "    </tr>\n",
       "    <tr>\n",
       "      <th>1</th>\n",
       "      <td>0.49788</td>\n",
       "      <td>-0.48246</td>\n",
       "      <td>-0.05921</td>\n",
       "      <td>0.96082</td>\n",
       "      <td>-0.31685</td>\n",
       "      <td>-0.46725</td>\n",
       "      <td>0.80523</td>\n",
       "      <td>-0.84732</td>\n",
       "      <td>-1.62090</td>\n",
       "      <td>-1.01450</td>\n",
       "      <td>-1.37983</td>\n",
       "      <td>0.40148</td>\n",
       "      <td>CL6</td>\n",
       "    </tr>\n",
       "    <tr>\n",
       "      <th>2</th>\n",
       "      <td>-0.95197</td>\n",
       "      <td>0.48246</td>\n",
       "      <td>1.16365</td>\n",
       "      <td>0.96082</td>\n",
       "      <td>-0.31685</td>\n",
       "      <td>-0.14882</td>\n",
       "      <td>-0.80615</td>\n",
       "      <td>-0.01928</td>\n",
       "      <td>0.59042</td>\n",
       "      <td>0.58489</td>\n",
       "      <td>-1.37983</td>\n",
       "      <td>-1.18084</td>\n",
       "      <td>CL5</td>\n",
       "    </tr>\n",
       "    <tr>\n",
       "      <th>3</th>\n",
       "      <td>0.49788</td>\n",
       "      <td>0.48246</td>\n",
       "      <td>1.98437</td>\n",
       "      <td>0.96082</td>\n",
       "      <td>-0.31685</td>\n",
       "      <td>0.73545</td>\n",
       "      <td>-1.63340</td>\n",
       "      <td>-0.45174</td>\n",
       "      <td>-0.30172</td>\n",
       "      <td>1.30612</td>\n",
       "      <td>-0.21712</td>\n",
       "      <td>-0.21575</td>\n",
       "      <td>CL6</td>\n",
       "    </tr>\n",
       "    <tr>\n",
       "      <th>4</th>\n",
       "      <td>2.59171</td>\n",
       "      <td>0.48246</td>\n",
       "      <td>-1.22751</td>\n",
       "      <td>0.24923</td>\n",
       "      <td>-0.31685</td>\n",
       "      <td>-0.67825</td>\n",
       "      <td>-0.30033</td>\n",
       "      <td>-1.55521</td>\n",
       "      <td>2.03972</td>\n",
       "      <td>1.63088</td>\n",
       "      <td>-1.37983</td>\n",
       "      <td>-1.54858</td>\n",
       "      <td>CL6</td>\n",
       "    </tr>\n",
       "  </tbody>\n",
       "</table>\n",
       "</div>\n",
       "      <button class=\"colab-df-convert\" onclick=\"convertToInteractive('df-f01ec4c4-faf5-452d-b3ea-84f37306e1e2')\"\n",
       "              title=\"Convert this dataframe to an interactive table.\"\n",
       "              style=\"display:none;\">\n",
       "        \n",
       "  <svg xmlns=\"http://www.w3.org/2000/svg\" height=\"24px\"viewBox=\"0 0 24 24\"\n",
       "       width=\"24px\">\n",
       "    <path d=\"M0 0h24v24H0V0z\" fill=\"none\"/>\n",
       "    <path d=\"M18.56 5.44l.94 2.06.94-2.06 2.06-.94-2.06-.94-.94-2.06-.94 2.06-2.06.94zm-11 1L8.5 8.5l.94-2.06 2.06-.94-2.06-.94L8.5 2.5l-.94 2.06-2.06.94zm10 10l.94 2.06.94-2.06 2.06-.94-2.06-.94-.94-2.06-.94 2.06-2.06.94z\"/><path d=\"M17.41 7.96l-1.37-1.37c-.4-.4-.92-.59-1.43-.59-.52 0-1.04.2-1.43.59L10.3 9.45l-7.72 7.72c-.78.78-.78 2.05 0 2.83L4 21.41c.39.39.9.59 1.41.59.51 0 1.02-.2 1.41-.59l7.78-7.78 2.81-2.81c.8-.78.8-2.07 0-2.86zM5.41 20L4 18.59l7.72-7.72 1.47 1.35L5.41 20z\"/>\n",
       "  </svg>\n",
       "      </button>\n",
       "      \n",
       "  <style>\n",
       "    .colab-df-container {\n",
       "      display:flex;\n",
       "      flex-wrap:wrap;\n",
       "      gap: 12px;\n",
       "    }\n",
       "\n",
       "    .colab-df-convert {\n",
       "      background-color: #E8F0FE;\n",
       "      border: none;\n",
       "      border-radius: 50%;\n",
       "      cursor: pointer;\n",
       "      display: none;\n",
       "      fill: #1967D2;\n",
       "      height: 32px;\n",
       "      padding: 0 0 0 0;\n",
       "      width: 32px;\n",
       "    }\n",
       "\n",
       "    .colab-df-convert:hover {\n",
       "      background-color: #E2EBFA;\n",
       "      box-shadow: 0px 1px 2px rgba(60, 64, 67, 0.3), 0px 1px 3px 1px rgba(60, 64, 67, 0.15);\n",
       "      fill: #174EA6;\n",
       "    }\n",
       "\n",
       "    [theme=dark] .colab-df-convert {\n",
       "      background-color: #3B4455;\n",
       "      fill: #D2E3FC;\n",
       "    }\n",
       "\n",
       "    [theme=dark] .colab-df-convert:hover {\n",
       "      background-color: #434B5C;\n",
       "      box-shadow: 0px 1px 3px 1px rgba(0, 0, 0, 0.15);\n",
       "      filter: drop-shadow(0px 1px 2px rgba(0, 0, 0, 0.3));\n",
       "      fill: #FFFFFF;\n",
       "    }\n",
       "  </style>\n",
       "\n",
       "      <script>\n",
       "        const buttonEl =\n",
       "          document.querySelector('#df-f01ec4c4-faf5-452d-b3ea-84f37306e1e2 button.colab-df-convert');\n",
       "        buttonEl.style.display =\n",
       "          google.colab.kernel.accessAllowed ? 'block' : 'none';\n",
       "\n",
       "        async function convertToInteractive(key) {\n",
       "          const element = document.querySelector('#df-f01ec4c4-faf5-452d-b3ea-84f37306e1e2');\n",
       "          const dataTable =\n",
       "            await google.colab.kernel.invokeFunction('convertToInteractive',\n",
       "                                                     [key], {});\n",
       "          if (!dataTable) return;\n",
       "\n",
       "          const docLinkHtml = 'Like what you see? Visit the ' +\n",
       "            '<a target=\"_blank\" href=https://colab.research.google.com/notebooks/data_table.ipynb>data table notebook</a>'\n",
       "            + ' to learn more about interactive tables.';\n",
       "          element.innerHTML = '';\n",
       "          dataTable['output_type'] = 'display_data';\n",
       "          await google.colab.output.renderOutput(dataTable, element);\n",
       "          const docLink = document.createElement('div');\n",
       "          docLink.innerHTML = docLinkHtml;\n",
       "          element.appendChild(docLink);\n",
       "        }\n",
       "      </script>\n",
       "    </div>\n",
       "  </div>\n",
       "  "
      ],
      "text/plain": [
       "       Age   Gender  Education  Country  Ethnicity   Nscore   Escore   Oscore  \\\n",
       "0 -0.07854 -0.48246    1.98437  0.96082   -0.31685 -0.67825  1.93886  1.43533   \n",
       "1  0.49788 -0.48246   -0.05921  0.96082   -0.31685 -0.46725  0.80523 -0.84732   \n",
       "2 -0.95197  0.48246    1.16365  0.96082   -0.31685 -0.14882 -0.80615 -0.01928   \n",
       "3  0.49788  0.48246    1.98437  0.96082   -0.31685  0.73545 -1.63340 -0.45174   \n",
       "4  2.59171  0.48246   -1.22751  0.24923   -0.31685 -0.67825 -0.30033 -1.55521   \n",
       "\n",
       "    AScore   Cscore  Impulsive       SS Caff  \n",
       "0  0.76096 -0.14277   -0.71126 -0.21575  CL6  \n",
       "1 -1.62090 -1.01450   -1.37983  0.40148  CL6  \n",
       "2  0.59042  0.58489   -1.37983 -1.18084  CL5  \n",
       "3 -0.30172  1.30612   -0.21712 -0.21575  CL6  \n",
       "4  2.03972  1.63088   -1.37983 -1.54858  CL6  "
      ]
     },
     "execution_count": 18,
     "metadata": {},
     "output_type": "execute_result"
    }
   ],
   "source": [
    "df_caff.head()"
   ]
  },
  {
   "cell_type": "code",
   "execution_count": 28,
   "metadata": {
    "colab": {
     "base_uri": "https://localhost:8080/"
    },
    "id": "5mVh8wdh-9lx",
    "outputId": "d8707ffc-aba6-4ea1-cc53-37487d94e506"
   },
   "outputs": [
    {
     "name": "stdout",
     "output_type": "stream",
     "text": [
      "X_caff_train, y_caff_train:  (1507, 12) (1507,)\n",
      "X_caff_dev, y_caff_dev:  (1205, 12) (1205,)\n",
      "X_caff_val, y_caff_val:  (302, 12) (302,)\n",
      "X_caff_test, y_caff_test:  (377, 12) (377,)\n"
     ]
    }
   ],
   "source": [
    "X_caff = df_caff.drop('Caff', axis=1)\n",
    "y_caff = df_caff['Caff']\n",
    "\n",
    "X_caff_train, X_caff_test, y_caff_train, y_caff_test = train_test_split(X_caff, y_caff, test_size=0.2, random_state=42)\n",
    "\n",
    "X_caff_dev, X_caff_val, y_caff_dev, y_caff_val = train_test_split(X_caff_train, y_caff_train, test_size=0.2, random_state=42)\n",
    "\n",
    "print(\"X_caff_train, y_caff_train: \", X_caff_train.shape, y_caff_train.shape)\n",
    "print(\"X_caff_dev, y_caff_dev: \", X_caff_dev.shape, y_caff_dev.shape)\n",
    "print(\"X_caff_val, y_caff_val: \", X_caff_val.shape, y_caff_val.shape)\n",
    "print(\"X_caff_test, y_caff_test: \", X_caff_test.shape, y_caff_test.shape)"
   ]
  },
  {
   "cell_type": "code",
   "execution_count": 29,
   "metadata": {
    "colab": {
     "base_uri": "https://localhost:8080/"
    },
    "id": "vqWaL36N_eqI",
    "outputId": "c3b80f4e-ac6f-4f8c-daa4-1cdd9a8d7707"
   },
   "outputs": [
    {
     "data": {
      "text/plain": [
       "SVC(kernel='linear')"
      ]
     },
     "execution_count": 29,
     "metadata": {},
     "output_type": "execute_result"
    }
   ],
   "source": [
    "svm_classifier_dual_caff = SVC(kernel='linear')\n",
    "svm_classifier_dual_caff.fit(X_caff_dev, y_caff_dev)"
   ]
  },
  {
   "cell_type": "code",
   "execution_count": 30,
   "metadata": {
    "colab": {
     "base_uri": "https://localhost:8080/"
    },
    "id": "4Efk-egT_nBr",
    "outputId": "cdb43e01-1110-4271-df86-a226a3119d31"
   },
   "outputs": [
    {
     "name": "stdout",
     "output_type": "stream",
     "text": [
      "Accuracy on developemnt set:  0.7319502074688796\n",
      "Accuracy on validation set:  0.7516556291390728\n",
      "Accuracy on test set:  0.7294429708222812\n",
      "Test Confusion Matrix :  [[  0   0   0   0   0   0   6]\n",
      " [  0   0   0   0   0   0   3]\n",
      " [  0   0   0   0   0   0   6]\n",
      " [  0   0   0   0   0   0  13]\n",
      " [  0   0   0   0   0   0  24]\n",
      " [  0   0   0   0   0   0  50]\n",
      " [  0   0   0   0   0   0 275]]\n",
      "Test Macro F1 0.12050832602979843\n",
      "Test Micro F1 0.7294429708222812\n",
      "Test Weighted F1 0.6153276594359733\n"
     ]
    }
   ],
   "source": [
    "y_caff_dev_predict = svm_classifier_dual_caff.predict(X_caff_dev)\n",
    "y_caff_val_predict = svm_classifier_dual_caff.predict(X_caff_val)\n",
    "y_caff_test_predict = svm_classifier_dual_caff.predict(X_caff_test)\n",
    "\n",
    "print(\"Accuracy on developemnt set: \", metrics.accuracy_score(y_caff_dev, y_caff_dev_predict))\n",
    "print(\"Accuracy on validation set: \", metrics.accuracy_score(y_caff_val, y_caff_val_predict))\n",
    "print(\"Accuracy on test set: \", metrics.accuracy_score(y_caff_test, y_caff_test_predict))\n",
    "\n",
    "print(\"Test Confusion Matrix : \", metrics.confusion_matrix(y_caff_test, y_caff_test_predict))\n",
    "print('Test Macro F1', metrics.f1_score(y_caff_test, y_caff_test_predict, average='macro'))\n",
    "print('Test Micro F1', metrics.f1_score(y_caff_test, y_caff_test_predict, average='micro'))\n",
    "print('Test Weighted F1', metrics.f1_score(y_caff_test, y_caff_test_predict, average='weighted'))"
   ]
  },
  {
   "cell_type": "markdown",
   "metadata": {
    "id": "5bLcmXWzzYOy"
   },
   "source": [
    "**Classification for Caffeine using Neural Networks**"
   ]
  },
  {
   "cell_type": "code",
   "execution_count": 197,
   "metadata": {
    "id": "g-X3cX-BzfeF"
   },
   "outputs": [],
   "source": [
    "X_caff_dev_np = X_caff_dev.to_numpy()\n",
    "y_caff_dev_np = y_caff_dev.to_numpy().reshape(y_caff_dev.shape[0], 1)\n",
    "\n",
    "X_caff_val_np = X_caff_val.to_numpy()\n",
    "y_caff_val_np = y_caff_val.to_numpy().reshape(y_caff_val.shape[0], 1)\n",
    "\n",
    "X_caff_test_np = X_caff_test.to_numpy()\n",
    "y_caff_test_np = y_caff_test.to_numpy().reshape(y_caff_test.shape[0], 1)"
   ]
  },
  {
   "cell_type": "code",
   "execution_count": 198,
   "metadata": {
    "id": "RpjO0A2Ezfnx"
   },
   "outputs": [],
   "source": [
    "from sklearn.preprocessing import OneHotEncoder\n",
    "ohe = OneHotEncoder()\n",
    "\n",
    "y_caff_dev_ohe = ohe.fit_transform(y_caff_dev_np).toarray()\n",
    "y_caff_val_ohe = ohe.fit_transform(y_caff_val_np).toarray()\n",
    "y_caff_test_ohe = ohe.fit_transform(y_caff_test_np).toarray()"
   ]
  },
  {
   "cell_type": "code",
   "execution_count": 199,
   "metadata": {
    "id": "TabLFjgFzmoC"
   },
   "outputs": [],
   "source": [
    "from tensorflow.keras.models import Sequential\n",
    "from tensorflow.keras.layers import Dense\n",
    "from tensorflow.keras.layers import BatchNormalization\n",
    "from tensorflow.keras.layers import Dropout\n",
    "\n",
    "model_caff = Sequential()\n",
    "\n",
    "model_caff.add(Dense(64, input_dim=12, activation='relu'))\n",
    "model_caff.add(Dropout(0.2))\n",
    "model_caff.add(BatchNormalization())\n",
    "\n",
    "model_caff.add(Dense(32, activation='relu'))\n",
    "model_caff.add(Dropout(0.2))\n",
    "model_caff.add(BatchNormalization())\n",
    "\n",
    "model_caff.add(Dense(7, activation='softmax')) "
   ]
  },
  {
   "cell_type": "code",
   "execution_count": 200,
   "metadata": {
    "id": "hd-Qfg1FzqTq"
   },
   "outputs": [],
   "source": [
    "model_caff.compile(optimizer='adam', loss='categorical_crossentropy', metrics=['accuracy'])\n",
    "history_caff = model_caff.fit(X_caff_dev_np, y_caff_dev_ohe, epochs=50, verbose=0, batch_size=128, validation_data=(X_caff_val_np, y_caff_val_ohe))"
   ]
  },
  {
   "cell_type": "code",
   "execution_count": 206,
   "metadata": {
    "colab": {
     "base_uri": "https://localhost:8080/",
     "height": 299
    },
    "id": "3LRmFnuDztHC",
    "outputId": "6c5232da-0059-4ac0-aa41-c9401de0f71f"
   },
   "outputs": [
    {
     "data": {
      "text/plain": [
       "[]"
      ]
     },
     "execution_count": 206,
     "metadata": {},
     "output_type": "execute_result"
    },
    {
     "data": {
      "image/png": "[encoded data removed]",
      "text/plain": [
       "<Figure size 432x288 with 1 Axes>"
      ]
     },
     "metadata": {
      "needs_background": "light"
     },
     "output_type": "display_data"
    }
   ],
   "source": [
    "plt.plot(history_caff.history['loss'])\n",
    "plt.plot(history_caff.history['val_loss'])\n",
    "plt.title('Loss - Caffeine')\n",
    "plt.legend(['train_loss', 'validation_loss'])\n",
    "plt.plot()"
   ]
  },
  {
   "cell_type": "code",
   "execution_count": 207,
   "metadata": {
    "colab": {
     "base_uri": "https://localhost:8080/",
     "height": 299
    },
    "id": "STmj1MxVzyC2",
    "outputId": "29a22b9f-385f-463f-f8eb-a4a5273298f2"
   },
   "outputs": [
    {
     "data": {
      "text/plain": [
       "[]"
      ]
     },
     "execution_count": 207,
     "metadata": {},
     "output_type": "execute_result"
    },
    {
     "data": {
      "image/png": "[encoded data removed]",
      "text/plain": [
       "<Figure size 432x288 with 1 Axes>"
      ]
     },
     "metadata": {
      "needs_background": "light"
     },
     "output_type": "display_data"
    }
   ],
   "source": [
    "plt.plot(history_caff.history['accuracy'])\n",
    "plt.plot(history_caff.history['val_accuracy'])\n",
    "plt.title('Accuracy Caffeine')\n",
    "plt.legend(['train_acc', 'validation_acc'])\n",
    "plt.plot()"
   ]
  },
  {
   "cell_type": "code",
   "execution_count": 203,
   "metadata": {
    "colab": {
     "base_uri": "https://localhost:8080/"
    },
    "id": "uBD0IdfXzycC",
    "outputId": "8578d151-59bb-4ecf-fc15-0127887713ab"
   },
   "outputs": [
    {
     "name": "stdout",
     "output_type": "stream",
     "text": [
      "12/12 [==============================] - 0s 7ms/step - loss: 0.9794 - accuracy: 0.7268\n",
      "\n",
      " Accuracy is:  0.7267904281616211\n"
     ]
    }
   ],
   "source": [
    "score = model_caff.evaluate(X_caff_test_np, y_caff_test_ohe)\n",
    "print(\"\\n Accuracy is: \", score[1])"
   ]
  },
  {
   "cell_type": "markdown",
   "metadata": {
    "id": "EbU0_-x43idK"
   },
   "source": [
    "----------------------------------------------------------------------------"
   ]
  },
  {
   "cell_type": "markdown",
   "metadata": {
    "id": "NcqwemvD_56R"
   },
   "source": [
    "**Classification for Cannabis using SVM - Dual**"
   ]
  },
  {
   "cell_type": "code",
   "execution_count": 31,
   "metadata": {
    "colab": {
     "base_uri": "https://localhost:8080/",
     "height": 206
    },
    "id": "icuiKWt63G2b",
    "outputId": "cb709ea5-ad81-48f5-b05c-4efb21990172"
   },
   "outputs": [
    {
     "data": {
      "text/html": [
       "\n",
       "  <div id=\"df-3ed46731-8396-45c6-8fe3-b76b3ba380fc\">\n",
       "    <div class=\"colab-df-container\">\n",
       "      <div>\n",
       "<style scoped>\n",
       "    .dataframe tbody tr th:only-of-type {\n",
       "        vertical-align: middle;\n",
       "    }\n",
       "\n",
       "    .dataframe tbody tr th {\n",
       "        vertical-align: top;\n",
       "    }\n",
       "\n",
       "    .dataframe thead th {\n",
       "        text-align: right;\n",
       "    }\n",
       "</style>\n",
       "<table border=\"1\" class=\"dataframe\">\n",
       "  <thead>\n",
       "    <tr style=\"text-align: right;\">\n",
       "      <th></th>\n",
       "      <th>Age</th>\n",
       "      <th>Gender</th>\n",
       "      <th>Education</th>\n",
       "      <th>Country</th>\n",
       "      <th>Ethnicity</th>\n",
       "      <th>Nscore</th>\n",
       "      <th>Escore</th>\n",
       "      <th>Oscore</th>\n",
       "      <th>AScore</th>\n",
       "      <th>Cscore</th>\n",
       "      <th>Impulsive</th>\n",
       "      <th>SS</th>\n",
       "      <th>Cannabis</th>\n",
       "    </tr>\n",
       "  </thead>\n",
       "  <tbody>\n",
       "    <tr>\n",
       "      <th>0</th>\n",
       "      <td>-0.07854</td>\n",
       "      <td>-0.48246</td>\n",
       "      <td>1.98437</td>\n",
       "      <td>0.96082</td>\n",
       "      <td>-0.31685</td>\n",
       "      <td>-0.67825</td>\n",
       "      <td>1.93886</td>\n",
       "      <td>1.43533</td>\n",
       "      <td>0.76096</td>\n",
       "      <td>-0.14277</td>\n",
       "      <td>-0.71126</td>\n",
       "      <td>-0.21575</td>\n",
       "      <td>CL4</td>\n",
       "    </tr>\n",
       "    <tr>\n",
       "      <th>1</th>\n",
       "      <td>0.49788</td>\n",
       "      <td>-0.48246</td>\n",
       "      <td>-0.05921</td>\n",
       "      <td>0.96082</td>\n",
       "      <td>-0.31685</td>\n",
       "      <td>-0.46725</td>\n",
       "      <td>0.80523</td>\n",
       "      <td>-0.84732</td>\n",
       "      <td>-1.62090</td>\n",
       "      <td>-1.01450</td>\n",
       "      <td>-1.37983</td>\n",
       "      <td>0.40148</td>\n",
       "      <td>CL3</td>\n",
       "    </tr>\n",
       "    <tr>\n",
       "      <th>2</th>\n",
       "      <td>-0.95197</td>\n",
       "      <td>0.48246</td>\n",
       "      <td>1.16365</td>\n",
       "      <td>0.96082</td>\n",
       "      <td>-0.31685</td>\n",
       "      <td>-0.14882</td>\n",
       "      <td>-0.80615</td>\n",
       "      <td>-0.01928</td>\n",
       "      <td>0.59042</td>\n",
       "      <td>0.58489</td>\n",
       "      <td>-1.37983</td>\n",
       "      <td>-1.18084</td>\n",
       "      <td>CL2</td>\n",
       "    </tr>\n",
       "    <tr>\n",
       "      <th>3</th>\n",
       "      <td>0.49788</td>\n",
       "      <td>0.48246</td>\n",
       "      <td>1.98437</td>\n",
       "      <td>0.96082</td>\n",
       "      <td>-0.31685</td>\n",
       "      <td>0.73545</td>\n",
       "      <td>-1.63340</td>\n",
       "      <td>-0.45174</td>\n",
       "      <td>-0.30172</td>\n",
       "      <td>1.30612</td>\n",
       "      <td>-0.21712</td>\n",
       "      <td>-0.21575</td>\n",
       "      <td>CL3</td>\n",
       "    </tr>\n",
       "    <tr>\n",
       "      <th>4</th>\n",
       "      <td>2.59171</td>\n",
       "      <td>0.48246</td>\n",
       "      <td>-1.22751</td>\n",
       "      <td>0.24923</td>\n",
       "      <td>-0.31685</td>\n",
       "      <td>-0.67825</td>\n",
       "      <td>-0.30033</td>\n",
       "      <td>-1.55521</td>\n",
       "      <td>2.03972</td>\n",
       "      <td>1.63088</td>\n",
       "      <td>-1.37983</td>\n",
       "      <td>-1.54858</td>\n",
       "      <td>CL0</td>\n",
       "    </tr>\n",
       "  </tbody>\n",
       "</table>\n",
       "</div>\n",
       "      <button class=\"colab-df-convert\" onclick=\"convertToInteractive('df-3ed46731-8396-45c6-8fe3-b76b3ba380fc')\"\n",
       "              title=\"Convert this dataframe to an interactive table.\"\n",
       "              style=\"display:none;\">\n",
       "        \n",
       "  <svg xmlns=\"http://www.w3.org/2000/svg\" height=\"24px\"viewBox=\"0 0 24 24\"\n",
       "       width=\"24px\">\n",
       "    <path d=\"M0 0h24v24H0V0z\" fill=\"none\"/>\n",
       "    <path d=\"M18.56 5.44l.94 2.06.94-2.06 2.06-.94-2.06-.94-.94-2.06-.94 2.06-2.06.94zm-11 1L8.5 8.5l.94-2.06 2.06-.94-2.06-.94L8.5 2.5l-.94 2.06-2.06.94zm10 10l.94 2.06.94-2.06 2.06-.94-2.06-.94-.94-2.06-.94 2.06-2.06.94z\"/><path d=\"M17.41 7.96l-1.37-1.37c-.4-.4-.92-.59-1.43-.59-.52 0-1.04.2-1.43.59L10.3 9.45l-7.72 7.72c-.78.78-.78 2.05 0 2.83L4 21.41c.39.39.9.59 1.41.59.51 0 1.02-.2 1.41-.59l7.78-7.78 2.81-2.81c.8-.78.8-2.07 0-2.86zM5.41 20L4 18.59l7.72-7.72 1.47 1.35L5.41 20z\"/>\n",
       "  </svg>\n",
       "      </button>\n",
       "      \n",
       "  <style>\n",
       "    .colab-df-container {\n",
       "      display:flex;\n",
       "      flex-wrap:wrap;\n",
       "      gap: 12px;\n",
       "    }\n",
       "\n",
       "    .colab-df-convert {\n",
       "      background-color: #E8F0FE;\n",
       "      border: none;\n",
       "      border-radius: 50%;\n",
       "      cursor: pointer;\n",
       "      display: none;\n",
       "      fill: #1967D2;\n",
       "      height: 32px;\n",
       "      padding: 0 0 0 0;\n",
       "      width: 32px;\n",
       "    }\n",
       "\n",
       "    .colab-df-convert:hover {\n",
       "      background-color: #E2EBFA;\n",
       "      box-shadow: 0px 1px 2px rgba(60, 64, 67, 0.3), 0px 1px 3px 1px rgba(60, 64, 67, 0.15);\n",
       "      fill: #174EA6;\n",
       "    }\n",
       "\n",
       "    [theme=dark] .colab-df-convert {\n",
       "      background-color: #3B4455;\n",
       "      fill: #D2E3FC;\n",
       "    }\n",
       "\n",
       "    [theme=dark] .colab-df-convert:hover {\n",
       "      background-color: #434B5C;\n",
       "      box-shadow: 0px 1px 3px 1px rgba(0, 0, 0, 0.15);\n",
       "      filter: drop-shadow(0px 1px 2px rgba(0, 0, 0, 0.3));\n",
       "      fill: #FFFFFF;\n",
       "    }\n",
       "  </style>\n",
       "\n",
       "      <script>\n",
       "        const buttonEl =\n",
       "          document.querySelector('#df-3ed46731-8396-45c6-8fe3-b76b3ba380fc button.colab-df-convert');\n",
       "        buttonEl.style.display =\n",
       "          google.colab.kernel.accessAllowed ? 'block' : 'none';\n",
       "\n",
       "        async function convertToInteractive(key) {\n",
       "          const element = document.querySelector('#df-3ed46731-8396-45c6-8fe3-b76b3ba380fc');\n",
       "          const dataTable =\n",
       "            await google.colab.kernel.invokeFunction('convertToInteractive',\n",
       "                                                     [key], {});\n",
       "          if (!dataTable) return;\n",
       "\n",
       "          const docLinkHtml = 'Like what you see? Visit the ' +\n",
       "            '<a target=\"_blank\" href=https://colab.research.google.com/notebooks/data_table.ipynb>data table notebook</a>'\n",
       "            + ' to learn more about interactive tables.';\n",
       "          element.innerHTML = '';\n",
       "          dataTable['output_type'] = 'display_data';\n",
       "          await google.colab.output.renderOutput(dataTable, element);\n",
       "          const docLink = document.createElement('div');\n",
       "          docLink.innerHTML = docLinkHtml;\n",
       "          element.appendChild(docLink);\n",
       "        }\n",
       "      </script>\n",
       "    </div>\n",
       "  </div>\n",
       "  "
      ],
      "text/plain": [
       "       Age   Gender  Education  Country  Ethnicity   Nscore   Escore   Oscore  \\\n",
       "0 -0.07854 -0.48246    1.98437  0.96082   -0.31685 -0.67825  1.93886  1.43533   \n",
       "1  0.49788 -0.48246   -0.05921  0.96082   -0.31685 -0.46725  0.80523 -0.84732   \n",
       "2 -0.95197  0.48246    1.16365  0.96082   -0.31685 -0.14882 -0.80615 -0.01928   \n",
       "3  0.49788  0.48246    1.98437  0.96082   -0.31685  0.73545 -1.63340 -0.45174   \n",
       "4  2.59171  0.48246   -1.22751  0.24923   -0.31685 -0.67825 -0.30033 -1.55521   \n",
       "\n",
       "    AScore   Cscore  Impulsive       SS Cannabis  \n",
       "0  0.76096 -0.14277   -0.71126 -0.21575      CL4  \n",
       "1 -1.62090 -1.01450   -1.37983  0.40148      CL3  \n",
       "2  0.59042  0.58489   -1.37983 -1.18084      CL2  \n",
       "3 -0.30172  1.30612   -0.21712 -0.21575      CL3  \n",
       "4  2.03972  1.63088   -1.37983 -1.54858      CL0  "
      ]
     },
     "execution_count": 31,
     "metadata": {},
     "output_type": "execute_result"
    }
   ],
   "source": [
    "df_cannabis.head()"
   ]
  },
  {
   "cell_type": "code",
   "execution_count": 32,
   "metadata": {
    "colab": {
     "base_uri": "https://localhost:8080/"
    },
    "id": "3TYqlV2P__cW",
    "outputId": "42aeac1e-f81a-4237-a49e-1cc953f02f6d"
   },
   "outputs": [
    {
     "name": "stdout",
     "output_type": "stream",
     "text": [
      "X_cannabis_train, y_cannabis_train:  (1507, 12) (1507,)\n",
      "X_cannabis_dev, y_cannabis_dev:  (1205, 12) (1205,)\n",
      "X_cannabis_val, y_cannabis_val:  (302, 12) (302,)\n",
      "X_cannabis_test, y_cannabis_test:  (377, 12) (377,)\n"
     ]
    }
   ],
   "source": [
    "X_cannabis = df_cannabis.drop('Cannabis', axis=1)\n",
    "y_cannabis = df_cannabis['Cannabis']\n",
    "\n",
    "X_cannabis_train, X_cannabis_test, y_cannabis_train, y_cannabis_test = train_test_split(X_cannabis, y_cannabis, test_size=0.2, random_state=42)\n",
    "\n",
    "X_cannabis_dev, X_cannabis_val, y_cannabis_dev, y_cannabis_val = train_test_split(X_cannabis_train, y_cannabis_train, test_size=0.2, random_state=42)\n",
    "\n",
    "print(\"X_cannabis_train, y_cannabis_train: \", X_cannabis_train.shape, y_cannabis_train.shape)\n",
    "print(\"X_cannabis_dev, y_cannabis_dev: \", X_cannabis_dev.shape, y_cannabis_dev.shape)\n",
    "print(\"X_cannabis_val, y_cannabis_val: \", X_cannabis_val.shape, y_cannabis_val.shape)\n",
    "print(\"X_cannabis_test, y_cannabis_test: \", X_cannabis_test.shape, y_cannabis_test.shape)"
   ]
  },
  {
   "cell_type": "code",
   "execution_count": 33,
   "metadata": {
    "colab": {
     "base_uri": "https://localhost:8080/"
    },
    "id": "YkxzXo8ZAlJQ",
    "outputId": "88c11a21-e650-4ec1-aa54-a0b55560492c"
   },
   "outputs": [
    {
     "data": {
      "text/plain": [
       "SVC(kernel='linear')"
      ]
     },
     "execution_count": 33,
     "metadata": {},
     "output_type": "execute_result"
    }
   ],
   "source": [
    "svm_classifier_dual_cannabis = SVC(kernel='linear')\n",
    "svm_classifier_dual_cannabis.fit(X_cannabis_dev, y_cannabis_dev)"
   ]
  },
  {
   "cell_type": "code",
   "execution_count": 35,
   "metadata": {
    "colab": {
     "base_uri": "https://localhost:8080/"
    },
    "id": "R8lioOGdAuyz",
    "outputId": "0ff442ee-1fbb-4323-fa9b-1b8faac50f79"
   },
   "outputs": [
    {
     "name": "stdout",
     "output_type": "stream",
     "text": [
      "Accuracy on developemnt set:  0.4215767634854772\n",
      "Accuracy on validation set:  0.40397350993377484\n",
      "Accuracy on test set:  0.3978779840848806\n",
      "Test Confusion Matrix :  [[75  0  2  0  0  1  6]\n",
      " [36  1  1  0  0  0  2]\n",
      " [41  0  2  1  0  0 23]\n",
      " [12  0  3  0  0  0 27]\n",
      " [ 5  0  2  0  0  0 17]\n",
      " [ 3  0  0  1  0  0 29]\n",
      " [11  0  2  2  0  0 72]]\n",
      "Test Macro F1 0.1726770955880769\n",
      "Test Micro F1 0.3978779840848806\n",
      "Test Weighted F1 0.2657019013263514\n"
     ]
    }
   ],
   "source": [
    "y_cannabis_dev_predict = svm_classifier_dual_cannabis.predict(X_cannabis_dev)\n",
    "y_cannabis_val_predict = svm_classifier_dual_cannabis.predict(X_cannabis_val)\n",
    "y_cannabis_test_predict = svm_classifier_dual_cannabis.predict(X_cannabis_test)\n",
    "\n",
    "print(\"Accuracy on developemnt set: \", metrics.accuracy_score(y_cannabis_dev, y_cannabis_dev_predict))\n",
    "print(\"Accuracy on validation set: \", metrics.accuracy_score(y_cannabis_val, y_cannabis_val_predict))\n",
    "print(\"Accuracy on test set: \", metrics.accuracy_score(y_cannabis_test, y_cannabis_test_predict))\n",
    "\n",
    "print(\"Test Confusion Matrix : \", metrics.confusion_matrix(y_cannabis_test, y_cannabis_test_predict))\n",
    "print('Test Macro F1', metrics.f1_score(y_cannabis_test, y_cannabis_test_predict, average='macro'))\n",
    "print('Test Micro F1', metrics.f1_score(y_cannabis_test, y_cannabis_test_predict, average='micro'))\n",
    "print('Test Weighted F1', metrics.f1_score(y_cannabis_test, y_cannabis_test_predict, average='weighted'))"
   ]
  },
  {
   "cell_type": "markdown",
   "metadata": {
    "id": "M6sKozvT00WA"
   },
   "source": [
    "**Classification for Cannabis Using Neural Networks**"
   ]
  },
  {
   "cell_type": "code",
   "execution_count": 208,
   "metadata": {
    "id": "29wXOoQo05Yl"
   },
   "outputs": [],
   "source": [
    "X_cannabis_dev_np = X_cannabis_dev.to_numpy()\n",
    "y_cannabis_dev_np = y_cannabis_dev.to_numpy().reshape(y_cannabis_dev.shape[0], 1)\n",
    "\n",
    "X_cannabis_val_np = X_cannabis_val.to_numpy()\n",
    "y_cannabis_val_np = y_cannabis_val.to_numpy().reshape(y_cannabis_val.shape[0], 1)\n",
    "\n",
    "X_cannabis_test_np = X_cannabis_test.to_numpy()\n",
    "y_cannabis_test_np = y_cannabis_test.to_numpy().reshape(y_cannabis_test.shape[0], 1)"
   ]
  },
  {
   "cell_type": "code",
   "execution_count": 209,
   "metadata": {
    "id": "BgWFqkJn06Un"
   },
   "outputs": [],
   "source": [
    "from sklearn.preprocessing import OneHotEncoder\n",
    "ohe = OneHotEncoder()\n",
    "\n",
    "y_cannabis_dev_ohe = ohe.fit_transform(y_cannabis_dev_np).toarray()\n",
    "y_cannabis_val_ohe = ohe.fit_transform(y_cannabis_val_np).toarray()\n",
    "y_cannabis_test_ohe = ohe.fit_transform(y_cannabis_test_np).toarray()"
   ]
  },
  {
   "cell_type": "code",
   "execution_count": 210,
   "metadata": {
    "id": "fNAqzQbY06eZ"
   },
   "outputs": [],
   "source": [
    "from tensorflow.keras.models import Sequential\n",
    "from tensorflow.keras.layers import Dense\n",
    "from tensorflow.keras.layers import BatchNormalization\n",
    "from tensorflow.keras.layers import Dropout\n",
    "\n",
    "model_cannabis = Sequential()\n",
    "\n",
    "model_cannabis.add(Dense(64, input_dim=12, activation='relu'))\n",
    "model_cannabis.add(Dropout(0.2))\n",
    "model_cannabis.add(BatchNormalization())\n",
    "\n",
    "model_cannabis.add(Dense(32, activation='relu'))\n",
    "model_cannabis.add(Dropout(0.2))\n",
    "model_cannabis.add(BatchNormalization())\n",
    "\n",
    "model_cannabis.add(Dense(7, activation='softmax')) "
   ]
  },
  {
   "cell_type": "code",
   "execution_count": 211,
   "metadata": {
    "id": "A2dMGs7k06n8"
   },
   "outputs": [],
   "source": [
    "model_cannabis.compile(optimizer='adam', loss='categorical_crossentropy', metrics=['accuracy'])\n",
    "history_cannabis = model_cannabis.fit(X_cannabis_dev_np, y_cannabis_dev_ohe, epochs=50, verbose=0, batch_size=128, validation_data=(X_cannabis_val_np, y_cannabis_val_ohe))"
   ]
  },
  {
   "cell_type": "code",
   "execution_count": 212,
   "metadata": {
    "colab": {
     "base_uri": "https://localhost:8080/",
     "height": 299
    },
    "id": "cO1xsP-W06vR",
    "outputId": "503e9989-2b70-46d7-f3b6-15d821b82d22"
   },
   "outputs": [
    {
     "data": {
      "text/plain": [
       "[]"
      ]
     },
     "execution_count": 212,
     "metadata": {},
     "output_type": "execute_result"
    },
    {
     "data": {
      "image/png": "[encoded data removed]",
      "text/plain": [
       "<Figure size 432x288 with 1 Axes>"
      ]
     },
     "metadata": {
      "needs_background": "light"
     },
     "output_type": "display_data"
    }
   ],
   "source": [
    "plt.plot(history_cannabis.history['loss'])\n",
    "plt.plot(history_cannabis.history['val_loss'])\n",
    "plt.title('Loss - Cannabis')\n",
    "plt.legend(['train_loss', 'validation_loss'])\n",
    "plt.plot()"
   ]
  },
  {
   "cell_type": "code",
   "execution_count": 213,
   "metadata": {
    "colab": {
     "base_uri": "https://localhost:8080/",
     "height": 299
    },
    "id": "CU7V_9XE0618",
    "outputId": "b4c1ad86-cc40-411d-c9cd-2ceb06b89712"
   },
   "outputs": [
    {
     "data": {
      "text/plain": [
       "[]"
      ]
     },
     "execution_count": 213,
     "metadata": {},
     "output_type": "execute_result"
    },
    {
     "data": {
      "image/png": "[encoded data removed]",
      "text/plain": [
       "<Figure size 432x288 with 1 Axes>"
      ]
     },
     "metadata": {
      "needs_background": "light"
     },
     "output_type": "display_data"
    }
   ],
   "source": [
    "plt.plot(history_cannabis.history['accuracy'])\n",
    "plt.plot(history_cannabis.history['val_accuracy'])\n",
    "plt.title('Accuracy Cannabis')\n",
    "plt.legend(['train_acc', 'validation_acc'])\n",
    "plt.plot()"
   ]
  },
  {
   "cell_type": "code",
   "execution_count": 214,
   "metadata": {
    "colab": {
     "base_uri": "https://localhost:8080/"
    },
    "id": "Z5kth6tg068B",
    "outputId": "b99f1bf4-cabf-4a49-b1f3-f8f62be401ff"
   },
   "outputs": [
    {
     "name": "stdout",
     "output_type": "stream",
     "text": [
      "12/12 [==============================] - 0s 2ms/step - loss: 1.5156 - accuracy: 0.4111\n",
      "\n",
      " Accuracy is:  0.4111405909061432\n"
     ]
    }
   ],
   "source": [
    "score = model_cannabis.evaluate(X_cannabis_test_np, y_cannabis_test_ohe)\n",
    "print(\"\\n Accuracy is: \", score[1])"
   ]
  },
  {
   "cell_type": "markdown",
   "metadata": {
    "id": "A-ZQi4nT3qqS"
   },
   "source": [
    "----------------------------------------------------------------------------"
   ]
  },
  {
   "cell_type": "markdown",
   "metadata": {
    "id": "wam36xroA-Cc"
   },
   "source": [
    "**Classification for Chocolate using SVM - Dual**"
   ]
  },
  {
   "cell_type": "code",
   "execution_count": 36,
   "metadata": {
    "colab": {
     "base_uri": "https://localhost:8080/",
     "height": 206
    },
    "id": "jxUE6L543RVm",
    "outputId": "09259bce-43fc-4672-eb2a-7a40578df836"
   },
   "outputs": [
    {
     "data": {
      "text/html": [
       "\n",
       "  <div id=\"df-142a9282-bde6-4292-a50d-103fa851e865\">\n",
       "    <div class=\"colab-df-container\">\n",
       "      <div>\n",
       "<style scoped>\n",
       "    .dataframe tbody tr th:only-of-type {\n",
       "        vertical-align: middle;\n",
       "    }\n",
       "\n",
       "    .dataframe tbody tr th {\n",
       "        vertical-align: top;\n",
       "    }\n",
       "\n",
       "    .dataframe thead th {\n",
       "        text-align: right;\n",
       "    }\n",
       "</style>\n",
       "<table border=\"1\" class=\"dataframe\">\n",
       "  <thead>\n",
       "    <tr style=\"text-align: right;\">\n",
       "      <th></th>\n",
       "      <th>Age</th>\n",
       "      <th>Gender</th>\n",
       "      <th>Education</th>\n",
       "      <th>Country</th>\n",
       "      <th>Ethnicity</th>\n",
       "      <th>Nscore</th>\n",
       "      <th>Escore</th>\n",
       "      <th>Oscore</th>\n",
       "      <th>AScore</th>\n",
       "      <th>Cscore</th>\n",
       "      <th>Impulsive</th>\n",
       "      <th>SS</th>\n",
       "      <th>Choc</th>\n",
       "    </tr>\n",
       "  </thead>\n",
       "  <tbody>\n",
       "    <tr>\n",
       "      <th>0</th>\n",
       "      <td>-0.07854</td>\n",
       "      <td>-0.48246</td>\n",
       "      <td>1.98437</td>\n",
       "      <td>0.96082</td>\n",
       "      <td>-0.31685</td>\n",
       "      <td>-0.67825</td>\n",
       "      <td>1.93886</td>\n",
       "      <td>1.43533</td>\n",
       "      <td>0.76096</td>\n",
       "      <td>-0.14277</td>\n",
       "      <td>-0.71126</td>\n",
       "      <td>-0.21575</td>\n",
       "      <td>CL6</td>\n",
       "    </tr>\n",
       "    <tr>\n",
       "      <th>1</th>\n",
       "      <td>0.49788</td>\n",
       "      <td>-0.48246</td>\n",
       "      <td>-0.05921</td>\n",
       "      <td>0.96082</td>\n",
       "      <td>-0.31685</td>\n",
       "      <td>-0.46725</td>\n",
       "      <td>0.80523</td>\n",
       "      <td>-0.84732</td>\n",
       "      <td>-1.62090</td>\n",
       "      <td>-1.01450</td>\n",
       "      <td>-1.37983</td>\n",
       "      <td>0.40148</td>\n",
       "      <td>CL4</td>\n",
       "    </tr>\n",
       "    <tr>\n",
       "      <th>2</th>\n",
       "      <td>-0.95197</td>\n",
       "      <td>0.48246</td>\n",
       "      <td>1.16365</td>\n",
       "      <td>0.96082</td>\n",
       "      <td>-0.31685</td>\n",
       "      <td>-0.14882</td>\n",
       "      <td>-0.80615</td>\n",
       "      <td>-0.01928</td>\n",
       "      <td>0.59042</td>\n",
       "      <td>0.58489</td>\n",
       "      <td>-1.37983</td>\n",
       "      <td>-1.18084</td>\n",
       "      <td>CL4</td>\n",
       "    </tr>\n",
       "    <tr>\n",
       "      <th>3</th>\n",
       "      <td>0.49788</td>\n",
       "      <td>0.48246</td>\n",
       "      <td>1.98437</td>\n",
       "      <td>0.96082</td>\n",
       "      <td>-0.31685</td>\n",
       "      <td>0.73545</td>\n",
       "      <td>-1.63340</td>\n",
       "      <td>-0.45174</td>\n",
       "      <td>-0.30172</td>\n",
       "      <td>1.30612</td>\n",
       "      <td>-0.21712</td>\n",
       "      <td>-0.21575</td>\n",
       "      <td>CL6</td>\n",
       "    </tr>\n",
       "    <tr>\n",
       "      <th>4</th>\n",
       "      <td>2.59171</td>\n",
       "      <td>0.48246</td>\n",
       "      <td>-1.22751</td>\n",
       "      <td>0.24923</td>\n",
       "      <td>-0.31685</td>\n",
       "      <td>-0.67825</td>\n",
       "      <td>-0.30033</td>\n",
       "      <td>-1.55521</td>\n",
       "      <td>2.03972</td>\n",
       "      <td>1.63088</td>\n",
       "      <td>-1.37983</td>\n",
       "      <td>-1.54858</td>\n",
       "      <td>CL4</td>\n",
       "    </tr>\n",
       "  </tbody>\n",
       "</table>\n",
       "</div>\n",
       "      <button class=\"colab-df-convert\" onclick=\"convertToInteractive('df-142a9282-bde6-4292-a50d-103fa851e865')\"\n",
       "              title=\"Convert this dataframe to an interactive table.\"\n",
       "              style=\"display:none;\">\n",
       "        \n",
       "  <svg xmlns=\"http://www.w3.org/2000/svg\" height=\"24px\"viewBox=\"0 0 24 24\"\n",
       "       width=\"24px\">\n",
       "    <path d=\"M0 0h24v24H0V0z\" fill=\"none\"/>\n",
       "    <path d=\"M18.56 5.44l.94 2.06.94-2.06 2.06-.94-2.06-.94-.94-2.06-.94 2.06-2.06.94zm-11 1L8.5 8.5l.94-2.06 2.06-.94-2.06-.94L8.5 2.5l-.94 2.06-2.06.94zm10 10l.94 2.06.94-2.06 2.06-.94-2.06-.94-.94-2.06-.94 2.06-2.06.94z\"/><path d=\"M17.41 7.96l-1.37-1.37c-.4-.4-.92-.59-1.43-.59-.52 0-1.04.2-1.43.59L10.3 9.45l-7.72 7.72c-.78.78-.78 2.05 0 2.83L4 21.41c.39.39.9.59 1.41.59.51 0 1.02-.2 1.41-.59l7.78-7.78 2.81-2.81c.8-.78.8-2.07 0-2.86zM5.41 20L4 18.59l7.72-7.72 1.47 1.35L5.41 20z\"/>\n",
       "  </svg>\n",
       "      </button>\n",
       "      \n",
       "  <style>\n",
       "    .colab-df-container {\n",
       "      display:flex;\n",
       "      flex-wrap:wrap;\n",
       "      gap: 12px;\n",
       "    }\n",
       "\n",
       "    .colab-df-convert {\n",
       "      background-color: #E8F0FE;\n",
       "      border: none;\n",
       "      border-radius: 50%;\n",
       "      cursor: pointer;\n",
       "      display: none;\n",
       "      fill: #1967D2;\n",
       "      height: 32px;\n",
       "      padding: 0 0 0 0;\n",
       "      width: 32px;\n",
       "    }\n",
       "\n",
       "    .colab-df-convert:hover {\n",
       "      background-color: #E2EBFA;\n",
       "      box-shadow: 0px 1px 2px rgba(60, 64, 67, 0.3), 0px 1px 3px 1px rgba(60, 64, 67, 0.15);\n",
       "      fill: #174EA6;\n",
       "    }\n",
       "\n",
       "    [theme=dark] .colab-df-convert {\n",
       "      background-color: #3B4455;\n",
       "      fill: #D2E3FC;\n",
       "    }\n",
       "\n",
       "    [theme=dark] .colab-df-convert:hover {\n",
       "      background-color: #434B5C;\n",
       "      box-shadow: 0px 1px 3px 1px rgba(0, 0, 0, 0.15);\n",
       "      filter: drop-shadow(0px 1px 2px rgba(0, 0, 0, 0.3));\n",
       "      fill: #FFFFFF;\n",
       "    }\n",
       "  </style>\n",
       "\n",
       "      <script>\n",
       "        const buttonEl =\n",
       "          document.querySelector('#df-142a9282-bde6-4292-a50d-103fa851e865 button.colab-df-convert');\n",
       "        buttonEl.style.display =\n",
       "          google.colab.kernel.accessAllowed ? 'block' : 'none';\n",
       "\n",
       "        async function convertToInteractive(key) {\n",
       "          const element = document.querySelector('#df-142a9282-bde6-4292-a50d-103fa851e865');\n",
       "          const dataTable =\n",
       "            await google.colab.kernel.invokeFunction('convertToInteractive',\n",
       "                                                     [key], {});\n",
       "          if (!dataTable) return;\n",
       "\n",
       "          const docLinkHtml = 'Like what you see? Visit the ' +\n",
       "            '<a target=\"_blank\" href=https://colab.research.google.com/notebooks/data_table.ipynb>data table notebook</a>'\n",
       "            + ' to learn more about interactive tables.';\n",
       "          element.innerHTML = '';\n",
       "          dataTable['output_type'] = 'display_data';\n",
       "          await google.colab.output.renderOutput(dataTable, element);\n",
       "          const docLink = document.createElement('div');\n",
       "          docLink.innerHTML = docLinkHtml;\n",
       "          element.appendChild(docLink);\n",
       "        }\n",
       "      </script>\n",
       "    </div>\n",
       "  </div>\n",
       "  "
      ],
      "text/plain": [
       "       Age   Gender  Education  Country  Ethnicity   Nscore   Escore   Oscore  \\\n",
       "0 -0.07854 -0.48246    1.98437  0.96082   -0.31685 -0.67825  1.93886  1.43533   \n",
       "1  0.49788 -0.48246   -0.05921  0.96082   -0.31685 -0.46725  0.80523 -0.84732   \n",
       "2 -0.95197  0.48246    1.16365  0.96082   -0.31685 -0.14882 -0.80615 -0.01928   \n",
       "3  0.49788  0.48246    1.98437  0.96082   -0.31685  0.73545 -1.63340 -0.45174   \n",
       "4  2.59171  0.48246   -1.22751  0.24923   -0.31685 -0.67825 -0.30033 -1.55521   \n",
       "\n",
       "    AScore   Cscore  Impulsive       SS Choc  \n",
       "0  0.76096 -0.14277   -0.71126 -0.21575  CL6  \n",
       "1 -1.62090 -1.01450   -1.37983  0.40148  CL4  \n",
       "2  0.59042  0.58489   -1.37983 -1.18084  CL4  \n",
       "3 -0.30172  1.30612   -0.21712 -0.21575  CL6  \n",
       "4  2.03972  1.63088   -1.37983 -1.54858  CL4  "
      ]
     },
     "execution_count": 36,
     "metadata": {},
     "output_type": "execute_result"
    }
   ],
   "source": [
    "df_choc.head()"
   ]
  },
  {
   "cell_type": "code",
   "execution_count": 37,
   "metadata": {
    "colab": {
     "base_uri": "https://localhost:8080/"
    },
    "id": "nOY_DTMdBN7I",
    "outputId": "ea781c5a-095c-47ee-c557-07d79bd8f9e8"
   },
   "outputs": [
    {
     "name": "stdout",
     "output_type": "stream",
     "text": [
      "X_choc_train, y_choc_train:  (1507, 12) (1507,)\n",
      "X_choc_dev, y_choc_dev:  (1205, 12) (1205,)\n",
      "X_choc_val, y_choc_val:  (302, 12) (302,)\n",
      "X_choc_test, y_choc_test:  (377, 12) (377,)\n"
     ]
    }
   ],
   "source": [
    "X_choc = df_choc.drop('Choc', axis=1)\n",
    "y_choc = df_choc['Choc']\n",
    "\n",
    "X_choc_train, X_choc_test, y_choc_train, y_choc_test = train_test_split(X_choc, y_choc, test_size=0.2, random_state=42)\n",
    "\n",
    "X_choc_dev, X_choc_val, y_choc_dev, y_choc_val = train_test_split(X_choc_train, y_choc_train, test_size=0.2, random_state=42)\n",
    "\n",
    "print(\"X_choc_train, y_choc_train: \", X_choc_train.shape, y_choc_train.shape)\n",
    "print(\"X_choc_dev, y_choc_dev: \", X_choc_dev.shape, y_choc_dev.shape)\n",
    "print(\"X_choc_val, y_choc_val: \", X_choc_val.shape, y_choc_val.shape)\n",
    "print(\"X_choc_test, y_choc_test: \", X_choc_test.shape, y_choc_test.shape)"
   ]
  },
  {
   "cell_type": "code",
   "execution_count": 38,
   "metadata": {
    "colab": {
     "base_uri": "https://localhost:8080/"
    },
    "id": "U1FcBYR7Bv6P",
    "outputId": "da54fe6c-7cf0-4a92-8216-0c917adaa901"
   },
   "outputs": [
    {
     "data": {
      "text/plain": [
       "SVC(kernel='linear')"
      ]
     },
     "execution_count": 38,
     "metadata": {},
     "output_type": "execute_result"
    }
   ],
   "source": [
    "svm_classifier_dual_choc = SVC(kernel='linear')\n",
    "svm_classifier_dual_choc.fit(X_choc_dev, y_choc_dev)"
   ]
  },
  {
   "cell_type": "code",
   "execution_count": 39,
   "metadata": {
    "colab": {
     "base_uri": "https://localhost:8080/"
    },
    "id": "6r6MaukGB3tE",
    "outputId": "9e37fd3b-5370-4997-ced0-a3e1e6715877"
   },
   "outputs": [
    {
     "name": "stdout",
     "output_type": "stream",
     "text": [
      "Accuracy on developemnt set:  0.45311203319502075\n",
      "Accuracy on validation set:  0.38741721854304634\n",
      "Accuracy on test set:  0.44562334217506633\n",
      "Test Confusion Matrix :  [[  0   0   0   0   0   2   4]\n",
      " [  0   0   0   0   0   1   0]\n",
      " [  0   0   0   0   0   1   2]\n",
      " [  0   0   0   0   0   5   3]\n",
      " [  0   0   0   0   0  21  30]\n",
      " [  0   0   0   0   0  40  95]\n",
      " [  0   0   0   0   0  45 128]]\n",
      "Test Macro F1 0.12978653530377665\n",
      "Test Micro F1 0.44562334217506633\n",
      "Test Weighted F1 0.3846458733497972\n"
     ]
    }
   ],
   "source": [
    "y_choc_dev_predict = svm_classifier_dual_choc.predict(X_choc_dev)\n",
    "y_choc_val_predict = svm_classifier_dual_choc.predict(X_choc_val)\n",
    "y_choc_test_predict = svm_classifier_dual_choc.predict(X_choc_test)\n",
    "\n",
    "print(\"Accuracy on developemnt set: \", metrics.accuracy_score(y_choc_dev, y_choc_dev_predict))\n",
    "print(\"Accuracy on validation set: \", metrics.accuracy_score(y_choc_val, y_choc_val_predict))\n",
    "print(\"Accuracy on test set: \", metrics.accuracy_score(y_choc_test, y_choc_test_predict))\n",
    "\n",
    "print(\"Test Confusion Matrix : \", metrics.confusion_matrix(y_choc_test, y_choc_test_predict))\n",
    "print('Test Macro F1', metrics.f1_score(y_choc_test, y_choc_test_predict, average='macro'))\n",
    "print('Test Micro F1', metrics.f1_score(y_choc_test, y_choc_test_predict, average='micro'))\n",
    "print('Test Weighted F1', metrics.f1_score(y_choc_test, y_choc_test_predict, average='weighted'))"
   ]
  },
  {
   "cell_type": "markdown",
   "metadata": {
    "id": "pjK2v0gN2Ir7"
   },
   "source": [
    "**Classification for Chocolate using Neural Networks**"
   ]
  },
  {
   "cell_type": "code",
   "execution_count": 215,
   "metadata": {
    "id": "CEWVNR0q2M3M"
   },
   "outputs": [],
   "source": [
    "X_choc_dev_np = X_choc_dev.to_numpy()\n",
    "y_choc_dev_np = y_choc_dev.to_numpy().reshape(y_choc_dev.shape[0], 1)\n",
    "\n",
    "X_choc_val_np = X_choc_val.to_numpy()\n",
    "y_choc_val_np = y_choc_val.to_numpy().reshape(y_choc_val.shape[0], 1)\n",
    "\n",
    "X_choc_test_np = X_choc_test.to_numpy()\n",
    "y_choc_test_np = y_choc_test.to_numpy().reshape(y_choc_test.shape[0], 1)"
   ]
  },
  {
   "cell_type": "code",
   "execution_count": 216,
   "metadata": {
    "id": "0dX57GLo2M7x"
   },
   "outputs": [],
   "source": [
    "from sklearn.preprocessing import OneHotEncoder\n",
    "ohe = OneHotEncoder()\n",
    "\n",
    "y_choc_dev_ohe = ohe.fit_transform(y_choc_dev_np).toarray()\n",
    "y_choc_val_ohe = ohe.fit_transform(y_choc_val_np).toarray()\n",
    "y_choc_test_ohe = ohe.fit_transform(y_choc_test_np).toarray()"
   ]
  },
  {
   "cell_type": "code",
   "execution_count": 217,
   "metadata": {
    "id": "DnyD7G6V2NAe"
   },
   "outputs": [],
   "source": [
    "from tensorflow.keras.models import Sequential\n",
    "from tensorflow.keras.layers import Dense\n",
    "from tensorflow.keras.layers import BatchNormalization\n",
    "from tensorflow.keras.layers import Dropout\n",
    "\n",
    "model_choc = Sequential()\n",
    "\n",
    "model_choc.add(Dense(64, input_dim=12, activation='relu'))\n",
    "model_choc.add(Dropout(0.2))\n",
    "model_choc.add(BatchNormalization())\n",
    "\n",
    "model_choc.add(Dense(32, activation='relu'))\n",
    "model_choc.add(Dropout(0.2))\n",
    "model_choc.add(BatchNormalization())\n",
    "\n",
    "model_choc.add(Dense(7, activation='softmax')) "
   ]
  },
  {
   "cell_type": "code",
   "execution_count": 218,
   "metadata": {
    "id": "K5pkWyiq2NG7"
   },
   "outputs": [],
   "source": [
    "model_choc.compile(optimizer='adam', loss='categorical_crossentropy', metrics=['accuracy'])\n",
    "history_choc = model_choc.fit(X_choc_dev_np, y_choc_dev_ohe, epochs=50, verbose=0, batch_size=128, validation_data=(X_choc_val_np, y_choc_val_ohe))"
   ]
  },
  {
   "cell_type": "code",
   "execution_count": 219,
   "metadata": {
    "colab": {
     "base_uri": "https://localhost:8080/",
     "height": 299
    },
    "id": "KA1JdxiI2NNZ",
    "outputId": "04ebcdea-f7d0-44d1-fc29-46fdbf0ae1d8"
   },
   "outputs": [
    {
     "data": {
      "text/plain": [
       "[]"
      ]
     },
     "execution_count": 219,
     "metadata": {},
     "output_type": "execute_result"
    },
    {
     "data": {
      "image/png": "[encoded data removed]",
      "text/plain": [
       "<Figure size 432x288 with 1 Axes>"
      ]
     },
     "metadata": {
      "needs_background": "light"
     },
     "output_type": "display_data"
    }
   ],
   "source": [
    "plt.plot(history_cannabis.history['loss'])\n",
    "plt.plot(history_cannabis.history['val_loss'])\n",
    "plt.title('Loss - Chocolate')\n",
    "plt.legend(['train_loss', 'validation_loss'])\n",
    "plt.plot()"
   ]
  },
  {
   "cell_type": "code",
   "execution_count": 220,
   "metadata": {
    "colab": {
     "base_uri": "https://localhost:8080/",
     "height": 299
    },
    "id": "ZdVJmOx22NTM",
    "outputId": "9f158933-ab1a-4d28-8d3b-d5526ff052ec"
   },
   "outputs": [
    {
     "data": {
      "text/plain": [
       "[]"
      ]
     },
     "execution_count": 220,
     "metadata": {},
     "output_type": "execute_result"
    },
    {
     "data": {
      "image/png": "[encoded data removed]",
      "text/plain": [
       "<Figure size 432x288 with 1 Axes>"
      ]
     },
     "metadata": {
      "needs_background": "light"
     },
     "output_type": "display_data"
    }
   ],
   "source": [
    "plt.plot(history_cannabis.history['accuracy'])\n",
    "plt.plot(history_cannabis.history['val_accuracy'])\n",
    "plt.title('Accuracy - Chocolate')\n",
    "plt.legend(['train_acc', 'validation_acc'])\n",
    "plt.plot()"
   ]
  },
  {
   "cell_type": "code",
   "execution_count": 221,
   "metadata": {
    "colab": {
     "base_uri": "https://localhost:8080/"
    },
    "id": "f-8EurMV2NYa",
    "outputId": "f7d732a7-6c2d-4908-aabb-6edc735e852d"
   },
   "outputs": [
    {
     "name": "stdout",
     "output_type": "stream",
     "text": [
      "12/12 [==============================] - 0s 2ms/step - loss: 1.2378 - accuracy: 0.4430\n",
      "\n",
      " Accuracy is:  0.44297081232070923\n"
     ]
    }
   ],
   "source": [
    "score = model_choc.evaluate(X_choc_test_np, y_choc_test_ohe)\n",
    "print(\"\\n Accuracy is: \", score[1])"
   ]
  },
  {
   "cell_type": "markdown",
   "metadata": {
    "id": "XHbdPAPD3yDA"
   },
   "source": [
    "----------------------------------------------------------------------------"
   ]
  },
  {
   "cell_type": "markdown",
   "metadata": {
    "id": "GNEx_Ps8CPCT"
   },
   "source": [
    "**Classsification for Coke using SVM - Dual**"
   ]
  },
  {
   "cell_type": "code",
   "execution_count": 40,
   "metadata": {
    "colab": {
     "base_uri": "https://localhost:8080/",
     "height": 206
    },
    "id": "-Qc-sKOu3-hw",
    "outputId": "9444804b-a4bf-434f-edd8-993df47b9346"
   },
   "outputs": [
    {
     "data": {
      "text/html": [
       "\n",
       "  <div id=\"df-2596d64c-a86d-4591-88b8-de57fd298d94\">\n",
       "    <div class=\"colab-df-container\">\n",
       "      <div>\n",
       "<style scoped>\n",
       "    .dataframe tbody tr th:only-of-type {\n",
       "        vertical-align: middle;\n",
       "    }\n",
       "\n",
       "    .dataframe tbody tr th {\n",
       "        vertical-align: top;\n",
       "    }\n",
       "\n",
       "    .dataframe thead th {\n",
       "        text-align: right;\n",
       "    }\n",
       "</style>\n",
       "<table border=\"1\" class=\"dataframe\">\n",
       "  <thead>\n",
       "    <tr style=\"text-align: right;\">\n",
       "      <th></th>\n",
       "      <th>Age</th>\n",
       "      <th>Gender</th>\n",
       "      <th>Education</th>\n",
       "      <th>Country</th>\n",
       "      <th>Ethnicity</th>\n",
       "      <th>Nscore</th>\n",
       "      <th>Escore</th>\n",
       "      <th>Oscore</th>\n",
       "      <th>AScore</th>\n",
       "      <th>Cscore</th>\n",
       "      <th>Impulsive</th>\n",
       "      <th>SS</th>\n",
       "      <th>Coke</th>\n",
       "    </tr>\n",
       "  </thead>\n",
       "  <tbody>\n",
       "    <tr>\n",
       "      <th>0</th>\n",
       "      <td>-0.07854</td>\n",
       "      <td>-0.48246</td>\n",
       "      <td>1.98437</td>\n",
       "      <td>0.96082</td>\n",
       "      <td>-0.31685</td>\n",
       "      <td>-0.67825</td>\n",
       "      <td>1.93886</td>\n",
       "      <td>1.43533</td>\n",
       "      <td>0.76096</td>\n",
       "      <td>-0.14277</td>\n",
       "      <td>-0.71126</td>\n",
       "      <td>-0.21575</td>\n",
       "      <td>CL3</td>\n",
       "    </tr>\n",
       "    <tr>\n",
       "      <th>1</th>\n",
       "      <td>0.49788</td>\n",
       "      <td>-0.48246</td>\n",
       "      <td>-0.05921</td>\n",
       "      <td>0.96082</td>\n",
       "      <td>-0.31685</td>\n",
       "      <td>-0.46725</td>\n",
       "      <td>0.80523</td>\n",
       "      <td>-0.84732</td>\n",
       "      <td>-1.62090</td>\n",
       "      <td>-1.01450</td>\n",
       "      <td>-1.37983</td>\n",
       "      <td>0.40148</td>\n",
       "      <td>CL0</td>\n",
       "    </tr>\n",
       "    <tr>\n",
       "      <th>2</th>\n",
       "      <td>-0.95197</td>\n",
       "      <td>0.48246</td>\n",
       "      <td>1.16365</td>\n",
       "      <td>0.96082</td>\n",
       "      <td>-0.31685</td>\n",
       "      <td>-0.14882</td>\n",
       "      <td>-0.80615</td>\n",
       "      <td>-0.01928</td>\n",
       "      <td>0.59042</td>\n",
       "      <td>0.58489</td>\n",
       "      <td>-1.37983</td>\n",
       "      <td>-1.18084</td>\n",
       "      <td>CL2</td>\n",
       "    </tr>\n",
       "    <tr>\n",
       "      <th>3</th>\n",
       "      <td>0.49788</td>\n",
       "      <td>0.48246</td>\n",
       "      <td>1.98437</td>\n",
       "      <td>0.96082</td>\n",
       "      <td>-0.31685</td>\n",
       "      <td>0.73545</td>\n",
       "      <td>-1.63340</td>\n",
       "      <td>-0.45174</td>\n",
       "      <td>-0.30172</td>\n",
       "      <td>1.30612</td>\n",
       "      <td>-0.21712</td>\n",
       "      <td>-0.21575</td>\n",
       "      <td>CL0</td>\n",
       "    </tr>\n",
       "    <tr>\n",
       "      <th>4</th>\n",
       "      <td>2.59171</td>\n",
       "      <td>0.48246</td>\n",
       "      <td>-1.22751</td>\n",
       "      <td>0.24923</td>\n",
       "      <td>-0.31685</td>\n",
       "      <td>-0.67825</td>\n",
       "      <td>-0.30033</td>\n",
       "      <td>-1.55521</td>\n",
       "      <td>2.03972</td>\n",
       "      <td>1.63088</td>\n",
       "      <td>-1.37983</td>\n",
       "      <td>-1.54858</td>\n",
       "      <td>CL0</td>\n",
       "    </tr>\n",
       "  </tbody>\n",
       "</table>\n",
       "</div>\n",
       "      <button class=\"colab-df-convert\" onclick=\"convertToInteractive('df-2596d64c-a86d-4591-88b8-de57fd298d94')\"\n",
       "              title=\"Convert this dataframe to an interactive table.\"\n",
       "              style=\"display:none;\">\n",
       "        \n",
       "  <svg xmlns=\"http://www.w3.org/2000/svg\" height=\"24px\"viewBox=\"0 0 24 24\"\n",
       "       width=\"24px\">\n",
       "    <path d=\"M0 0h24v24H0V0z\" fill=\"none\"/>\n",
       "    <path d=\"M18.56 5.44l.94 2.06.94-2.06 2.06-.94-2.06-.94-.94-2.06-.94 2.06-2.06.94zm-11 1L8.5 8.5l.94-2.06 2.06-.94-2.06-.94L8.5 2.5l-.94 2.06-2.06.94zm10 10l.94 2.06.94-2.06 2.06-.94-2.06-.94-.94-2.06-.94 2.06-2.06.94z\"/><path d=\"M17.41 7.96l-1.37-1.37c-.4-.4-.92-.59-1.43-.59-.52 0-1.04.2-1.43.59L10.3 9.45l-7.72 7.72c-.78.78-.78 2.05 0 2.83L4 21.41c.39.39.9.59 1.41.59.51 0 1.02-.2 1.41-.59l7.78-7.78 2.81-2.81c.8-.78.8-2.07 0-2.86zM5.41 20L4 18.59l7.72-7.72 1.47 1.35L5.41 20z\"/>\n",
       "  </svg>\n",
       "      </button>\n",
       "      \n",
       "  <style>\n",
       "    .colab-df-container {\n",
       "      display:flex;\n",
       "      flex-wrap:wrap;\n",
       "      gap: 12px;\n",
       "    }\n",
       "\n",
       "    .colab-df-convert {\n",
       "      background-color: #E8F0FE;\n",
       "      border: none;\n",
       "      border-radius: 50%;\n",
       "      cursor: pointer;\n",
       "      display: none;\n",
       "      fill: #1967D2;\n",
       "      height: 32px;\n",
       "      padding: 0 0 0 0;\n",
       "      width: 32px;\n",
       "    }\n",
       "\n",
       "    .colab-df-convert:hover {\n",
       "      background-color: #E2EBFA;\n",
       "      box-shadow: 0px 1px 2px rgba(60, 64, 67, 0.3), 0px 1px 3px 1px rgba(60, 64, 67, 0.15);\n",
       "      fill: #174EA6;\n",
       "    }\n",
       "\n",
       "    [theme=dark] .colab-df-convert {\n",
       "      background-color: #3B4455;\n",
       "      fill: #D2E3FC;\n",
       "    }\n",
       "\n",
       "    [theme=dark] .colab-df-convert:hover {\n",
       "      background-color: #434B5C;\n",
       "      box-shadow: 0px 1px 3px 1px rgba(0, 0, 0, 0.15);\n",
       "      filter: drop-shadow(0px 1px 2px rgba(0, 0, 0, 0.3));\n",
       "      fill: #FFFFFF;\n",
       "    }\n",
       "  </style>\n",
       "\n",
       "      <script>\n",
       "        const buttonEl =\n",
       "          document.querySelector('#df-2596d64c-a86d-4591-88b8-de57fd298d94 button.colab-df-convert');\n",
       "        buttonEl.style.display =\n",
       "          google.colab.kernel.accessAllowed ? 'block' : 'none';\n",
       "\n",
       "        async function convertToInteractive(key) {\n",
       "          const element = document.querySelector('#df-2596d64c-a86d-4591-88b8-de57fd298d94');\n",
       "          const dataTable =\n",
       "            await google.colab.kernel.invokeFunction('convertToInteractive',\n",
       "                                                     [key], {});\n",
       "          if (!dataTable) return;\n",
       "\n",
       "          const docLinkHtml = 'Like what you see? Visit the ' +\n",
       "            '<a target=\"_blank\" href=https://colab.research.google.com/notebooks/data_table.ipynb>data table notebook</a>'\n",
       "            + ' to learn more about interactive tables.';\n",
       "          element.innerHTML = '';\n",
       "          dataTable['output_type'] = 'display_data';\n",
       "          await google.colab.output.renderOutput(dataTable, element);\n",
       "          const docLink = document.createElement('div');\n",
       "          docLink.innerHTML = docLinkHtml;\n",
       "          element.appendChild(docLink);\n",
       "        }\n",
       "      </script>\n",
       "    </div>\n",
       "  </div>\n",
       "  "
      ],
      "text/plain": [
       "       Age   Gender  Education  Country  Ethnicity   Nscore   Escore   Oscore  \\\n",
       "0 -0.07854 -0.48246    1.98437  0.96082   -0.31685 -0.67825  1.93886  1.43533   \n",
       "1  0.49788 -0.48246   -0.05921  0.96082   -0.31685 -0.46725  0.80523 -0.84732   \n",
       "2 -0.95197  0.48246    1.16365  0.96082   -0.31685 -0.14882 -0.80615 -0.01928   \n",
       "3  0.49788  0.48246    1.98437  0.96082   -0.31685  0.73545 -1.63340 -0.45174   \n",
       "4  2.59171  0.48246   -1.22751  0.24923   -0.31685 -0.67825 -0.30033 -1.55521   \n",
       "\n",
       "    AScore   Cscore  Impulsive       SS Coke  \n",
       "0  0.76096 -0.14277   -0.71126 -0.21575  CL3  \n",
       "1 -1.62090 -1.01450   -1.37983  0.40148  CL0  \n",
       "2  0.59042  0.58489   -1.37983 -1.18084  CL2  \n",
       "3 -0.30172  1.30612   -0.21712 -0.21575  CL0  \n",
       "4  2.03972  1.63088   -1.37983 -1.54858  CL0  "
      ]
     },
     "execution_count": 40,
     "metadata": {},
     "output_type": "execute_result"
    }
   ],
   "source": [
    "df_coke.head()"
   ]
  },
  {
   "cell_type": "code",
   "execution_count": 41,
   "metadata": {
    "colab": {
     "base_uri": "https://localhost:8080/"
    },
    "id": "EUfcvt8gCVcW",
    "outputId": "584fa23f-579a-449d-dfca-36ffc5b9d0c5"
   },
   "outputs": [
    {
     "name": "stdout",
     "output_type": "stream",
     "text": [
      "X_coke_train, y_coke_train:  (1507, 12) (1507,)\n",
      "X_coke_dev, y_coke_dev:  (1205, 12) (1205,)\n",
      "X_coke_val, y_coke_val:  (302, 12) (302,)\n",
      "X_coke_test, y_coke_test:  (377, 12) (377,)\n"
     ]
    }
   ],
   "source": [
    "X_coke = df_coke.drop('Coke', axis=1)\n",
    "y_coke = df_coke['Coke']\n",
    "\n",
    "X_coke_train, X_coke_test, y_coke_train, y_coke_test = train_test_split(X_coke, y_coke, test_size=0.2, random_state=42)\n",
    "\n",
    "X_coke_dev, X_coke_val, y_coke_dev, y_coke_val = train_test_split(X_coke_train, y_coke_train, test_size=0.2, random_state=42)\n",
    "\n",
    "print(\"X_coke_train, y_coke_train: \", X_coke_train.shape, y_coke_train.shape)\n",
    "print(\"X_coke_dev, y_coke_dev: \", X_coke_dev.shape, y_coke_dev.shape)\n",
    "print(\"X_coke_val, y_coke_val: \", X_coke_val.shape, y_coke_val.shape)\n",
    "print(\"X_coke_test, y_coke_test: \", X_coke_test.shape, y_coke_test.shape)"
   ]
  },
  {
   "cell_type": "code",
   "execution_count": 44,
   "metadata": {
    "colab": {
     "base_uri": "https://localhost:8080/"
    },
    "id": "C9GEq5KAC0O8",
    "outputId": "f3cf8be1-c0a0-423e-bef5-29f63b589c1f"
   },
   "outputs": [
    {
     "data": {
      "text/plain": [
       "SVC(kernel='linear')"
      ]
     },
     "execution_count": 44,
     "metadata": {},
     "output_type": "execute_result"
    }
   ],
   "source": [
    "svm_classifier_dual_coke = SVC(kernel='linear')\n",
    "svm_classifier_dual_coke.fit(X_coke_dev, y_coke_dev)"
   ]
  },
  {
   "cell_type": "code",
   "execution_count": 45,
   "metadata": {
    "colab": {
     "base_uri": "https://localhost:8080/"
    },
    "id": "BT4tklt5C6t3",
    "outputId": "27d916a6-a520-498a-f3ea-3a212273af24"
   },
   "outputs": [
    {
     "name": "stdout",
     "output_type": "stream",
     "text": [
      "Accuracy on developemnt set:  0.5510373443983403\n",
      "Accuracy on validation set:  0.5298013245033113\n",
      "Accuracy on test set:  0.5649867374005305\n",
      "Test Confusion Matrix :  [[213   0   0   0   0   0   0]\n",
      " [ 32   0   0   0   0   0   0]\n",
      " [ 50   0   0   0   0   0   0]\n",
      " [ 51   0   0   0   0   0   0]\n",
      " [ 24   0   0   0   0   0   0]\n",
      " [  5   0   0   0   0   0   0]\n",
      " [  2   0   0   0   0   0   0]]\n",
      "Test Macro F1 0.10314769975786924\n",
      "Test Micro F1 0.5649867374005305\n",
      "Test Weighted F1 0.40793957649597623\n"
     ]
    }
   ],
   "source": [
    "y_coke_dev_predict = svm_classifier_dual_coke.predict(X_coke_dev)\n",
    "y_coke_val_predict = svm_classifier_dual_coke.predict(X_coke_val)\n",
    "y_coke_test_predict = svm_classifier_dual_coke.predict(X_coke_test)\n",
    "\n",
    "print(\"Accuracy on developemnt set: \", metrics.accuracy_score(y_coke_dev, y_coke_dev_predict))\n",
    "print(\"Accuracy on validation set: \", metrics.accuracy_score(y_coke_val, y_coke_val_predict))\n",
    "print(\"Accuracy on test set: \", metrics.accuracy_score(y_coke_test, y_coke_test_predict))\n",
    "\n",
    "print(\"Test Confusion Matrix : \", metrics.confusion_matrix(y_coke_test, y_coke_test_predict))\n",
    "print('Test Macro F1', metrics.f1_score(y_coke_test, y_coke_test_predict, average='macro'))\n",
    "print('Test Micro F1', metrics.f1_score(y_coke_test, y_coke_test_predict, average='micro'))\n",
    "print('Test Weighted F1', metrics.f1_score(y_coke_test, y_coke_test_predict, average='weighted'))"
   ]
  },
  {
   "cell_type": "markdown",
   "metadata": {
    "id": "PD3hteBn33ai"
   },
   "source": [
    "**Classification for Coke using Neural Netowrks**"
   ]
  },
  {
   "cell_type": "code",
   "execution_count": 222,
   "metadata": {
    "id": "jBDRN8Xs3_HB"
   },
   "outputs": [],
   "source": [
    "X_coke_dev_np = X_coke_dev.to_numpy()\n",
    "y_coke_dev_np = y_coke_dev.to_numpy().reshape(y_coke_dev.shape[0], 1)\n",
    "\n",
    "X_coke_val_np = X_coke_val.to_numpy()\n",
    "y_coke_val_np = y_coke_val.to_numpy().reshape(y_coke_val.shape[0], 1)\n",
    "\n",
    "X_coke_test_np = X_coke_test.to_numpy()\n",
    "y_coke_test_np = y_coke_test.to_numpy().reshape(y_coke_test.shape[0], 1)"
   ]
  },
  {
   "cell_type": "code",
   "execution_count": 223,
   "metadata": {
    "id": "K5_Mf6WK3_Lz"
   },
   "outputs": [],
   "source": [
    "from sklearn.preprocessing import OneHotEncoder\n",
    "ohe = OneHotEncoder()\n",
    "\n",
    "y_coke_dev_ohe = ohe.fit_transform(y_coke_dev_np).toarray()\n",
    "y_coke_val_ohe = ohe.fit_transform(y_coke_val_np).toarray()\n",
    "y_coke_test_ohe = ohe.fit_transform(y_coke_test_np).toarray()"
   ]
  },
  {
   "cell_type": "code",
   "execution_count": 224,
   "metadata": {
    "id": "URTpHTjK3_RS"
   },
   "outputs": [],
   "source": [
    "from tensorflow.keras.models import Sequential\n",
    "from tensorflow.keras.layers import Dense\n",
    "from tensorflow.keras.layers import BatchNormalization\n",
    "from tensorflow.keras.layers import Dropout\n",
    "\n",
    "model_coke = Sequential()\n",
    "\n",
    "model_coke.add(Dense(64, input_dim=12, activation='relu'))\n",
    "model_coke.add(Dropout(0.2))\n",
    "model_coke.add(BatchNormalization())\n",
    "\n",
    "model_coke.add(Dense(32, activation='relu'))\n",
    "model_coke.add(Dropout(0.2))\n",
    "model_coke.add(BatchNormalization())\n",
    "\n",
    "model_coke.add(Dense(7, activation='softmax')) "
   ]
  },
  {
   "cell_type": "code",
   "execution_count": 225,
   "metadata": {
    "id": "CzRUleiJ3_Ww"
   },
   "outputs": [],
   "source": [
    "model_coke.compile(optimizer='adam', loss='categorical_crossentropy', metrics=['accuracy'])\n",
    "history_coke = model_coke.fit(X_coke_dev_np, y_coke_dev_ohe, epochs=50, verbose=0, batch_size=128, validation_data=(X_coke_val_np, y_coke_val_ohe))"
   ]
  },
  {
   "cell_type": "code",
   "execution_count": 226,
   "metadata": {
    "colab": {
     "base_uri": "https://localhost:8080/",
     "height": 299
    },
    "id": "ppD9sXWv3_ct",
    "outputId": "b9112732-35d6-415d-c2cc-8a7c50447001"
   },
   "outputs": [
    {
     "data": {
      "text/plain": [
       "[]"
      ]
     },
     "execution_count": 226,
     "metadata": {},
     "output_type": "execute_result"
    },
    {
     "data": {
      "image/png": "[encoded data removed]",
      "text/plain": [
       "<Figure size 432x288 with 1 Axes>"
      ]
     },
     "metadata": {
      "needs_background": "light"
     },
     "output_type": "display_data"
    }
   ],
   "source": [
    "plt.plot(history_coke.history['loss'])\n",
    "plt.plot(history_coke.history['val_loss'])\n",
    "plt.title('Loss - Coke')\n",
    "plt.legend(['train_loss', 'validation_loss'])\n",
    "plt.plot()"
   ]
  },
  {
   "cell_type": "code",
   "execution_count": 227,
   "metadata": {
    "colab": {
     "base_uri": "https://localhost:8080/",
     "height": 299
    },
    "id": "WcOkwbme3_iR",
    "outputId": "958a185c-b008-4b7f-bc47-1e871217fbd6"
   },
   "outputs": [
    {
     "data": {
      "text/plain": [
       "[]"
      ]
     },
     "execution_count": 227,
     "metadata": {},
     "output_type": "execute_result"
    },
    {
     "data": {
      "image/png": "[encoded data removed]",
      "text/plain": [
       "<Figure size 432x288 with 1 Axes>"
      ]
     },
     "metadata": {
      "needs_background": "light"
     },
     "output_type": "display_data"
    }
   ],
   "source": [
    "plt.plot(history_coke.history['accuracy'])\n",
    "plt.plot(history_coke.history['val_accuracy'])\n",
    "plt.title('Accuracy - Coke')\n",
    "plt.legend(['train_acc', 'validation_acc'])\n",
    "plt.plot()"
   ]
  },
  {
   "cell_type": "code",
   "execution_count": 228,
   "metadata": {
    "colab": {
     "base_uri": "https://localhost:8080/"
    },
    "id": "lGQxcCfc3_nP",
    "outputId": "fe1a67f5-f7be-43ee-ee91-aa7aab75e0be"
   },
   "outputs": [
    {
     "name": "stdout",
     "output_type": "stream",
     "text": [
      "12/12 [==============================] - 0s 3ms/step - loss: 1.1116 - accuracy: 0.6048\n",
      "\n",
      " Accuracy is:  0.604774534702301\n"
     ]
    }
   ],
   "source": [
    "score = model_coke.evaluate(X_coke_test_np, y_coke_test_ohe)\n",
    "print(\"\\n Accuracy is: \", score[1])"
   ]
  },
  {
   "cell_type": "markdown",
   "metadata": {
    "id": "zYuAM2uf4wiA"
   },
   "source": [
    "----------------------------------------------------------------------------"
   ]
  },
  {
   "cell_type": "markdown",
   "metadata": {
    "id": "Lro0eHqDDRjx"
   },
   "source": [
    "**Classification for Crack using SVM - Dual**"
   ]
  },
  {
   "cell_type": "code",
   "execution_count": 46,
   "metadata": {
    "colab": {
     "base_uri": "https://localhost:8080/",
     "height": 206
    },
    "id": "240qHnSI3qUK",
    "outputId": "a0cf8a78-64be-42d1-c1af-d5ac40afad1e"
   },
   "outputs": [
    {
     "data": {
      "text/html": [
       "\n",
       "  <div id=\"df-dbb01b27-ccdd-4ade-baf9-e7a298a3a7fc\">\n",
       "    <div class=\"colab-df-container\">\n",
       "      <div>\n",
       "<style scoped>\n",
       "    .dataframe tbody tr th:only-of-type {\n",
       "        vertical-align: middle;\n",
       "    }\n",
       "\n",
       "    .dataframe tbody tr th {\n",
       "        vertical-align: top;\n",
       "    }\n",
       "\n",
       "    .dataframe thead th {\n",
       "        text-align: right;\n",
       "    }\n",
       "</style>\n",
       "<table border=\"1\" class=\"dataframe\">\n",
       "  <thead>\n",
       "    <tr style=\"text-align: right;\">\n",
       "      <th></th>\n",
       "      <th>Age</th>\n",
       "      <th>Gender</th>\n",
       "      <th>Education</th>\n",
       "      <th>Country</th>\n",
       "      <th>Ethnicity</th>\n",
       "      <th>Nscore</th>\n",
       "      <th>Escore</th>\n",
       "      <th>Oscore</th>\n",
       "      <th>AScore</th>\n",
       "      <th>Cscore</th>\n",
       "      <th>Impulsive</th>\n",
       "      <th>SS</th>\n",
       "      <th>Crack</th>\n",
       "    </tr>\n",
       "  </thead>\n",
       "  <tbody>\n",
       "    <tr>\n",
       "      <th>0</th>\n",
       "      <td>-0.07854</td>\n",
       "      <td>-0.48246</td>\n",
       "      <td>1.98437</td>\n",
       "      <td>0.96082</td>\n",
       "      <td>-0.31685</td>\n",
       "      <td>-0.67825</td>\n",
       "      <td>1.93886</td>\n",
       "      <td>1.43533</td>\n",
       "      <td>0.76096</td>\n",
       "      <td>-0.14277</td>\n",
       "      <td>-0.71126</td>\n",
       "      <td>-0.21575</td>\n",
       "      <td>CL0</td>\n",
       "    </tr>\n",
       "    <tr>\n",
       "      <th>1</th>\n",
       "      <td>0.49788</td>\n",
       "      <td>-0.48246</td>\n",
       "      <td>-0.05921</td>\n",
       "      <td>0.96082</td>\n",
       "      <td>-0.31685</td>\n",
       "      <td>-0.46725</td>\n",
       "      <td>0.80523</td>\n",
       "      <td>-0.84732</td>\n",
       "      <td>-1.62090</td>\n",
       "      <td>-1.01450</td>\n",
       "      <td>-1.37983</td>\n",
       "      <td>0.40148</td>\n",
       "      <td>CL0</td>\n",
       "    </tr>\n",
       "    <tr>\n",
       "      <th>2</th>\n",
       "      <td>-0.95197</td>\n",
       "      <td>0.48246</td>\n",
       "      <td>1.16365</td>\n",
       "      <td>0.96082</td>\n",
       "      <td>-0.31685</td>\n",
       "      <td>-0.14882</td>\n",
       "      <td>-0.80615</td>\n",
       "      <td>-0.01928</td>\n",
       "      <td>0.59042</td>\n",
       "      <td>0.58489</td>\n",
       "      <td>-1.37983</td>\n",
       "      <td>-1.18084</td>\n",
       "      <td>CL0</td>\n",
       "    </tr>\n",
       "    <tr>\n",
       "      <th>3</th>\n",
       "      <td>0.49788</td>\n",
       "      <td>0.48246</td>\n",
       "      <td>1.98437</td>\n",
       "      <td>0.96082</td>\n",
       "      <td>-0.31685</td>\n",
       "      <td>0.73545</td>\n",
       "      <td>-1.63340</td>\n",
       "      <td>-0.45174</td>\n",
       "      <td>-0.30172</td>\n",
       "      <td>1.30612</td>\n",
       "      <td>-0.21712</td>\n",
       "      <td>-0.21575</td>\n",
       "      <td>CL0</td>\n",
       "    </tr>\n",
       "    <tr>\n",
       "      <th>4</th>\n",
       "      <td>2.59171</td>\n",
       "      <td>0.48246</td>\n",
       "      <td>-1.22751</td>\n",
       "      <td>0.24923</td>\n",
       "      <td>-0.31685</td>\n",
       "      <td>-0.67825</td>\n",
       "      <td>-0.30033</td>\n",
       "      <td>-1.55521</td>\n",
       "      <td>2.03972</td>\n",
       "      <td>1.63088</td>\n",
       "      <td>-1.37983</td>\n",
       "      <td>-1.54858</td>\n",
       "      <td>CL0</td>\n",
       "    </tr>\n",
       "  </tbody>\n",
       "</table>\n",
       "</div>\n",
       "      <button class=\"colab-df-convert\" onclick=\"convertToInteractive('df-dbb01b27-ccdd-4ade-baf9-e7a298a3a7fc')\"\n",
       "              title=\"Convert this dataframe to an interactive table.\"\n",
       "              style=\"display:none;\">\n",
       "        \n",
       "  <svg xmlns=\"http://www.w3.org/2000/svg\" height=\"24px\"viewBox=\"0 0 24 24\"\n",
       "       width=\"24px\">\n",
       "    <path d=\"M0 0h24v24H0V0z\" fill=\"none\"/>\n",
       "    <path d=\"M18.56 5.44l.94 2.06.94-2.06 2.06-.94-2.06-.94-.94-2.06-.94 2.06-2.06.94zm-11 1L8.5 8.5l.94-2.06 2.06-.94-2.06-.94L8.5 2.5l-.94 2.06-2.06.94zm10 10l.94 2.06.94-2.06 2.06-.94-2.06-.94-.94-2.06-.94 2.06-2.06.94z\"/><path d=\"M17.41 7.96l-1.37-1.37c-.4-.4-.92-.59-1.43-.59-.52 0-1.04.2-1.43.59L10.3 9.45l-7.72 7.72c-.78.78-.78 2.05 0 2.83L4 21.41c.39.39.9.59 1.41.59.51 0 1.02-.2 1.41-.59l7.78-7.78 2.81-2.81c.8-.78.8-2.07 0-2.86zM5.41 20L4 18.59l7.72-7.72 1.47 1.35L5.41 20z\"/>\n",
       "  </svg>\n",
       "      </button>\n",
       "      \n",
       "  <style>\n",
       "    .colab-df-container {\n",
       "      display:flex;\n",
       "      flex-wrap:wrap;\n",
       "      gap: 12px;\n",
       "    }\n",
       "\n",
       "    .colab-df-convert {\n",
       "      background-color: #E8F0FE;\n",
       "      border: none;\n",
       "      border-radius: 50%;\n",
       "      cursor: pointer;\n",
       "      display: none;\n",
       "      fill: #1967D2;\n",
       "      height: 32px;\n",
       "      padding: 0 0 0 0;\n",
       "      width: 32px;\n",
       "    }\n",
       "\n",
       "    .colab-df-convert:hover {\n",
       "      background-color: #E2EBFA;\n",
       "      box-shadow: 0px 1px 2px rgba(60, 64, 67, 0.3), 0px 1px 3px 1px rgba(60, 64, 67, 0.15);\n",
       "      fill: #174EA6;\n",
       "    }\n",
       "\n",
       "    [theme=dark] .colab-df-convert {\n",
       "      background-color: #3B4455;\n",
       "      fill: #D2E3FC;\n",
       "    }\n",
       "\n",
       "    [theme=dark] .colab-df-convert:hover {\n",
       "      background-color: #434B5C;\n",
       "      box-shadow: 0px 1px 3px 1px rgba(0, 0, 0, 0.15);\n",
       "      filter: drop-shadow(0px 1px 2px rgba(0, 0, 0, 0.3));\n",
       "      fill: #FFFFFF;\n",
       "    }\n",
       "  </style>\n",
       "\n",
       "      <script>\n",
       "        const buttonEl =\n",
       "          document.querySelector('#df-dbb01b27-ccdd-4ade-baf9-e7a298a3a7fc button.colab-df-convert');\n",
       "        buttonEl.style.display =\n",
       "          google.colab.kernel.accessAllowed ? 'block' : 'none';\n",
       "\n",
       "        async function convertToInteractive(key) {\n",
       "          const element = document.querySelector('#df-dbb01b27-ccdd-4ade-baf9-e7a298a3a7fc');\n",
       "          const dataTable =\n",
       "            await google.colab.kernel.invokeFunction('convertToInteractive',\n",
       "                                                     [key], {});\n",
       "          if (!dataTable) return;\n",
       "\n",
       "          const docLinkHtml = 'Like what you see? Visit the ' +\n",
       "            '<a target=\"_blank\" href=https://colab.research.google.com/notebooks/data_table.ipynb>data table notebook</a>'\n",
       "            + ' to learn more about interactive tables.';\n",
       "          element.innerHTML = '';\n",
       "          dataTable['output_type'] = 'display_data';\n",
       "          await google.colab.output.renderOutput(dataTable, element);\n",
       "          const docLink = document.createElement('div');\n",
       "          docLink.innerHTML = docLinkHtml;\n",
       "          element.appendChild(docLink);\n",
       "        }\n",
       "      </script>\n",
       "    </div>\n",
       "  </div>\n",
       "  "
      ],
      "text/plain": [
       "       Age   Gender  Education  Country  Ethnicity   Nscore   Escore   Oscore  \\\n",
       "0 -0.07854 -0.48246    1.98437  0.96082   -0.31685 -0.67825  1.93886  1.43533   \n",
       "1  0.49788 -0.48246   -0.05921  0.96082   -0.31685 -0.46725  0.80523 -0.84732   \n",
       "2 -0.95197  0.48246    1.16365  0.96082   -0.31685 -0.14882 -0.80615 -0.01928   \n",
       "3  0.49788  0.48246    1.98437  0.96082   -0.31685  0.73545 -1.63340 -0.45174   \n",
       "4  2.59171  0.48246   -1.22751  0.24923   -0.31685 -0.67825 -0.30033 -1.55521   \n",
       "\n",
       "    AScore   Cscore  Impulsive       SS Crack  \n",
       "0  0.76096 -0.14277   -0.71126 -0.21575   CL0  \n",
       "1 -1.62090 -1.01450   -1.37983  0.40148   CL0  \n",
       "2  0.59042  0.58489   -1.37983 -1.18084   CL0  \n",
       "3 -0.30172  1.30612   -0.21712 -0.21575   CL0  \n",
       "4  2.03972  1.63088   -1.37983 -1.54858   CL0  "
      ]
     },
     "execution_count": 46,
     "metadata": {},
     "output_type": "execute_result"
    }
   ],
   "source": [
    "df_crack.head()"
   ]
  },
  {
   "cell_type": "code",
   "execution_count": 47,
   "metadata": {
    "colab": {
     "base_uri": "https://localhost:8080/"
    },
    "id": "Tb8K2b2WDVsH",
    "outputId": "14177ead-fc67-469a-eca4-5ac8287ed8ba"
   },
   "outputs": [
    {
     "name": "stdout",
     "output_type": "stream",
     "text": [
      "X_crack_train, y_crack_train:  (1507, 12) (1507,)\n",
      "X_crack_dev, y_crack_dev:  (1205, 12) (1205,)\n",
      "X_crack_val, y_crack_val:  (302, 12) (302,)\n",
      "X_crack_test, y_crack_test:  (377, 12) (377,)\n"
     ]
    }
   ],
   "source": [
    "X_crack = df_crack.drop('Crack', axis=1)\n",
    "y_crack = df_crack['Crack']\n",
    "\n",
    "X_crack_train, X_crack_test, y_crack_train, y_crack_test = train_test_split(X_crack, y_crack, test_size=0.2, random_state=42)\n",
    "\n",
    "X_crack_dev, X_crack_val, y_crack_dev, y_crack_val = train_test_split(X_crack_train, y_crack_train, test_size=0.2, random_state=42)\n",
    "\n",
    "print(\"X_crack_train, y_crack_train: \", X_crack_train.shape, y_crack_train.shape)\n",
    "print(\"X_crack_dev, y_crack_dev: \", X_crack_dev.shape, y_crack_dev.shape)\n",
    "print(\"X_crack_val, y_crack_val: \", X_crack_val.shape, y_crack_val.shape)\n",
    "print(\"X_crack_test, y_crack_test: \", X_crack_test.shape, y_crack_test.shape)"
   ]
  },
  {
   "cell_type": "code",
   "execution_count": 48,
   "metadata": {
    "colab": {
     "base_uri": "https://localhost:8080/"
    },
    "id": "9NCw_07sDxUD",
    "outputId": "219eb057-4bef-4972-cd69-483908685ff9"
   },
   "outputs": [
    {
     "data": {
      "text/plain": [
       "SVC(kernel='linear')"
      ]
     },
     "execution_count": 48,
     "metadata": {},
     "output_type": "execute_result"
    }
   ],
   "source": [
    "svm_classifier_dual_crack = SVC(kernel='linear')\n",
    "svm_classifier_dual_crack.fit(X_crack_dev, y_crack_dev)"
   ]
  },
  {
   "cell_type": "code",
   "execution_count": 49,
   "metadata": {
    "colab": {
     "base_uri": "https://localhost:8080/"
    },
    "id": "OsJ4TKMQD26l",
    "outputId": "cfcff172-e8ca-401b-e7e4-aed5d00a1eae"
   },
   "outputs": [
    {
     "name": "stdout",
     "output_type": "stream",
     "text": [
      "Accuracy on developemnt set:  0.8605809128630706\n",
      "Accuracy on validation set:  0.8642384105960265\n",
      "Accuracy on test set:  0.870026525198939\n",
      "Test Confusion Matrix :  [[328   0   0   0   0   0]\n",
      " [ 14   0   0   0   0   0]\n",
      " [ 24   0   0   0   0   0]\n",
      " [  9   0   0   0   0   0]\n",
      " [  1   0   0   0   0   0]\n",
      " [  1   0   0   0   0   0]]\n",
      "Test Macro F1 0.15508274231678487\n",
      "Test Micro F1 0.870026525198939\n",
      "Test Weighted F1 0.8095565964971688\n"
     ]
    }
   ],
   "source": [
    "y_crack_dev_predict = svm_classifier_dual_crack.predict(X_crack_dev)\n",
    "y_crack_val_predict = svm_classifier_dual_crack.predict(X_crack_val)\n",
    "y_crack_test_predict = svm_classifier_dual_crack.predict(X_crack_test)\n",
    "\n",
    "print(\"Accuracy on developemnt set: \", metrics.accuracy_score(y_crack_dev, y_crack_dev_predict))\n",
    "print(\"Accuracy on validation set: \", metrics.accuracy_score(y_crack_val, y_crack_val_predict))\n",
    "print(\"Accuracy on test set: \", metrics.accuracy_score(y_crack_test, y_crack_test_predict))\n",
    "\n",
    "print(\"Test Confusion Matrix : \", metrics.confusion_matrix(y_crack_test, y_crack_test_predict))\n",
    "print('Test Macro F1', metrics.f1_score(y_crack_test, y_crack_test_predict, average='macro'))\n",
    "print('Test Micro F1', metrics.f1_score(y_crack_test, y_crack_test_predict, average='micro'))\n",
    "print('Test Weighted F1', metrics.f1_score(y_crack_test, y_crack_test_predict, average='weighted'))"
   ]
  },
  {
   "cell_type": "markdown",
   "metadata": {
    "id": "uoUjqRUT45a2"
   },
   "source": [
    "**Classification for Crack using Neural Networks**"
   ]
  },
  {
   "cell_type": "code",
   "execution_count": 237,
   "metadata": {
    "id": "IAZ4iXeR4-NE"
   },
   "outputs": [],
   "source": [
    "X_crack_dev_np = X_crack_dev.to_numpy()\n",
    "y_crack_dev_np = y_crack_dev.to_numpy().reshape(y_crack_dev.shape[0], 1)\n",
    "\n",
    "X_crack_val_np = X_crack_val.to_numpy()\n",
    "y_crack_val_np = y_crack_val.to_numpy().reshape(y_crack_val.shape[0], 1)\n",
    "\n",
    "X_crack_test_np = X_crack_test.to_numpy()\n",
    "y_crack_test_np = y_crack_test.to_numpy().reshape(y_crack_test.shape[0], 1)"
   ]
  },
  {
   "cell_type": "code",
   "execution_count": 238,
   "metadata": {
    "id": "f043xbGE4-Rf"
   },
   "outputs": [],
   "source": [
    "from sklearn.preprocessing import OneHotEncoder\n",
    "ohe = OneHotEncoder()\n",
    "\n",
    "y_crack_dev_ohe = ohe.fit_transform(y_crack_dev_np).toarray()\n",
    "y_crack_val_ohe = ohe.fit_transform(y_crack_val_np).toarray()\n",
    "y_crack_test_ohe = ohe.fit_transform(y_crack_test_np).toarray()"
   ]
  },
  {
   "cell_type": "code",
   "execution_count": 239,
   "metadata": {
    "id": "ERL1-3lU4-WW"
   },
   "outputs": [],
   "source": [
    "from tensorflow.keras.models import Sequential\n",
    "from tensorflow.keras.layers import Dense\n",
    "from tensorflow.keras.layers import BatchNormalization\n",
    "from tensorflow.keras.layers import Dropout\n",
    "\n",
    "model_crack = Sequential()\n",
    "\n",
    "model_crack.add(Dense(64, input_dim=12, activation='relu'))\n",
    "model_crack.add(Dropout(0.2))\n",
    "model_crack.add(BatchNormalization())\n",
    "\n",
    "model_crack.add(Dense(32, activation='relu'))\n",
    "model_crack.add(Dropout(0.2))\n",
    "model_crack.add(BatchNormalization())\n",
    "\n",
    "model_crack.add(Dense(7, activation='softmax')) "
   ]
  },
  {
   "cell_type": "code",
   "execution_count": 240,
   "metadata": {
    "id": "2WmnCZB04-bK"
   },
   "outputs": [],
   "source": [
    "model_crack.compile(optimizer='adam', loss='categorical_crossentropy', metrics=['accuracy'])\n",
    "history_crack = model_crack.fit(X_crack_dev_np, y_crack_dev_ohe, epochs=50, verbose=0, batch_size=128, validation_data=(X_crack_val_np, y_crack_val_ohe))"
   ]
  },
  {
   "cell_type": "code",
   "execution_count": 241,
   "metadata": {
    "colab": {
     "base_uri": "https://localhost:8080/",
     "height": 299
    },
    "id": "_Braduus4-gQ",
    "outputId": "42f93b26-7c89-40f0-9964-d990616fdb90"
   },
   "outputs": [
    {
     "data": {
      "text/plain": [
       "[]"
      ]
     },
     "execution_count": 241,
     "metadata": {},
     "output_type": "execute_result"
    },
    {
     "data": {
      "image/png": "[encoded data removed]",
      "text/plain": [
       "<Figure size 432x288 with 1 Axes>"
      ]
     },
     "metadata": {
      "needs_background": "light"
     },
     "output_type": "display_data"
    }
   ],
   "source": [
    "plt.plot(history_crack.history['loss'])\n",
    "plt.plot(history_crack.history['val_loss'])\n",
    "plt.title('Loss - Crack')\n",
    "plt.legend(['train_loss', 'validation_loss'])\n",
    "plt.plot()"
   ]
  },
  {
   "cell_type": "code",
   "execution_count": 245,
   "metadata": {
    "colab": {
     "base_uri": "https://localhost:8080/",
     "height": 299
    },
    "id": "pu-sFMZK4-lk",
    "outputId": "58404fe1-8f59-4b85-ad07-7444974d7b78"
   },
   "outputs": [
    {
     "data": {
      "text/plain": [
       "[]"
      ]
     },
     "execution_count": 245,
     "metadata": {},
     "output_type": "execute_result"
    },
    {
     "data": {
      "image/png": "[encoded data removed]",
      "text/plain": [
       "<Figure size 432x288 with 1 Axes>"
      ]
     },
     "metadata": {
      "needs_background": "light"
     },
     "output_type": "display_data"
    }
   ],
   "source": [
    "plt.plot(history_crack.history['accuracy'])\n",
    "plt.plot(history_crack.history['val_accuracy'])\n",
    "plt.title('Accuracy - Crack')\n",
    "plt.legend(['train_acc', 'validation_acc'])\n",
    "plt.plot()"
   ]
  },
  {
   "cell_type": "markdown",
   "metadata": {
    "id": "wexigzM741ol"
   },
   "source": [
    "----------------------------------------------------------------------------"
   ]
  },
  {
   "cell_type": "markdown",
   "metadata": {
    "id": "fiCNV-vlEFii"
   },
   "source": [
    "**Classification for Ecstasy using SVM - Dual**"
   ]
  },
  {
   "cell_type": "code",
   "execution_count": 50,
   "metadata": {
    "colab": {
     "base_uri": "https://localhost:8080/",
     "height": 206
    },
    "id": "WRPBlnRf3riV",
    "outputId": "8c10821b-92d2-4f1e-df4c-68f18ae8da60"
   },
   "outputs": [
    {
     "data": {
      "text/html": [
       "\n",
       "  <div id=\"df-802f004f-7daf-4be4-b912-728ac748121a\">\n",
       "    <div class=\"colab-df-container\">\n",
       "      <div>\n",
       "<style scoped>\n",
       "    .dataframe tbody tr th:only-of-type {\n",
       "        vertical-align: middle;\n",
       "    }\n",
       "\n",
       "    .dataframe tbody tr th {\n",
       "        vertical-align: top;\n",
       "    }\n",
       "\n",
       "    .dataframe thead th {\n",
       "        text-align: right;\n",
       "    }\n",
       "</style>\n",
       "<table border=\"1\" class=\"dataframe\">\n",
       "  <thead>\n",
       "    <tr style=\"text-align: right;\">\n",
       "      <th></th>\n",
       "      <th>Age</th>\n",
       "      <th>Gender</th>\n",
       "      <th>Education</th>\n",
       "      <th>Country</th>\n",
       "      <th>Ethnicity</th>\n",
       "      <th>Nscore</th>\n",
       "      <th>Escore</th>\n",
       "      <th>Oscore</th>\n",
       "      <th>AScore</th>\n",
       "      <th>Cscore</th>\n",
       "      <th>Impulsive</th>\n",
       "      <th>SS</th>\n",
       "      <th>Ecstasy</th>\n",
       "    </tr>\n",
       "  </thead>\n",
       "  <tbody>\n",
       "    <tr>\n",
       "      <th>0</th>\n",
       "      <td>-0.07854</td>\n",
       "      <td>-0.48246</td>\n",
       "      <td>1.98437</td>\n",
       "      <td>0.96082</td>\n",
       "      <td>-0.31685</td>\n",
       "      <td>-0.67825</td>\n",
       "      <td>1.93886</td>\n",
       "      <td>1.43533</td>\n",
       "      <td>0.76096</td>\n",
       "      <td>-0.14277</td>\n",
       "      <td>-0.71126</td>\n",
       "      <td>-0.21575</td>\n",
       "      <td>CL4</td>\n",
       "    </tr>\n",
       "    <tr>\n",
       "      <th>1</th>\n",
       "      <td>0.49788</td>\n",
       "      <td>-0.48246</td>\n",
       "      <td>-0.05921</td>\n",
       "      <td>0.96082</td>\n",
       "      <td>-0.31685</td>\n",
       "      <td>-0.46725</td>\n",
       "      <td>0.80523</td>\n",
       "      <td>-0.84732</td>\n",
       "      <td>-1.62090</td>\n",
       "      <td>-1.01450</td>\n",
       "      <td>-1.37983</td>\n",
       "      <td>0.40148</td>\n",
       "      <td>CL0</td>\n",
       "    </tr>\n",
       "    <tr>\n",
       "      <th>2</th>\n",
       "      <td>-0.95197</td>\n",
       "      <td>0.48246</td>\n",
       "      <td>1.16365</td>\n",
       "      <td>0.96082</td>\n",
       "      <td>-0.31685</td>\n",
       "      <td>-0.14882</td>\n",
       "      <td>-0.80615</td>\n",
       "      <td>-0.01928</td>\n",
       "      <td>0.59042</td>\n",
       "      <td>0.58489</td>\n",
       "      <td>-1.37983</td>\n",
       "      <td>-1.18084</td>\n",
       "      <td>CL0</td>\n",
       "    </tr>\n",
       "    <tr>\n",
       "      <th>3</th>\n",
       "      <td>0.49788</td>\n",
       "      <td>0.48246</td>\n",
       "      <td>1.98437</td>\n",
       "      <td>0.96082</td>\n",
       "      <td>-0.31685</td>\n",
       "      <td>0.73545</td>\n",
       "      <td>-1.63340</td>\n",
       "      <td>-0.45174</td>\n",
       "      <td>-0.30172</td>\n",
       "      <td>1.30612</td>\n",
       "      <td>-0.21712</td>\n",
       "      <td>-0.21575</td>\n",
       "      <td>CL1</td>\n",
       "    </tr>\n",
       "    <tr>\n",
       "      <th>4</th>\n",
       "      <td>2.59171</td>\n",
       "      <td>0.48246</td>\n",
       "      <td>-1.22751</td>\n",
       "      <td>0.24923</td>\n",
       "      <td>-0.31685</td>\n",
       "      <td>-0.67825</td>\n",
       "      <td>-0.30033</td>\n",
       "      <td>-1.55521</td>\n",
       "      <td>2.03972</td>\n",
       "      <td>1.63088</td>\n",
       "      <td>-1.37983</td>\n",
       "      <td>-1.54858</td>\n",
       "      <td>CL0</td>\n",
       "    </tr>\n",
       "  </tbody>\n",
       "</table>\n",
       "</div>\n",
       "      <button class=\"colab-df-convert\" onclick=\"convertToInteractive('df-802f004f-7daf-4be4-b912-728ac748121a')\"\n",
       "              title=\"Convert this dataframe to an interactive table.\"\n",
       "              style=\"display:none;\">\n",
       "        \n",
       "  <svg xmlns=\"http://www.w3.org/2000/svg\" height=\"24px\"viewBox=\"0 0 24 24\"\n",
       "       width=\"24px\">\n",
       "    <path d=\"M0 0h24v24H0V0z\" fill=\"none\"/>\n",
       "    <path d=\"M18.56 5.44l.94 2.06.94-2.06 2.06-.94-2.06-.94-.94-2.06-.94 2.06-2.06.94zm-11 1L8.5 8.5l.94-2.06 2.06-.94-2.06-.94L8.5 2.5l-.94 2.06-2.06.94zm10 10l.94 2.06.94-2.06 2.06-.94-2.06-.94-.94-2.06-.94 2.06-2.06.94z\"/><path d=\"M17.41 7.96l-1.37-1.37c-.4-.4-.92-.59-1.43-.59-.52 0-1.04.2-1.43.59L10.3 9.45l-7.72 7.72c-.78.78-.78 2.05 0 2.83L4 21.41c.39.39.9.59 1.41.59.51 0 1.02-.2 1.41-.59l7.78-7.78 2.81-2.81c.8-.78.8-2.07 0-2.86zM5.41 20L4 18.59l7.72-7.72 1.47 1.35L5.41 20z\"/>\n",
       "  </svg>\n",
       "      </button>\n",
       "      \n",
       "  <style>\n",
       "    .colab-df-container {\n",
       "      display:flex;\n",
       "      flex-wrap:wrap;\n",
       "      gap: 12px;\n",
       "    }\n",
       "\n",
       "    .colab-df-convert {\n",
       "      background-color: #E8F0FE;\n",
       "      border: none;\n",
       "      border-radius: 50%;\n",
       "      cursor: pointer;\n",
       "      display: none;\n",
       "      fill: #1967D2;\n",
       "      height: 32px;\n",
       "      padding: 0 0 0 0;\n",
       "      width: 32px;\n",
       "    }\n",
       "\n",
       "    .colab-df-convert:hover {\n",
       "      background-color: #E2EBFA;\n",
       "      box-shadow: 0px 1px 2px rgba(60, 64, 67, 0.3), 0px 1px 3px 1px rgba(60, 64, 67, 0.15);\n",
       "      fill: #174EA6;\n",
       "    }\n",
       "\n",
       "    [theme=dark] .colab-df-convert {\n",
       "      background-color: #3B4455;\n",
       "      fill: #D2E3FC;\n",
       "    }\n",
       "\n",
       "    [theme=dark] .colab-df-convert:hover {\n",
       "      background-color: #434B5C;\n",
       "      box-shadow: 0px 1px 3px 1px rgba(0, 0, 0, 0.15);\n",
       "      filter: drop-shadow(0px 1px 2px rgba(0, 0, 0, 0.3));\n",
       "      fill: #FFFFFF;\n",
       "    }\n",
       "  </style>\n",
       "\n",
       "      <script>\n",
       "        const buttonEl =\n",
       "          document.querySelector('#df-802f004f-7daf-4be4-b912-728ac748121a button.colab-df-convert');\n",
       "        buttonEl.style.display =\n",
       "          google.colab.kernel.accessAllowed ? 'block' : 'none';\n",
       "\n",
       "        async function convertToInteractive(key) {\n",
       "          const element = document.querySelector('#df-802f004f-7daf-4be4-b912-728ac748121a');\n",
       "          const dataTable =\n",
       "            await google.colab.kernel.invokeFunction('convertToInteractive',\n",
       "                                                     [key], {});\n",
       "          if (!dataTable) return;\n",
       "\n",
       "          const docLinkHtml = 'Like what you see? Visit the ' +\n",
       "            '<a target=\"_blank\" href=https://colab.research.google.com/notebooks/data_table.ipynb>data table notebook</a>'\n",
       "            + ' to learn more about interactive tables.';\n",
       "          element.innerHTML = '';\n",
       "          dataTable['output_type'] = 'display_data';\n",
       "          await google.colab.output.renderOutput(dataTable, element);\n",
       "          const docLink = document.createElement('div');\n",
       "          docLink.innerHTML = docLinkHtml;\n",
       "          element.appendChild(docLink);\n",
       "        }\n",
       "      </script>\n",
       "    </div>\n",
       "  </div>\n",
       "  "
      ],
      "text/plain": [
       "       Age   Gender  Education  Country  Ethnicity   Nscore   Escore   Oscore  \\\n",
       "0 -0.07854 -0.48246    1.98437  0.96082   -0.31685 -0.67825  1.93886  1.43533   \n",
       "1  0.49788 -0.48246   -0.05921  0.96082   -0.31685 -0.46725  0.80523 -0.84732   \n",
       "2 -0.95197  0.48246    1.16365  0.96082   -0.31685 -0.14882 -0.80615 -0.01928   \n",
       "3  0.49788  0.48246    1.98437  0.96082   -0.31685  0.73545 -1.63340 -0.45174   \n",
       "4  2.59171  0.48246   -1.22751  0.24923   -0.31685 -0.67825 -0.30033 -1.55521   \n",
       "\n",
       "    AScore   Cscore  Impulsive       SS Ecstasy  \n",
       "0  0.76096 -0.14277   -0.71126 -0.21575     CL4  \n",
       "1 -1.62090 -1.01450   -1.37983  0.40148     CL0  \n",
       "2  0.59042  0.58489   -1.37983 -1.18084     CL0  \n",
       "3 -0.30172  1.30612   -0.21712 -0.21575     CL1  \n",
       "4  2.03972  1.63088   -1.37983 -1.54858     CL0  "
      ]
     },
     "execution_count": 50,
     "metadata": {},
     "output_type": "execute_result"
    }
   ],
   "source": [
    "df_ecstasy.head()"
   ]
  },
  {
   "cell_type": "code",
   "execution_count": 51,
   "metadata": {
    "colab": {
     "base_uri": "https://localhost:8080/"
    },
    "id": "V5uyWCjYEIox",
    "outputId": "d97249b0-ade8-48a8-a07b-f8123013511f"
   },
   "outputs": [
    {
     "name": "stdout",
     "output_type": "stream",
     "text": [
      "X_ecstasy_train, y_ecstasy_train:  (1507, 12) (1507,)\n",
      "X_ecstasy_dev, y_ecstasy_dev:  (1205, 12) (1205,)\n",
      "X_ecstasy_val, y_ecstasy_val:  (302, 12) (302,)\n",
      "X_ecstasy_test, y_ecstasy_test:  (377, 12) (377,)\n"
     ]
    }
   ],
   "source": [
    "X_ecstasy = df_ecstasy.drop('Ecstasy', axis=1)\n",
    "y_ecstasy = df_ecstasy['Ecstasy']\n",
    "\n",
    "X_ecstasy_train, X_ecstasy_test, y_ecstasy_train, y_ecstasy_test = train_test_split(X_ecstasy, y_ecstasy, test_size=0.2, random_state=42)\n",
    "\n",
    "X_ecstasy_dev, X_ecstasy_val, y_ecstasy_dev, y_ecstasy_val = train_test_split(X_ecstasy_train, y_ecstasy_train, test_size=0.2, random_state=42)\n",
    "\n",
    "print(\"X_ecstasy_train, y_ecstasy_train: \", X_ecstasy_train.shape, y_ecstasy_train.shape)\n",
    "print(\"X_ecstasy_dev, y_ecstasy_dev: \", X_ecstasy_dev.shape, y_ecstasy_dev.shape)\n",
    "print(\"X_ecstasy_val, y_ecstasy_val: \", X_ecstasy_val.shape, y_ecstasy_val.shape)\n",
    "print(\"X_ecstasy_test, y_ecstasy_test: \", X_ecstasy_test.shape, y_ecstasy_test.shape)"
   ]
  },
  {
   "cell_type": "code",
   "execution_count": 52,
   "metadata": {
    "colab": {
     "base_uri": "https://localhost:8080/"
    },
    "id": "SYuoUL2VEtzv",
    "outputId": "6056b515-8693-4559-9d50-8329052d2678"
   },
   "outputs": [
    {
     "data": {
      "text/plain": [
       "SVC(kernel='linear')"
      ]
     },
     "execution_count": 52,
     "metadata": {},
     "output_type": "execute_result"
    }
   ],
   "source": [
    "svm_classifier_dual_ecstasy = SVC(kernel='linear')\n",
    "svm_classifier_dual_ecstasy.fit(X_ecstasy_dev, y_ecstasy_dev)"
   ]
  },
  {
   "cell_type": "code",
   "execution_count": 54,
   "metadata": {
    "colab": {
     "base_uri": "https://localhost:8080/"
    },
    "id": "FDthaKUSEzva",
    "outputId": "39fd88ea-6342-4849-eb37-f7868edd8fe5"
   },
   "outputs": [
    {
     "name": "stdout",
     "output_type": "stream",
     "text": [
      "Accuracy on developemnt set:  0.5510373443983403\n",
      "Accuracy on validation set:  0.5331125827814569\n",
      "Accuracy on test set:  0.5994694960212201\n",
      "Test Confusion Matrix :  [[207   0   0  12   0   0   0]\n",
      " [ 29   0   0   0   0   0   0]\n",
      " [ 33   0   0   7   0   0   0]\n",
      " [ 32   0   0  19   0   0   0]\n",
      " [ 17   0   0   6   0   0   0]\n",
      " [ 12   0   0   2   0   0   0]\n",
      " [  1   0   0   0   0   0   0]]\n",
      "Test Macro F1 0.1634971214352658\n",
      "Test Micro F1 0.5994694960212201\n",
      "Test Weighted F1 0.4902563771102698\n"
     ]
    }
   ],
   "source": [
    "y_ecstasy_dev_predict = svm_classifier_dual_ecstasy.predict(X_ecstasy_dev)\n",
    "y_ecstasy_val_predict = svm_classifier_dual_ecstasy.predict(X_ecstasy_val)\n",
    "y_ecstasy_test_predict = svm_classifier_dual_ecstasy.predict(X_ecstasy_test)\n",
    "\n",
    "print(\"Accuracy on developemnt set: \", metrics.accuracy_score(y_ecstasy_dev, y_ecstasy_dev_predict))\n",
    "print(\"Accuracy on validation set: \", metrics.accuracy_score(y_ecstasy_val, y_ecstasy_val_predict))\n",
    "print(\"Accuracy on test set: \", metrics.accuracy_score(y_ecstasy_test, y_ecstasy_test_predict))\n",
    "\n",
    "print(\"Test Confusion Matrix : \", metrics.confusion_matrix(y_ecstasy_test, y_ecstasy_test_predict))\n",
    "print('Test Macro F1', metrics.f1_score(y_ecstasy_test, y_ecstasy_test_predict, average='macro'))\n",
    "print('Test Micro F1', metrics.f1_score(y_ecstasy_test, y_ecstasy_test_predict, average='micro'))\n",
    "print('Test Weighted F1', metrics.f1_score(y_ecstasy_test, y_ecstasy_test_predict, average='weighted'))"
   ]
  },
  {
   "cell_type": "markdown",
   "metadata": {
    "id": "fe8NHeG66cM5"
   },
   "source": [
    "**Classification for Ecstasy using Neural Networks**"
   ]
  },
  {
   "cell_type": "code",
   "execution_count": 246,
   "metadata": {
    "id": "DngSJ3aR6hNp"
   },
   "outputs": [],
   "source": [
    "X_ecstasy_dev_np = X_ecstasy_dev.to_numpy()\n",
    "y_ecstasy_dev_np = y_ecstasy_dev.to_numpy().reshape(y_ecstasy_dev.shape[0], 1)\n",
    "\n",
    "X_ecstasy_val_np = X_ecstasy_val.to_numpy()\n",
    "y_ecstasy_val_np = y_ecstasy_val.to_numpy().reshape(y_ecstasy_val.shape[0], 1)\n",
    "\n",
    "X_ecstasy_test_np = X_ecstasy_test.to_numpy()\n",
    "y_ecstasy_test_np = y_ecstasy_test.to_numpy().reshape(y_ecstasy_test.shape[0], 1)"
   ]
  },
  {
   "cell_type": "code",
   "execution_count": 247,
   "metadata": {
    "id": "06F2eZaa6hRl"
   },
   "outputs": [],
   "source": [
    "from sklearn.preprocessing import OneHotEncoder\n",
    "ohe = OneHotEncoder()\n",
    "\n",
    "y_ecstasy_dev_ohe = ohe.fit_transform(y_ecstasy_dev_np).toarray()\n",
    "y_ecstasy_val_ohe = ohe.fit_transform(y_ecstasy_val_np).toarray()\n",
    "y_ecstasy_test_ohe = ohe.fit_transform(y_ecstasy_test_np).toarray()"
   ]
  },
  {
   "cell_type": "code",
   "execution_count": 248,
   "metadata": {
    "id": "NKBWiZex6hWo"
   },
   "outputs": [],
   "source": [
    "from tensorflow.keras.models import Sequential\n",
    "from tensorflow.keras.layers import Dense\n",
    "from tensorflow.keras.layers import BatchNormalization\n",
    "from tensorflow.keras.layers import Dropout\n",
    "\n",
    "model_ecstasy = Sequential()\n",
    "\n",
    "model_ecstasy.add(Dense(64, input_dim=12, activation='relu'))\n",
    "model_ecstasy.add(Dropout(0.2))\n",
    "model_ecstasy.add(BatchNormalization())\n",
    "\n",
    "model_ecstasy.add(Dense(32, activation='relu'))\n",
    "model_ecstasy.add(Dropout(0.2))\n",
    "model_ecstasy.add(BatchNormalization())\n",
    "\n",
    "model_ecstasy.add(Dense(7, activation='softmax')) "
   ]
  },
  {
   "cell_type": "code",
   "execution_count": 249,
   "metadata": {
    "id": "gXv0c5NF6hcG"
   },
   "outputs": [],
   "source": [
    "model_ecstasy.compile(optimizer='adam', loss='categorical_crossentropy', metrics=['accuracy'])\n",
    "history_ecstasy = model_ecstasy.fit(X_ecstasy_dev_np, y_ecstasy_dev_ohe, epochs=50, verbose=0, batch_size=128, validation_data=(X_ecstasy_val_np, y_ecstasy_val_ohe))"
   ]
  },
  {
   "cell_type": "code",
   "execution_count": 251,
   "metadata": {
    "colab": {
     "base_uri": "https://localhost:8080/",
     "height": 299
    },
    "id": "7VHft5S26hhj",
    "outputId": "fb51a2df-53cb-492f-e478-4a51410bf4e2"
   },
   "outputs": [
    {
     "data": {
      "text/plain": [
       "[]"
      ]
     },
     "execution_count": 251,
     "metadata": {},
     "output_type": "execute_result"
    },
    {
     "data": {
      "image/png": "[encoded data removed]",
      "text/plain": [
       "<Figure size 432x288 with 1 Axes>"
      ]
     },
     "metadata": {
      "needs_background": "light"
     },
     "output_type": "display_data"
    }
   ],
   "source": [
    "plt.plot(history_ecstasy.history['loss'])\n",
    "plt.plot(history_ecstasy.history['val_loss'])\n",
    "plt.title('Loss - Ecstasy')\n",
    "plt.legend(['train_loss', 'validation_loss'])\n",
    "plt.plot()"
   ]
  },
  {
   "cell_type": "code",
   "execution_count": 252,
   "metadata": {
    "colab": {
     "base_uri": "https://localhost:8080/",
     "height": 299
    },
    "id": "s0NI5NXg6hnD",
    "outputId": "cd9b3b4a-e2fd-4c60-ce8f-fc42b11c8861"
   },
   "outputs": [
    {
     "data": {
      "text/plain": [
       "[]"
      ]
     },
     "execution_count": 252,
     "metadata": {},
     "output_type": "execute_result"
    },
    {
     "data": {
      "image/png": "[encoded data removed]",
      "text/plain": [
       "<Figure size 432x288 with 1 Axes>"
      ]
     },
     "metadata": {
      "needs_background": "light"
     },
     "output_type": "display_data"
    }
   ],
   "source": [
    "plt.plot(history_ecstasy.history['accuracy'])\n",
    "plt.plot(history_ecstasy.history['val_accuracy'])\n",
    "plt.title('Accuracy - Ecstasy')\n",
    "plt.legend(['train_acc', 'validation_acc'])\n",
    "plt.plot()"
   ]
  },
  {
   "cell_type": "code",
   "execution_count": 253,
   "metadata": {
    "colab": {
     "base_uri": "https://localhost:8080/"
    },
    "id": "pzfzpi4M6hrd",
    "outputId": "b0d0fb1a-86e7-4efb-be51-9345ec97f015"
   },
   "outputs": [
    {
     "name": "stdout",
     "output_type": "stream",
     "text": [
      "12/12 [==============================] - 0s 3ms/step - loss: 1.1668 - accuracy: 0.5995\n",
      "\n",
      " Accuracy is:  0.5994694828987122\n"
     ]
    }
   ],
   "source": [
    "score = model_ecstasy.evaluate(X_ecstasy_test_np, y_ecstasy_test_ohe)\n",
    "print(\"\\n Accuracy is: \", score[1])"
   ]
  },
  {
   "cell_type": "markdown",
   "metadata": {
    "id": "PD6ldCsS7YHD"
   },
   "source": [
    "----------------------------------------------------------------------------"
   ]
  },
  {
   "cell_type": "markdown",
   "metadata": {
    "id": "_tTM1UAyFD2S"
   },
   "source": [
    "**Classification for Heroin using SVM - Dual**"
   ]
  },
  {
   "cell_type": "code",
   "execution_count": 55,
   "metadata": {
    "colab": {
     "base_uri": "https://localhost:8080/",
     "height": 206
    },
    "id": "R9qi3xXc3twp",
    "outputId": "d342ea9c-3293-404b-f635-8c2638cc72fd"
   },
   "outputs": [
    {
     "data": {
      "text/html": [
       "\n",
       "  <div id=\"df-13614361-0dd2-4650-ab00-bd50262d9f41\">\n",
       "    <div class=\"colab-df-container\">\n",
       "      <div>\n",
       "<style scoped>\n",
       "    .dataframe tbody tr th:only-of-type {\n",
       "        vertical-align: middle;\n",
       "    }\n",
       "\n",
       "    .dataframe tbody tr th {\n",
       "        vertical-align: top;\n",
       "    }\n",
       "\n",
       "    .dataframe thead th {\n",
       "        text-align: right;\n",
       "    }\n",
       "</style>\n",
       "<table border=\"1\" class=\"dataframe\">\n",
       "  <thead>\n",
       "    <tr style=\"text-align: right;\">\n",
       "      <th></th>\n",
       "      <th>Age</th>\n",
       "      <th>Gender</th>\n",
       "      <th>Education</th>\n",
       "      <th>Country</th>\n",
       "      <th>Ethnicity</th>\n",
       "      <th>Nscore</th>\n",
       "      <th>Escore</th>\n",
       "      <th>Oscore</th>\n",
       "      <th>AScore</th>\n",
       "      <th>Cscore</th>\n",
       "      <th>Impulsive</th>\n",
       "      <th>SS</th>\n",
       "      <th>Heroin</th>\n",
       "    </tr>\n",
       "  </thead>\n",
       "  <tbody>\n",
       "    <tr>\n",
       "      <th>0</th>\n",
       "      <td>-0.07854</td>\n",
       "      <td>-0.48246</td>\n",
       "      <td>1.98437</td>\n",
       "      <td>0.96082</td>\n",
       "      <td>-0.31685</td>\n",
       "      <td>-0.67825</td>\n",
       "      <td>1.93886</td>\n",
       "      <td>1.43533</td>\n",
       "      <td>0.76096</td>\n",
       "      <td>-0.14277</td>\n",
       "      <td>-0.71126</td>\n",
       "      <td>-0.21575</td>\n",
       "      <td>CL0</td>\n",
       "    </tr>\n",
       "    <tr>\n",
       "      <th>1</th>\n",
       "      <td>0.49788</td>\n",
       "      <td>-0.48246</td>\n",
       "      <td>-0.05921</td>\n",
       "      <td>0.96082</td>\n",
       "      <td>-0.31685</td>\n",
       "      <td>-0.46725</td>\n",
       "      <td>0.80523</td>\n",
       "      <td>-0.84732</td>\n",
       "      <td>-1.62090</td>\n",
       "      <td>-1.01450</td>\n",
       "      <td>-1.37983</td>\n",
       "      <td>0.40148</td>\n",
       "      <td>CL0</td>\n",
       "    </tr>\n",
       "    <tr>\n",
       "      <th>2</th>\n",
       "      <td>-0.95197</td>\n",
       "      <td>0.48246</td>\n",
       "      <td>1.16365</td>\n",
       "      <td>0.96082</td>\n",
       "      <td>-0.31685</td>\n",
       "      <td>-0.14882</td>\n",
       "      <td>-0.80615</td>\n",
       "      <td>-0.01928</td>\n",
       "      <td>0.59042</td>\n",
       "      <td>0.58489</td>\n",
       "      <td>-1.37983</td>\n",
       "      <td>-1.18084</td>\n",
       "      <td>CL0</td>\n",
       "    </tr>\n",
       "    <tr>\n",
       "      <th>3</th>\n",
       "      <td>0.49788</td>\n",
       "      <td>0.48246</td>\n",
       "      <td>1.98437</td>\n",
       "      <td>0.96082</td>\n",
       "      <td>-0.31685</td>\n",
       "      <td>0.73545</td>\n",
       "      <td>-1.63340</td>\n",
       "      <td>-0.45174</td>\n",
       "      <td>-0.30172</td>\n",
       "      <td>1.30612</td>\n",
       "      <td>-0.21712</td>\n",
       "      <td>-0.21575</td>\n",
       "      <td>CL0</td>\n",
       "    </tr>\n",
       "    <tr>\n",
       "      <th>4</th>\n",
       "      <td>2.59171</td>\n",
       "      <td>0.48246</td>\n",
       "      <td>-1.22751</td>\n",
       "      <td>0.24923</td>\n",
       "      <td>-0.31685</td>\n",
       "      <td>-0.67825</td>\n",
       "      <td>-0.30033</td>\n",
       "      <td>-1.55521</td>\n",
       "      <td>2.03972</td>\n",
       "      <td>1.63088</td>\n",
       "      <td>-1.37983</td>\n",
       "      <td>-1.54858</td>\n",
       "      <td>CL0</td>\n",
       "    </tr>\n",
       "  </tbody>\n",
       "</table>\n",
       "</div>\n",
       "      <button class=\"colab-df-convert\" onclick=\"convertToInteractive('df-13614361-0dd2-4650-ab00-bd50262d9f41')\"\n",
       "              title=\"Convert this dataframe to an interactive table.\"\n",
       "              style=\"display:none;\">\n",
       "        \n",
       "  <svg xmlns=\"http://www.w3.org/2000/svg\" height=\"24px\"viewBox=\"0 0 24 24\"\n",
       "       width=\"24px\">\n",
       "    <path d=\"M0 0h24v24H0V0z\" fill=\"none\"/>\n",
       "    <path d=\"M18.56 5.44l.94 2.06.94-2.06 2.06-.94-2.06-.94-.94-2.06-.94 2.06-2.06.94zm-11 1L8.5 8.5l.94-2.06 2.06-.94-2.06-.94L8.5 2.5l-.94 2.06-2.06.94zm10 10l.94 2.06.94-2.06 2.06-.94-2.06-.94-.94-2.06-.94 2.06-2.06.94z\"/><path d=\"M17.41 7.96l-1.37-1.37c-.4-.4-.92-.59-1.43-.59-.52 0-1.04.2-1.43.59L10.3 9.45l-7.72 7.72c-.78.78-.78 2.05 0 2.83L4 21.41c.39.39.9.59 1.41.59.51 0 1.02-.2 1.41-.59l7.78-7.78 2.81-2.81c.8-.78.8-2.07 0-2.86zM5.41 20L4 18.59l7.72-7.72 1.47 1.35L5.41 20z\"/>\n",
       "  </svg>\n",
       "      </button>\n",
       "      \n",
       "  <style>\n",
       "    .colab-df-container {\n",
       "      display:flex;\n",
       "      flex-wrap:wrap;\n",
       "      gap: 12px;\n",
       "    }\n",
       "\n",
       "    .colab-df-convert {\n",
       "      background-color: #E8F0FE;\n",
       "      border: none;\n",
       "      border-radius: 50%;\n",
       "      cursor: pointer;\n",
       "      display: none;\n",
       "      fill: #1967D2;\n",
       "      height: 32px;\n",
       "      padding: 0 0 0 0;\n",
       "      width: 32px;\n",
       "    }\n",
       "\n",
       "    .colab-df-convert:hover {\n",
       "      background-color: #E2EBFA;\n",
       "      box-shadow: 0px 1px 2px rgba(60, 64, 67, 0.3), 0px 1px 3px 1px rgba(60, 64, 67, 0.15);\n",
       "      fill: #174EA6;\n",
       "    }\n",
       "\n",
       "    [theme=dark] .colab-df-convert {\n",
       "      background-color: #3B4455;\n",
       "      fill: #D2E3FC;\n",
       "    }\n",
       "\n",
       "    [theme=dark] .colab-df-convert:hover {\n",
       "      background-color: #434B5C;\n",
       "      box-shadow: 0px 1px 3px 1px rgba(0, 0, 0, 0.15);\n",
       "      filter: drop-shadow(0px 1px 2px rgba(0, 0, 0, 0.3));\n",
       "      fill: #FFFFFF;\n",
       "    }\n",
       "  </style>\n",
       "\n",
       "      <script>\n",
       "        const buttonEl =\n",
       "          document.querySelector('#df-13614361-0dd2-4650-ab00-bd50262d9f41 button.colab-df-convert');\n",
       "        buttonEl.style.display =\n",
       "          google.colab.kernel.accessAllowed ? 'block' : 'none';\n",
       "\n",
       "        async function convertToInteractive(key) {\n",
       "          const element = document.querySelector('#df-13614361-0dd2-4650-ab00-bd50262d9f41');\n",
       "          const dataTable =\n",
       "            await google.colab.kernel.invokeFunction('convertToInteractive',\n",
       "                                                     [key], {});\n",
       "          if (!dataTable) return;\n",
       "\n",
       "          const docLinkHtml = 'Like what you see? Visit the ' +\n",
       "            '<a target=\"_blank\" href=https://colab.research.google.com/notebooks/data_table.ipynb>data table notebook</a>'\n",
       "            + ' to learn more about interactive tables.';\n",
       "          element.innerHTML = '';\n",
       "          dataTable['output_type'] = 'display_data';\n",
       "          await google.colab.output.renderOutput(dataTable, element);\n",
       "          const docLink = document.createElement('div');\n",
       "          docLink.innerHTML = docLinkHtml;\n",
       "          element.appendChild(docLink);\n",
       "        }\n",
       "      </script>\n",
       "    </div>\n",
       "  </div>\n",
       "  "
      ],
      "text/plain": [
       "       Age   Gender  Education  Country  Ethnicity   Nscore   Escore   Oscore  \\\n",
       "0 -0.07854 -0.48246    1.98437  0.96082   -0.31685 -0.67825  1.93886  1.43533   \n",
       "1  0.49788 -0.48246   -0.05921  0.96082   -0.31685 -0.46725  0.80523 -0.84732   \n",
       "2 -0.95197  0.48246    1.16365  0.96082   -0.31685 -0.14882 -0.80615 -0.01928   \n",
       "3  0.49788  0.48246    1.98437  0.96082   -0.31685  0.73545 -1.63340 -0.45174   \n",
       "4  2.59171  0.48246   -1.22751  0.24923   -0.31685 -0.67825 -0.30033 -1.55521   \n",
       "\n",
       "    AScore   Cscore  Impulsive       SS Heroin  \n",
       "0  0.76096 -0.14277   -0.71126 -0.21575    CL0  \n",
       "1 -1.62090 -1.01450   -1.37983  0.40148    CL0  \n",
       "2  0.59042  0.58489   -1.37983 -1.18084    CL0  \n",
       "3 -0.30172  1.30612   -0.21712 -0.21575    CL0  \n",
       "4  2.03972  1.63088   -1.37983 -1.54858    CL0  "
      ]
     },
     "execution_count": 55,
     "metadata": {},
     "output_type": "execute_result"
    }
   ],
   "source": [
    "df_heroin.head()"
   ]
  },
  {
   "cell_type": "code",
   "execution_count": 56,
   "metadata": {
    "colab": {
     "base_uri": "https://localhost:8080/"
    },
    "id": "BS-WMrcyFKLJ",
    "outputId": "88ca762c-a127-48d7-8759-8066a7dfb8ea"
   },
   "outputs": [
    {
     "name": "stdout",
     "output_type": "stream",
     "text": [
      "X_heroin_train, y_heroin_train:  (1507, 12) (1507,)\n",
      "X_heroin_dev, y_heroin_dev:  (1205, 12) (1205,)\n",
      "X_heroin_val, y_heroin_val:  (302, 12) (302,)\n",
      "X_heroin_test, y_heroin_test:  (377, 12) (377,)\n"
     ]
    }
   ],
   "source": [
    "X_heroin = df_heroin.drop('Heroin', axis=1)\n",
    "y_heroin = df_heroin['Heroin']\n",
    "\n",
    "X_heroin_train, X_heroin_test, y_heroin_train, y_heroin_test = train_test_split(X_heroin, y_heroin, test_size=0.2, random_state=42)\n",
    "\n",
    "X_heroin_dev, X_heroin_val, y_heroin_dev, y_heroin_val = train_test_split(X_heroin_train, y_heroin_train, test_size=0.2, random_state=42)\n",
    "\n",
    "print(\"X_heroin_train, y_heroin_train: \", X_heroin_train.shape, y_heroin_train.shape)\n",
    "print(\"X_heroin_dev, y_heroin_dev: \", X_heroin_dev.shape, y_heroin_dev.shape)\n",
    "print(\"X_heroin_val, y_heroin_val: \", X_heroin_val.shape, y_heroin_val.shape)\n",
    "print(\"X_heroin_test, y_heroin_test: \", X_heroin_test.shape, y_heroin_test.shape)"
   ]
  },
  {
   "cell_type": "code",
   "execution_count": 57,
   "metadata": {
    "colab": {
     "base_uri": "https://localhost:8080/"
    },
    "id": "2mjKcZKJFtxR",
    "outputId": "e53989a4-9cc8-45a7-ee4a-5b4800ffadc1"
   },
   "outputs": [
    {
     "data": {
      "text/plain": [
       "SVC(kernel='linear')"
      ]
     },
     "execution_count": 57,
     "metadata": {},
     "output_type": "execute_result"
    }
   ],
   "source": [
    "svm_classifier_dual_heroin = SVC(kernel='linear')\n",
    "svm_classifier_dual_heroin.fit(X_heroin_dev, y_heroin_dev)"
   ]
  },
  {
   "cell_type": "code",
   "execution_count": 58,
   "metadata": {
    "colab": {
     "base_uri": "https://localhost:8080/"
    },
    "id": "yeqPl-ugF0Xe",
    "outputId": "2cc43c2d-a0b5-4d0f-e9d9-22c47931c774"
   },
   "outputs": [
    {
     "name": "stdout",
     "output_type": "stream",
     "text": [
      "Accuracy on developemnt set:  0.8547717842323651\n",
      "Accuracy on validation set:  0.8377483443708609\n",
      "Accuracy on test set:  0.8514588859416445\n",
      "Test Confusion Matrix :  [[321   0   0   0   0   0   0]\n",
      " [ 17   0   0   0   0   0   0]\n",
      " [ 15   0   0   0   0   0   0]\n",
      " [ 15   0   0   0   0   0   0]\n",
      " [  5   0   0   0   0   0   0]\n",
      " [  3   0   0   0   0   0   0]\n",
      " [  1   0   0   0   0   0   0]]\n",
      "Test Macro F1 0.1313958248055669\n",
      "Test Micro F1 0.8514588859416445\n",
      "Test Weighted F1 0.7831469982443207\n"
     ]
    }
   ],
   "source": [
    "y_heroin_dev_predict = svm_classifier_dual_heroin.predict(X_heroin_dev)\n",
    "y_heroin_val_predict = svm_classifier_dual_heroin.predict(X_heroin_val)\n",
    "y_heroin_test_predict = svm_classifier_dual_heroin.predict(X_heroin_test)\n",
    "\n",
    "print(\"Accuracy on developemnt set: \", metrics.accuracy_score(y_heroin_dev, y_heroin_dev_predict))\n",
    "print(\"Accuracy on validation set: \", metrics.accuracy_score(y_heroin_val, y_heroin_val_predict))\n",
    "print(\"Accuracy on test set: \", metrics.accuracy_score(y_heroin_test, y_heroin_test_predict))\n",
    "\n",
    "print(\"Test Confusion Matrix : \", metrics.confusion_matrix(y_heroin_test, y_heroin_test_predict))\n",
    "print('Test Macro F1', metrics.f1_score(y_heroin_test, y_heroin_test_predict, average='macro'))\n",
    "print('Test Micro F1', metrics.f1_score(y_heroin_test, y_heroin_test_predict, average='micro'))\n",
    "print('Test Weighted F1', metrics.f1_score(y_heroin_test, y_heroin_test_predict, average='weighted'))"
   ]
  },
  {
   "cell_type": "markdown",
   "metadata": {
    "id": "jHistsiW7c8S"
   },
   "source": [
    "**Classification for Heroin using Neural Networks**"
   ]
  },
  {
   "cell_type": "code",
   "execution_count": 254,
   "metadata": {
    "id": "8XHcrOYF7im5"
   },
   "outputs": [],
   "source": [
    "X_heroin_dev_np = X_heroin_dev.to_numpy()\n",
    "y_heroin_dev_np = y_heroin_dev.to_numpy().reshape(y_heroin_dev.shape[0], 1)\n",
    "\n",
    "X_heroin_val_np = X_heroin_val.to_numpy()\n",
    "y_heroin_val_np = y_heroin_val.to_numpy().reshape(y_heroin_val.shape[0], 1)\n",
    "\n",
    "X_heroin_test_np = X_heroin_test.to_numpy()\n",
    "y_heroin_test_np = y_heroin_test.to_numpy().reshape(y_heroin_test.shape[0], 1)"
   ]
  },
  {
   "cell_type": "code",
   "execution_count": 255,
   "metadata": {
    "id": "0gbBUSh-7irF"
   },
   "outputs": [],
   "source": [
    "from sklearn.preprocessing import OneHotEncoder\n",
    "ohe = OneHotEncoder()\n",
    "\n",
    "y_heroin_dev_ohe = ohe.fit_transform(y_heroin_dev_np).toarray()\n",
    "y_heroin_val_ohe = ohe.fit_transform(y_heroin_val_np).toarray()\n",
    "y_heroin_test_ohe = ohe.fit_transform(y_heroin_test_np).toarray()"
   ]
  },
  {
   "cell_type": "code",
   "execution_count": 256,
   "metadata": {
    "id": "p0yigudI7iyx"
   },
   "outputs": [],
   "source": [
    "from tensorflow.keras.models import Sequential\n",
    "from tensorflow.keras.layers import Dense\n",
    "from tensorflow.keras.layers import BatchNormalization\n",
    "from tensorflow.keras.layers import Dropout\n",
    "\n",
    "model_heroin = Sequential()\n",
    "\n",
    "model_heroin.add(Dense(64, input_dim=12, activation='relu'))\n",
    "model_heroin.add(Dropout(0.2))\n",
    "model_heroin.add(BatchNormalization())\n",
    "\n",
    "model_heroin.add(Dense(32, activation='relu'))\n",
    "model_heroin.add(Dropout(0.2))\n",
    "model_heroin.add(BatchNormalization())\n",
    "\n",
    "model_heroin.add(Dense(7, activation='softmax')) "
   ]
  },
  {
   "cell_type": "code",
   "execution_count": 257,
   "metadata": {
    "id": "u3hpB5WE7i5l"
   },
   "outputs": [],
   "source": [
    "model_heroin.compile(optimizer='adam', loss='categorical_crossentropy', metrics=['accuracy'])\n",
    "history_heroin = model_heroin.fit(X_heroin_dev_np, y_heroin_dev_ohe, epochs=50, verbose=0, batch_size=128, validation_data=(X_heroin_val_np, y_heroin_val_ohe))"
   ]
  },
  {
   "cell_type": "code",
   "execution_count": 258,
   "metadata": {
    "colab": {
     "base_uri": "https://localhost:8080/",
     "height": 299
    },
    "id": "RjfiLyWN7jCK",
    "outputId": "08f44665-966f-44ee-ad00-4cbfea9056bf"
   },
   "outputs": [
    {
     "data": {
      "text/plain": [
       "[]"
      ]
     },
     "execution_count": 258,
     "metadata": {},
     "output_type": "execute_result"
    },
    {
     "data": {
      "image/png": "[encoded data removed]",
      "text/plain": [
       "<Figure size 432x288 with 1 Axes>"
      ]
     },
     "metadata": {
      "needs_background": "light"
     },
     "output_type": "display_data"
    }
   ],
   "source": [
    "plt.plot(history_heroin.history['loss'])\n",
    "plt.plot(history_heroin.history['val_loss'])\n",
    "plt.title('Loss - Heroin')\n",
    "plt.legend(['train_loss', 'validation_loss'])\n",
    "plt.plot()"
   ]
  },
  {
   "cell_type": "code",
   "execution_count": 259,
   "metadata": {
    "colab": {
     "base_uri": "https://localhost:8080/",
     "height": 299
    },
    "id": "VdDQEfM17jI-",
    "outputId": "30d9aaad-de22-4f16-bfc4-e705b0aeefd2"
   },
   "outputs": [
    {
     "data": {
      "text/plain": [
       "[]"
      ]
     },
     "execution_count": 259,
     "metadata": {},
     "output_type": "execute_result"
    },
    {
     "data": {
      "image/png": "[encoded data removed]",
      "text/plain": [
       "<Figure size 432x288 with 1 Axes>"
      ]
     },
     "metadata": {
      "needs_background": "light"
     },
     "output_type": "display_data"
    }
   ],
   "source": [
    "plt.plot(history_heroin.history['accuracy'])\n",
    "plt.plot(history_heroin.history['val_accuracy'])\n",
    "plt.title('Accuracy - Heroin')\n",
    "plt.legend(['train_acc', 'validation_acc'])\n",
    "plt.plot()"
   ]
  },
  {
   "cell_type": "code",
   "execution_count": 260,
   "metadata": {
    "colab": {
     "base_uri": "https://localhost:8080/"
    },
    "id": "njHNOjAz7jOj",
    "outputId": "26979443-7fb1-4a09-cab9-e73f727c63a5"
   },
   "outputs": [
    {
     "name": "stdout",
     "output_type": "stream",
     "text": [
      "12/12 [==============================] - 0s 2ms/step - loss: 0.5478 - accuracy: 0.8541\n",
      "\n",
      " Accuracy is:  0.8541114330291748\n"
     ]
    }
   ],
   "source": [
    "score = model_heroin.evaluate(X_heroin_test_np, y_heroin_test_ohe)\n",
    "print(\"\\n Accuracy is: \", score[1])"
   ]
  },
  {
   "cell_type": "markdown",
   "metadata": {
    "id": "i_AFJq-eGFo5"
   },
   "source": [
    "**Classification for LSD using SVM - Dual**"
   ]
  },
  {
   "cell_type": "code",
   "execution_count": 52,
   "metadata": {
    "colab": {
     "base_uri": "https://localhost:8080/",
     "height": 206
    },
    "id": "MpOPKr7D4CzV",
    "outputId": "80be572a-37c4-4ecf-f0a8-545df84eed5b"
   },
   "outputs": [
    {
     "data": {
      "text/html": [
       "\n",
       "  <div id=\"df-b7c1d194-8eb1-498c-9e73-23bc918891ba\">\n",
       "    <div class=\"colab-df-container\">\n",
       "      <div>\n",
       "<style scoped>\n",
       "    .dataframe tbody tr th:only-of-type {\n",
       "        vertical-align: middle;\n",
       "    }\n",
       "\n",
       "    .dataframe tbody tr th {\n",
       "        vertical-align: top;\n",
       "    }\n",
       "\n",
       "    .dataframe thead th {\n",
       "        text-align: right;\n",
       "    }\n",
       "</style>\n",
       "<table border=\"1\" class=\"dataframe\">\n",
       "  <thead>\n",
       "    <tr style=\"text-align: right;\">\n",
       "      <th></th>\n",
       "      <th>Age</th>\n",
       "      <th>Gender</th>\n",
       "      <th>Education</th>\n",
       "      <th>Country</th>\n",
       "      <th>Ethnicity</th>\n",
       "      <th>Nscore</th>\n",
       "      <th>Escore</th>\n",
       "      <th>Oscore</th>\n",
       "      <th>AScore</th>\n",
       "      <th>Cscore</th>\n",
       "      <th>Impulsive</th>\n",
       "      <th>SS</th>\n",
       "      <th>LSD</th>\n",
       "    </tr>\n",
       "  </thead>\n",
       "  <tbody>\n",
       "    <tr>\n",
       "      <th>0</th>\n",
       "      <td>-0.07854</td>\n",
       "      <td>-0.48246</td>\n",
       "      <td>1.98437</td>\n",
       "      <td>0.96082</td>\n",
       "      <td>-0.31685</td>\n",
       "      <td>-0.67825</td>\n",
       "      <td>1.93886</td>\n",
       "      <td>1.43533</td>\n",
       "      <td>0.76096</td>\n",
       "      <td>-0.14277</td>\n",
       "      <td>-0.71126</td>\n",
       "      <td>-0.21575</td>\n",
       "      <td>CL2</td>\n",
       "    </tr>\n",
       "    <tr>\n",
       "      <th>1</th>\n",
       "      <td>0.49788</td>\n",
       "      <td>-0.48246</td>\n",
       "      <td>-0.05921</td>\n",
       "      <td>0.96082</td>\n",
       "      <td>-0.31685</td>\n",
       "      <td>-0.46725</td>\n",
       "      <td>0.80523</td>\n",
       "      <td>-0.84732</td>\n",
       "      <td>-1.62090</td>\n",
       "      <td>-1.01450</td>\n",
       "      <td>-1.37983</td>\n",
       "      <td>0.40148</td>\n",
       "      <td>CL0</td>\n",
       "    </tr>\n",
       "    <tr>\n",
       "      <th>2</th>\n",
       "      <td>-0.95197</td>\n",
       "      <td>0.48246</td>\n",
       "      <td>1.16365</td>\n",
       "      <td>0.96082</td>\n",
       "      <td>-0.31685</td>\n",
       "      <td>-0.14882</td>\n",
       "      <td>-0.80615</td>\n",
       "      <td>-0.01928</td>\n",
       "      <td>0.59042</td>\n",
       "      <td>0.58489</td>\n",
       "      <td>-1.37983</td>\n",
       "      <td>-1.18084</td>\n",
       "      <td>CL0</td>\n",
       "    </tr>\n",
       "    <tr>\n",
       "      <th>3</th>\n",
       "      <td>0.49788</td>\n",
       "      <td>0.48246</td>\n",
       "      <td>1.98437</td>\n",
       "      <td>0.96082</td>\n",
       "      <td>-0.31685</td>\n",
       "      <td>0.73545</td>\n",
       "      <td>-1.63340</td>\n",
       "      <td>-0.45174</td>\n",
       "      <td>-0.30172</td>\n",
       "      <td>1.30612</td>\n",
       "      <td>-0.21712</td>\n",
       "      <td>-0.21575</td>\n",
       "      <td>CL0</td>\n",
       "    </tr>\n",
       "    <tr>\n",
       "      <th>4</th>\n",
       "      <td>2.59171</td>\n",
       "      <td>0.48246</td>\n",
       "      <td>-1.22751</td>\n",
       "      <td>0.24923</td>\n",
       "      <td>-0.31685</td>\n",
       "      <td>-0.67825</td>\n",
       "      <td>-0.30033</td>\n",
       "      <td>-1.55521</td>\n",
       "      <td>2.03972</td>\n",
       "      <td>1.63088</td>\n",
       "      <td>-1.37983</td>\n",
       "      <td>-1.54858</td>\n",
       "      <td>CL0</td>\n",
       "    </tr>\n",
       "  </tbody>\n",
       "</table>\n",
       "</div>\n",
       "      <button class=\"colab-df-convert\" onclick=\"convertToInteractive('df-b7c1d194-8eb1-498c-9e73-23bc918891ba')\"\n",
       "              title=\"Convert this dataframe to an interactive table.\"\n",
       "              style=\"display:none;\">\n",
       "        \n",
       "  <svg xmlns=\"http://www.w3.org/2000/svg\" height=\"24px\"viewBox=\"0 0 24 24\"\n",
       "       width=\"24px\">\n",
       "    <path d=\"M0 0h24v24H0V0z\" fill=\"none\"/>\n",
       "    <path d=\"M18.56 5.44l.94 2.06.94-2.06 2.06-.94-2.06-.94-.94-2.06-.94 2.06-2.06.94zm-11 1L8.5 8.5l.94-2.06 2.06-.94-2.06-.94L8.5 2.5l-.94 2.06-2.06.94zm10 10l.94 2.06.94-2.06 2.06-.94-2.06-.94-.94-2.06-.94 2.06-2.06.94z\"/><path d=\"M17.41 7.96l-1.37-1.37c-.4-.4-.92-.59-1.43-.59-.52 0-1.04.2-1.43.59L10.3 9.45l-7.72 7.72c-.78.78-.78 2.05 0 2.83L4 21.41c.39.39.9.59 1.41.59.51 0 1.02-.2 1.41-.59l7.78-7.78 2.81-2.81c.8-.78.8-2.07 0-2.86zM5.41 20L4 18.59l7.72-7.72 1.47 1.35L5.41 20z\"/>\n",
       "  </svg>\n",
       "      </button>\n",
       "      \n",
       "  <style>\n",
       "    .colab-df-container {\n",
       "      display:flex;\n",
       "      flex-wrap:wrap;\n",
       "      gap: 12px;\n",
       "    }\n",
       "\n",
       "    .colab-df-convert {\n",
       "      background-color: #E8F0FE;\n",
       "      border: none;\n",
       "      border-radius: 50%;\n",
       "      cursor: pointer;\n",
       "      display: none;\n",
       "      fill: #1967D2;\n",
       "      height: 32px;\n",
       "      padding: 0 0 0 0;\n",
       "      width: 32px;\n",
       "    }\n",
       "\n",
       "    .colab-df-convert:hover {\n",
       "      background-color: #E2EBFA;\n",
       "      box-shadow: 0px 1px 2px rgba(60, 64, 67, 0.3), 0px 1px 3px 1px rgba(60, 64, 67, 0.15);\n",
       "      fill: #174EA6;\n",
       "    }\n",
       "\n",
       "    [theme=dark] .colab-df-convert {\n",
       "      background-color: #3B4455;\n",
       "      fill: #D2E3FC;\n",
       "    }\n",
       "\n",
       "    [theme=dark] .colab-df-convert:hover {\n",
       "      background-color: #434B5C;\n",
       "      box-shadow: 0px 1px 3px 1px rgba(0, 0, 0, 0.15);\n",
       "      filter: drop-shadow(0px 1px 2px rgba(0, 0, 0, 0.3));\n",
       "      fill: #FFFFFF;\n",
       "    }\n",
       "  </style>\n",
       "\n",
       "      <script>\n",
       "        const buttonEl =\n",
       "          document.querySelector('#df-b7c1d194-8eb1-498c-9e73-23bc918891ba button.colab-df-convert');\n",
       "        buttonEl.style.display =\n",
       "          google.colab.kernel.accessAllowed ? 'block' : 'none';\n",
       "\n",
       "        async function convertToInteractive(key) {\n",
       "          const element = document.querySelector('#df-b7c1d194-8eb1-498c-9e73-23bc918891ba');\n",
       "          const dataTable =\n",
       "            await google.colab.kernel.invokeFunction('convertToInteractive',\n",
       "                                                     [key], {});\n",
       "          if (!dataTable) return;\n",
       "\n",
       "          const docLinkHtml = 'Like what you see? Visit the ' +\n",
       "            '<a target=\"_blank\" href=https://colab.research.google.com/notebooks/data_table.ipynb>data table notebook</a>'\n",
       "            + ' to learn more about interactive tables.';\n",
       "          element.innerHTML = '';\n",
       "          dataTable['output_type'] = 'display_data';\n",
       "          await google.colab.output.renderOutput(dataTable, element);\n",
       "          const docLink = document.createElement('div');\n",
       "          docLink.innerHTML = docLinkHtml;\n",
       "          element.appendChild(docLink);\n",
       "        }\n",
       "      </script>\n",
       "    </div>\n",
       "  </div>\n",
       "  "
      ],
      "text/plain": [
       "       Age   Gender  Education  Country  Ethnicity   Nscore   Escore   Oscore  \\\n",
       "0 -0.07854 -0.48246    1.98437  0.96082   -0.31685 -0.67825  1.93886  1.43533   \n",
       "1  0.49788 -0.48246   -0.05921  0.96082   -0.31685 -0.46725  0.80523 -0.84732   \n",
       "2 -0.95197  0.48246    1.16365  0.96082   -0.31685 -0.14882 -0.80615 -0.01928   \n",
       "3  0.49788  0.48246    1.98437  0.96082   -0.31685  0.73545 -1.63340 -0.45174   \n",
       "4  2.59171  0.48246   -1.22751  0.24923   -0.31685 -0.67825 -0.30033 -1.55521   \n",
       "\n",
       "    AScore   Cscore  Impulsive       SS  LSD  \n",
       "0  0.76096 -0.14277   -0.71126 -0.21575  CL2  \n",
       "1 -1.62090 -1.01450   -1.37983  0.40148  CL0  \n",
       "2  0.59042  0.58489   -1.37983 -1.18084  CL0  \n",
       "3 -0.30172  1.30612   -0.21712 -0.21575  CL0  \n",
       "4  2.03972  1.63088   -1.37983 -1.54858  CL0  "
      ]
     },
     "execution_count": 52,
     "metadata": {},
     "output_type": "execute_result"
    }
   ],
   "source": [
    "df_lsd.head()"
   ]
  },
  {
   "cell_type": "code",
   "execution_count": 53,
   "metadata": {
    "colab": {
     "base_uri": "https://localhost:8080/"
    },
    "id": "qJtyCQ-3GI67",
    "outputId": "cbee27dc-d905-417b-bf9b-3ef451b3b965"
   },
   "outputs": [
    {
     "name": "stdout",
     "output_type": "stream",
     "text": [
      "X_lsd_train, y_lsd_train:  (1507, 12) (1507,)\n",
      "X_lsd_dev, y_lsd_dev:  (1205, 12) (1205,)\n",
      "X_lsd_val, y_lsd_val:  (302, 12) (302,)\n",
      "X_lsd_test, y_lsd_test:  (377, 12) (377,)\n"
     ]
    }
   ],
   "source": [
    "X_lsd = df_lsd.drop('LSD', axis=1)\n",
    "y_lsd = df_lsd['LSD']\n",
    "\n",
    "X_lsd_train, X_lsd_test, y_lsd_train, y_lsd_test = train_test_split(X_lsd, y_lsd, test_size=0.2, random_state=42)\n",
    "\n",
    "X_lsd_dev, X_lsd_val, y_lsd_dev, y_lsd_val = train_test_split(X_lsd_train, y_lsd_train, test_size=0.2, random_state=42)\n",
    "\n",
    "print(\"X_lsd_train, y_lsd_train: \", X_lsd_train.shape, y_lsd_train.shape)\n",
    "print(\"X_lsd_dev, y_lsd_dev: \", X_lsd_dev.shape, y_lsd_dev.shape)\n",
    "print(\"X_lsd_val, y_lsd_val: \", X_lsd_val.shape, y_lsd_val.shape)\n",
    "print(\"X_lsd_test, y_lsd_test: \", X_lsd_test.shape, y_lsd_test.shape)"
   ]
  },
  {
   "cell_type": "code",
   "execution_count": 54,
   "metadata": {
    "colab": {
     "base_uri": "https://localhost:8080/"
    },
    "id": "H474MG-hG2Sz",
    "outputId": "7be10658-29e6-4cfe-cd5b-0485621a2311"
   },
   "outputs": [
    {
     "data": {
      "text/plain": [
       "SVC(kernel='linear')"
      ]
     },
     "execution_count": 54,
     "metadata": {},
     "output_type": "execute_result"
    }
   ],
   "source": [
    "svm_classifier_dual_lsd = SVC(kernel='linear')\n",
    "svm_classifier_dual_lsd.fit(X_lsd_dev, y_lsd_dev)"
   ]
  },
  {
   "cell_type": "code",
   "execution_count": 55,
   "metadata": {
    "colab": {
     "base_uri": "https://localhost:8080/"
    },
    "id": "gMe2i9Y5G4pA",
    "outputId": "fc1d55a9-5de0-445c-852f-697500672473"
   },
   "outputs": [
    {
     "name": "stdout",
     "output_type": "stream",
     "text": [
      "Accuracy on developemnt set:  0.6091286307053941\n",
      "Accuracy on validation set:  0.5662251655629139\n",
      "Accuracy on test set:  0.6047745358090185\n",
      "Test Confusion Matrix :  [[198   4   0  24   0   0   0]\n",
      " [ 46  10   0   1   0   0   0]\n",
      " [ 26   1   0   1   0   0   0]\n",
      " [ 20   0   0  20   0   0   0]\n",
      " [  5   1   0  12   0   0   0]\n",
      " [  3   0   0   4   0   0   0]\n",
      " [  0   0   0   1   0   0   0]]\n",
      "Test Macro F1 0.20257818687750392\n",
      "Test Micro F1 0.6047745358090185\n",
      "Test Weighted F1 0.5356613052213783\n"
     ]
    }
   ],
   "source": [
    "y_lsd_dev_predict = svm_classifier_dual_lsd.predict(X_lsd_dev)\n",
    "y_lsd_val_predict = svm_classifier_dual_lsd.predict(X_lsd_val)\n",
    "y_lsd_test_predict = svm_classifier_dual_lsd.predict(X_lsd_test)\n",
    "\n",
    "print(\"Accuracy on developemnt set: \", metrics.accuracy_score(y_lsd_dev, y_lsd_dev_predict))\n",
    "print(\"Accuracy on validation set: \", metrics.accuracy_score(y_lsd_val, y_lsd_val_predict))\n",
    "print(\"Accuracy on test set: \", metrics.accuracy_score(y_lsd_test, y_lsd_test_predict))\n",
    "\n",
    "print(\"Test Confusion Matrix : \", metrics.confusion_matrix(y_lsd_test, y_lsd_test_predict))\n",
    "print('Test Macro F1', metrics.f1_score(y_lsd_test, y_lsd_test_predict, average='macro'))\n",
    "print('Test Micro F1', metrics.f1_score(y_lsd_test, y_lsd_test_predict, average='micro'))\n",
    "print('Test Weighted F1', metrics.f1_score(y_lsd_test, y_lsd_test_predict, average='weighted'))"
   ]
  },
  {
   "cell_type": "markdown",
   "metadata": {
    "id": "Lysjrvb_8yfU"
   },
   "source": [
    "**Classification for LSD using Neural Networks**"
   ]
  },
  {
   "cell_type": "code",
   "execution_count": 56,
   "metadata": {
    "id": "59dv9PBb82CJ"
   },
   "outputs": [],
   "source": [
    "X_lsd_dev_np = X_lsd_dev.to_numpy()\n",
    "y_lsd_dev_np = y_lsd_dev.to_numpy().reshape(y_lsd_dev.shape[0], 1)\n",
    "\n",
    "X_lsd_val_np = X_lsd_val.to_numpy()\n",
    "y_lsd_val_np = y_lsd_val.to_numpy().reshape(y_lsd_val.shape[0], 1)\n",
    "\n",
    "X_lsd_test_np = X_lsd_test.to_numpy()\n",
    "y_lsd_test_np = y_lsd_test.to_numpy().reshape(y_lsd_test.shape[0], 1)"
   ]
  },
  {
   "cell_type": "code",
   "execution_count": 262,
   "metadata": {
    "id": "RzhNtdcF82E2"
   },
   "outputs": [],
   "source": [
    "from sklearn.preprocessing import OneHotEncoder\n",
    "ohe = OneHotEncoder()\n",
    "\n",
    "y_lsd_dev_ohe = ohe.fit_transform(y_lsd_dev_np).toarray()\n",
    "y_lsd_val_ohe = ohe.fit_transform(y_lsd_val_np).toarray()\n",
    "y_lsd_test_ohe = ohe.fit_transform(y_lsd_test_np).toarray()"
   ]
  },
  {
   "cell_type": "code",
   "execution_count": 263,
   "metadata": {
    "id": "6Jsdgscr82JD"
   },
   "outputs": [],
   "source": [
    "from tensorflow.keras.models import Sequential\n",
    "from tensorflow.keras.layers import Dense\n",
    "from tensorflow.keras.layers import BatchNormalization\n",
    "from tensorflow.keras.layers import Dropout\n",
    "\n",
    "model_lsd = Sequential()\n",
    "\n",
    "model_lsd.add(Dense(64, input_dim=12, activation='relu'))\n",
    "model_lsd.add(Dropout(0.2))\n",
    "model_lsd.add(BatchNormalization())\n",
    "\n",
    "model_lsd.add(Dense(32, activation='relu'))\n",
    "model_lsd.add(Dropout(0.2))\n",
    "model_lsd.add(BatchNormalization())\n",
    "\n",
    "model_lsd.add(Dense(7, activation='softmax')) "
   ]
  },
  {
   "cell_type": "code",
   "execution_count": 264,
   "metadata": {
    "id": "IO8K5RcK82Ok"
   },
   "outputs": [],
   "source": [
    "model_lsd.compile(optimizer='adam', loss='categorical_crossentropy', metrics=['accuracy'])\n",
    "history_lsd = model_lsd.fit(X_lsd_dev_np, y_lsd_dev_ohe, epochs=50, verbose=0, batch_size=128, validation_data=(X_lsd_val_np, y_lsd_val_ohe))"
   ]
  },
  {
   "cell_type": "code",
   "execution_count": 265,
   "metadata": {
    "colab": {
     "base_uri": "https://localhost:8080/",
     "height": 299
    },
    "id": "N_OjxjFX82UO",
    "outputId": "bceb47a7-03cf-4fba-92b7-c1abb8d3a910"
   },
   "outputs": [
    {
     "data": {
      "text/plain": [
       "[]"
      ]
     },
     "execution_count": 265,
     "metadata": {},
     "output_type": "execute_result"
    },
    {
     "data": {
      "image/png": "[encoded data removed]",
      "text/plain": [
       "<Figure size 432x288 with 1 Axes>"
      ]
     },
     "metadata": {
      "needs_background": "light"
     },
     "output_type": "display_data"
    }
   ],
   "source": [
    "plt.plot(history_lsd.history['loss'])\n",
    "plt.plot(history_lsd.history['val_loss'])\n",
    "plt.title('Loss - LSD')\n",
    "plt.legend(['train_loss', 'validation_loss'])\n",
    "plt.plot()"
   ]
  },
  {
   "cell_type": "code",
   "execution_count": 266,
   "metadata": {
    "colab": {
     "base_uri": "https://localhost:8080/",
     "height": 299
    },
    "id": "Z980eQii82Zz",
    "outputId": "634122f0-d545-447b-d0cd-752f326c6ea3"
   },
   "outputs": [
    {
     "data": {
      "text/plain": [
       "[]"
      ]
     },
     "execution_count": 266,
     "metadata": {},
     "output_type": "execute_result"
    },
    {
     "data": {
      "image/png": "[encoded data removed]",
      "text/plain": [
       "<Figure size 432x288 with 1 Axes>"
      ]
     },
     "metadata": {
      "needs_background": "light"
     },
     "output_type": "display_data"
    }
   ],
   "source": [
    "plt.plot(history_lsd.history['accuracy'])\n",
    "plt.plot(history_lsd.history['val_accuracy'])\n",
    "plt.title('Accuracy - LSD')\n",
    "plt.legend(['train_acc', 'validation_acc'])\n",
    "plt.plot()"
   ]
  },
  {
   "cell_type": "code",
   "execution_count": 267,
   "metadata": {
    "colab": {
     "base_uri": "https://localhost:8080/"
    },
    "id": "ClJMU6oY82ep",
    "outputId": "b7866c03-2cf9-4052-9f34-f3b9b7f82e9e"
   },
   "outputs": [
    {
     "name": "stdout",
     "output_type": "stream",
     "text": [
      "12/12 [==============================] - 0s 4ms/step - loss: 1.0280 - accuracy: 0.6127\n",
      "\n",
      " Accuracy is:  0.6127321124076843\n"
     ]
    }
   ],
   "source": [
    "score = model_lsd.evaluate(X_lsd_test_np, y_lsd_test_ohe)\n",
    "print(\"\\n Accuracy is: \", score[1])"
   ]
  },
  {
   "cell_type": "markdown",
   "metadata": {
    "id": "PQUsP1Ad9pVW"
   },
   "source": [
    "----------------------------------------------------------------------------"
   ]
  },
  {
   "cell_type": "markdown",
   "metadata": {
    "id": "fvpO0beaIQPL"
   },
   "source": [
    "**Classification for Nictione using SVM - Dual**"
   ]
  },
  {
   "cell_type": "code",
   "execution_count": 341,
   "metadata": {
    "colab": {
     "base_uri": "https://localhost:8080/",
     "height": 206
    },
    "id": "xiCloAVK3xGz",
    "outputId": "20a5764e-3d90-4c5f-84e6-c8849ab40e80"
   },
   "outputs": [
    {
     "data": {
      "text/html": [
       "\n",
       "  <div id=\"df-8a33086a-df8e-403f-beee-6a84f5c85feb\">\n",
       "    <div class=\"colab-df-container\">\n",
       "      <div>\n",
       "<style scoped>\n",
       "    .dataframe tbody tr th:only-of-type {\n",
       "        vertical-align: middle;\n",
       "    }\n",
       "\n",
       "    .dataframe tbody tr th {\n",
       "        vertical-align: top;\n",
       "    }\n",
       "\n",
       "    .dataframe thead th {\n",
       "        text-align: right;\n",
       "    }\n",
       "</style>\n",
       "<table border=\"1\" class=\"dataframe\">\n",
       "  <thead>\n",
       "    <tr style=\"text-align: right;\">\n",
       "      <th></th>\n",
       "      <th>Age</th>\n",
       "      <th>Gender</th>\n",
       "      <th>Education</th>\n",
       "      <th>Country</th>\n",
       "      <th>Ethnicity</th>\n",
       "      <th>Nscore</th>\n",
       "      <th>Escore</th>\n",
       "      <th>Oscore</th>\n",
       "      <th>AScore</th>\n",
       "      <th>Cscore</th>\n",
       "      <th>Impulsive</th>\n",
       "      <th>SS</th>\n",
       "      <th>Nicotine</th>\n",
       "    </tr>\n",
       "  </thead>\n",
       "  <tbody>\n",
       "    <tr>\n",
       "      <th>0</th>\n",
       "      <td>-0.07854</td>\n",
       "      <td>-0.48246</td>\n",
       "      <td>1.98437</td>\n",
       "      <td>0.96082</td>\n",
       "      <td>-0.31685</td>\n",
       "      <td>-0.67825</td>\n",
       "      <td>1.93886</td>\n",
       "      <td>1.43533</td>\n",
       "      <td>0.76096</td>\n",
       "      <td>-0.14277</td>\n",
       "      <td>-0.71126</td>\n",
       "      <td>-0.21575</td>\n",
       "      <td>CL4</td>\n",
       "    </tr>\n",
       "    <tr>\n",
       "      <th>1</th>\n",
       "      <td>0.49788</td>\n",
       "      <td>-0.48246</td>\n",
       "      <td>-0.05921</td>\n",
       "      <td>0.96082</td>\n",
       "      <td>-0.31685</td>\n",
       "      <td>-0.46725</td>\n",
       "      <td>0.80523</td>\n",
       "      <td>-0.84732</td>\n",
       "      <td>-1.62090</td>\n",
       "      <td>-1.01450</td>\n",
       "      <td>-1.37983</td>\n",
       "      <td>0.40148</td>\n",
       "      <td>CL0</td>\n",
       "    </tr>\n",
       "    <tr>\n",
       "      <th>2</th>\n",
       "      <td>-0.95197</td>\n",
       "      <td>0.48246</td>\n",
       "      <td>1.16365</td>\n",
       "      <td>0.96082</td>\n",
       "      <td>-0.31685</td>\n",
       "      <td>-0.14882</td>\n",
       "      <td>-0.80615</td>\n",
       "      <td>-0.01928</td>\n",
       "      <td>0.59042</td>\n",
       "      <td>0.58489</td>\n",
       "      <td>-1.37983</td>\n",
       "      <td>-1.18084</td>\n",
       "      <td>CL2</td>\n",
       "    </tr>\n",
       "    <tr>\n",
       "      <th>3</th>\n",
       "      <td>0.49788</td>\n",
       "      <td>0.48246</td>\n",
       "      <td>1.98437</td>\n",
       "      <td>0.96082</td>\n",
       "      <td>-0.31685</td>\n",
       "      <td>0.73545</td>\n",
       "      <td>-1.63340</td>\n",
       "      <td>-0.45174</td>\n",
       "      <td>-0.30172</td>\n",
       "      <td>1.30612</td>\n",
       "      <td>-0.21712</td>\n",
       "      <td>-0.21575</td>\n",
       "      <td>CL2</td>\n",
       "    </tr>\n",
       "    <tr>\n",
       "      <th>4</th>\n",
       "      <td>2.59171</td>\n",
       "      <td>0.48246</td>\n",
       "      <td>-1.22751</td>\n",
       "      <td>0.24923</td>\n",
       "      <td>-0.31685</td>\n",
       "      <td>-0.67825</td>\n",
       "      <td>-0.30033</td>\n",
       "      <td>-1.55521</td>\n",
       "      <td>2.03972</td>\n",
       "      <td>1.63088</td>\n",
       "      <td>-1.37983</td>\n",
       "      <td>-1.54858</td>\n",
       "      <td>CL6</td>\n",
       "    </tr>\n",
       "  </tbody>\n",
       "</table>\n",
       "</div>\n",
       "      <button class=\"colab-df-convert\" onclick=\"convertToInteractive('df-8a33086a-df8e-403f-beee-6a84f5c85feb')\"\n",
       "              title=\"Convert this dataframe to an interactive table.\"\n",
       "              style=\"display:none;\">\n",
       "        \n",
       "  <svg xmlns=\"http://www.w3.org/2000/svg\" height=\"24px\"viewBox=\"0 0 24 24\"\n",
       "       width=\"24px\">\n",
       "    <path d=\"M0 0h24v24H0V0z\" fill=\"none\"/>\n",
       "    <path d=\"M18.56 5.44l.94 2.06.94-2.06 2.06-.94-2.06-.94-.94-2.06-.94 2.06-2.06.94zm-11 1L8.5 8.5l.94-2.06 2.06-.94-2.06-.94L8.5 2.5l-.94 2.06-2.06.94zm10 10l.94 2.06.94-2.06 2.06-.94-2.06-.94-.94-2.06-.94 2.06-2.06.94z\"/><path d=\"M17.41 7.96l-1.37-1.37c-.4-.4-.92-.59-1.43-.59-.52 0-1.04.2-1.43.59L10.3 9.45l-7.72 7.72c-.78.78-.78 2.05 0 2.83L4 21.41c.39.39.9.59 1.41.59.51 0 1.02-.2 1.41-.59l7.78-7.78 2.81-2.81c.8-.78.8-2.07 0-2.86zM5.41 20L4 18.59l7.72-7.72 1.47 1.35L5.41 20z\"/>\n",
       "  </svg>\n",
       "      </button>\n",
       "      \n",
       "  <style>\n",
       "    .colab-df-container {\n",
       "      display:flex;\n",
       "      flex-wrap:wrap;\n",
       "      gap: 12px;\n",
       "    }\n",
       "\n",
       "    .colab-df-convert {\n",
       "      background-color: #E8F0FE;\n",
       "      border: none;\n",
       "      border-radius: 50%;\n",
       "      cursor: pointer;\n",
       "      display: none;\n",
       "      fill: #1967D2;\n",
       "      height: 32px;\n",
       "      padding: 0 0 0 0;\n",
       "      width: 32px;\n",
       "    }\n",
       "\n",
       "    .colab-df-convert:hover {\n",
       "      background-color: #E2EBFA;\n",
       "      box-shadow: 0px 1px 2px rgba(60, 64, 67, 0.3), 0px 1px 3px 1px rgba(60, 64, 67, 0.15);\n",
       "      fill: #174EA6;\n",
       "    }\n",
       "\n",
       "    [theme=dark] .colab-df-convert {\n",
       "      background-color: #3B4455;\n",
       "      fill: #D2E3FC;\n",
       "    }\n",
       "\n",
       "    [theme=dark] .colab-df-convert:hover {\n",
       "      background-color: #434B5C;\n",
       "      box-shadow: 0px 1px 3px 1px rgba(0, 0, 0, 0.15);\n",
       "      filter: drop-shadow(0px 1px 2px rgba(0, 0, 0, 0.3));\n",
       "      fill: #FFFFFF;\n",
       "    }\n",
       "  </style>\n",
       "\n",
       "      <script>\n",
       "        const buttonEl =\n",
       "          document.querySelector('#df-8a33086a-df8e-403f-beee-6a84f5c85feb button.colab-df-convert');\n",
       "        buttonEl.style.display =\n",
       "          google.colab.kernel.accessAllowed ? 'block' : 'none';\n",
       "\n",
       "        async function convertToInteractive(key) {\n",
       "          const element = document.querySelector('#df-8a33086a-df8e-403f-beee-6a84f5c85feb');\n",
       "          const dataTable =\n",
       "            await google.colab.kernel.invokeFunction('convertToInteractive',\n",
       "                                                     [key], {});\n",
       "          if (!dataTable) return;\n",
       "\n",
       "          const docLinkHtml = 'Like what you see? Visit the ' +\n",
       "            '<a target=\"_blank\" href=https://colab.research.google.com/notebooks/data_table.ipynb>data table notebook</a>'\n",
       "            + ' to learn more about interactive tables.';\n",
       "          element.innerHTML = '';\n",
       "          dataTable['output_type'] = 'display_data';\n",
       "          await google.colab.output.renderOutput(dataTable, element);\n",
       "          const docLink = document.createElement('div');\n",
       "          docLink.innerHTML = docLinkHtml;\n",
       "          element.appendChild(docLink);\n",
       "        }\n",
       "      </script>\n",
       "    </div>\n",
       "  </div>\n",
       "  "
      ],
      "text/plain": [
       "       Age   Gender  Education  Country  Ethnicity   Nscore   Escore   Oscore  \\\n",
       "0 -0.07854 -0.48246    1.98437  0.96082   -0.31685 -0.67825  1.93886  1.43533   \n",
       "1  0.49788 -0.48246   -0.05921  0.96082   -0.31685 -0.46725  0.80523 -0.84732   \n",
       "2 -0.95197  0.48246    1.16365  0.96082   -0.31685 -0.14882 -0.80615 -0.01928   \n",
       "3  0.49788  0.48246    1.98437  0.96082   -0.31685  0.73545 -1.63340 -0.45174   \n",
       "4  2.59171  0.48246   -1.22751  0.24923   -0.31685 -0.67825 -0.30033 -1.55521   \n",
       "\n",
       "    AScore   Cscore  Impulsive       SS Nicotine  \n",
       "0  0.76096 -0.14277   -0.71126 -0.21575      CL4  \n",
       "1 -1.62090 -1.01450   -1.37983  0.40148      CL0  \n",
       "2  0.59042  0.58489   -1.37983 -1.18084      CL2  \n",
       "3 -0.30172  1.30612   -0.21712 -0.21575      CL2  \n",
       "4  2.03972  1.63088   -1.37983 -1.54858      CL6  "
      ]
     },
     "execution_count": 341,
     "metadata": {},
     "output_type": "execute_result"
    }
   ],
   "source": [
    "df_nicotine.head()"
   ]
  },
  {
   "cell_type": "code",
   "execution_count": 342,
   "metadata": {
    "colab": {
     "base_uri": "https://localhost:8080/"
    },
    "id": "V5TSoIorITrs",
    "outputId": "98238962-e5d4-4cc6-fe60-0382ed16f3af"
   },
   "outputs": [
    {
     "name": "stdout",
     "output_type": "stream",
     "text": [
      "X_nicotine_train, y_nicotine_train:  (1507, 12) (1507,)\n",
      "X_nicotine_dev, y_nicotine_dev:  (1205, 12) (1205,)\n",
      "X_nicotine_val, y_nicotine_val:  (302, 12) (302,)\n",
      "X_nicotine_test, y_nicotine_test:  (377, 12) (377,)\n"
     ]
    }
   ],
   "source": [
    "X_nicotine = df_nicotine.drop('Nicotine', axis=1)\n",
    "y_nicotine = df_nicotine['Nicotine']\n",
    "\n",
    "X_nicotine_train, X_nicotine_test, y_nicotine_train, y_nicotine_test = train_test_split(X_nicotine, y_nicotine, test_size=0.2, random_state=42)\n",
    "\n",
    "X_nicotine_dev, X_nicotine_val, y_nicotine_dev, y_nicotine_val = train_test_split(X_nicotine_train, y_nicotine_train, test_size=0.2, random_state=42)\n",
    "\n",
    "print(\"X_nicotine_train, y_nicotine_train: \", X_nicotine_train.shape, y_nicotine_train.shape)\n",
    "print(\"X_nicotine_dev, y_nicotine_dev: \", X_nicotine_dev.shape, y_nicotine_dev.shape)\n",
    "print(\"X_nicotine_val, y_nicotine_val: \", X_nicotine_val.shape, y_nicotine_val.shape)\n",
    "print(\"X_nicotine_test, y_nicotine_test: \", X_nicotine_test.shape, y_nicotine_test.shape)"
   ]
  },
  {
   "cell_type": "code",
   "execution_count": 343,
   "metadata": {
    "colab": {
     "base_uri": "https://localhost:8080/"
    },
    "id": "RLXqAHGDI1HT",
    "outputId": "9eb84d25-7240-4eaf-9c34-2455d8868e26"
   },
   "outputs": [
    {
     "data": {
      "text/plain": [
       "SVC(kernel='linear')"
      ]
     },
     "execution_count": 343,
     "metadata": {},
     "output_type": "execute_result"
    }
   ],
   "source": [
    "svm_classifier_dual_nicotine = SVC(kernel='linear')\n",
    "svm_classifier_dual_nicotine.fit(X_nicotine_dev, y_nicotine_dev)"
   ]
  },
  {
   "cell_type": "code",
   "execution_count": 344,
   "metadata": {
    "colab": {
     "base_uri": "https://localhost:8080/"
    },
    "id": "YUsuZ0I3I8cr",
    "outputId": "8341aa13-7620-4805-9fbf-e0ba04d7e1d5"
   },
   "outputs": [
    {
     "name": "stdout",
     "output_type": "stream",
     "text": [
      "Accuracy on developemnt set:  0.4190871369294606\n",
      "Accuracy on validation set:  0.4271523178807947\n",
      "Accuracy on test set:  0.35278514588859416\n",
      "Test Confusion Matrix :  [[48  2  0  0  0  0 30]\n",
      " [27  5  0  0  0  0 18]\n",
      " [25  3  0  0  0  0 25]\n",
      " [ 9  0  0  0  0  0 25]\n",
      " [ 6  1  0  0  0  0 12]\n",
      " [ 5  0  0  0  0  0 25]\n",
      " [26  5  0  0  0  0 80]]\n",
      "Test Macro F1 0.15244163694133833\n",
      "Test Micro F1 0.35278514588859416\n",
      "Test Weighted F1 0.25473895508773287\n"
     ]
    }
   ],
   "source": [
    "y_nicotine_dev_predict = svm_classifier_dual_nicotine.predict(X_nicotine_dev)\n",
    "y_nicotine_val_predict = svm_classifier_dual_nicotine.predict(X_nicotine_val)\n",
    "y_nicotine_test_predict = svm_classifier_dual_nicotine.predict(X_nicotine_test)\n",
    "\n",
    "print(\"Accuracy on developemnt set: \", metrics.accuracy_score(y_nicotine_dev, y_nicotine_dev_predict))\n",
    "print(\"Accuracy on validation set: \", metrics.accuracy_score(y_nicotine_val, y_nicotine_val_predict))\n",
    "print(\"Accuracy on test set: \", metrics.accuracy_score(y_nicotine_test, y_nicotine_test_predict))\n",
    "\n",
    "print(\"Test Confusion Matrix : \", metrics.confusion_matrix(y_nicotine_test, y_nicotine_test_predict))\n",
    "print('Test Macro F1', metrics.f1_score(y_nicotine_test, y_nicotine_test_predict, average='macro'))\n",
    "print('Test Micro F1', metrics.f1_score(y_nicotine_test, y_nicotine_test_predict, average='micro'))\n",
    "print('Test Weighted F1', metrics.f1_score(y_nicotine_test, y_nicotine_test_predict, average='weighted'))"
   ]
  },
  {
   "cell_type": "markdown",
   "metadata": {
    "id": "EK4DSkpUAWis"
   },
   "source": [
    "**Classification for Nicotine using Neural Networks**"
   ]
  },
  {
   "cell_type": "code",
   "execution_count": 345,
   "metadata": {
    "id": "9gH1n_-8Aaxz"
   },
   "outputs": [],
   "source": [
    "X_nicotine_dev_np = X_nicotine_dev.to_numpy()\n",
    "y_nicotine_dev_np = y_nicotine_dev.to_numpy().reshape(y_nicotine_dev.shape[0], 1)\n",
    "\n",
    "X_nicotine_val_np = X_nicotine_val.to_numpy()\n",
    "y_nicotine_val_np = y_nicotine_val.to_numpy().reshape(y_nicotine_val.shape[0], 1)\n",
    "\n",
    "X_nicotine_test_np = X_nicotine_test.to_numpy()\n",
    "y_nicotine_test_np = y_nicotine_test.to_numpy().reshape(y_nicotine_test.shape[0], 1)"
   ]
  },
  {
   "cell_type": "code",
   "execution_count": 346,
   "metadata": {
    "id": "dbaaYjnEAa2P"
   },
   "outputs": [],
   "source": [
    "from sklearn.preprocessing import OneHotEncoder\n",
    "ohe = OneHotEncoder()\n",
    "\n",
    "y_nicotine_dev_ohe = ohe.fit_transform(y_nicotine_dev_np).toarray()\n",
    "y_nicotine_val_ohe = ohe.fit_transform(y_nicotine_val_np).toarray()\n",
    "y_nicotine_test_ohe = ohe.fit_transform(y_nicotine_test_np).toarray()"
   ]
  },
  {
   "cell_type": "code",
   "execution_count": 347,
   "metadata": {
    "id": "stFDx2zGAa7S"
   },
   "outputs": [],
   "source": [
    "from tensorflow.keras.models import Sequential\n",
    "from tensorflow.keras.layers import Dense\n",
    "from tensorflow.keras.layers import BatchNormalization\n",
    "from tensorflow.keras.layers import Dropout\n",
    "\n",
    "model_nicotine = Sequential()\n",
    "\n",
    "model_nicotine.add(Dense(64, input_dim=12, activation='relu'))\n",
    "model_nicotine.add(Dropout(0.2))\n",
    "model_nicotine.add(BatchNormalization())\n",
    "\n",
    "model_nicotine.add(Dense(32, activation='relu'))\n",
    "model_nicotine.add(Dropout(0.2))\n",
    "model_nicotine.add(BatchNormalization())\n",
    "\n",
    "model_nicotine.add(Dense(7, activation='softmax')) "
   ]
  },
  {
   "cell_type": "code",
   "execution_count": 348,
   "metadata": {
    "id": "SW-OTpDzAbBH"
   },
   "outputs": [],
   "source": [
    "model_nicotine.compile(optimizer='adam', loss='categorical_crossentropy', metrics=['accuracy'])\n",
    "history_nicotine = model_nicotine.fit(X_nicotine_dev_np, y_nicotine_dev_ohe, epochs=50, verbose=0, batch_size=128, validation_data=(X_nicotine_val_np, y_nicotine_val_ohe))"
   ]
  },
  {
   "cell_type": "code",
   "execution_count": 349,
   "metadata": {
    "colab": {
     "base_uri": "https://localhost:8080/",
     "height": 299
    },
    "id": "wbcyRb7ZAbHp",
    "outputId": "9c08d1b8-9bb0-45df-840e-3d896d6c1fce"
   },
   "outputs": [
    {
     "data": {
      "text/plain": [
       "[]"
      ]
     },
     "execution_count": 349,
     "metadata": {},
     "output_type": "execute_result"
    },
    {
     "data": {
      "image/png": "[encoded data removed]",
      "text/plain": [
       "<Figure size 432x288 with 1 Axes>"
      ]
     },
     "metadata": {
      "needs_background": "light"
     },
     "output_type": "display_data"
    }
   ],
   "source": [
    "plt.plot(history_nicotine.history['loss'])\n",
    "plt.plot(history_nicotine.history['val_loss'])\n",
    "plt.title('Loss - Nicotine')\n",
    "plt.legend(['train_loss', 'validation_loss'])\n",
    "plt.plot()"
   ]
  },
  {
   "cell_type": "code",
   "execution_count": 350,
   "metadata": {
    "colab": {
     "base_uri": "https://localhost:8080/",
     "height": 299
    },
    "id": "0iumD6ETAbMa",
    "outputId": "b64a2f7f-3cd4-4ad3-a6af-0eead6be1f27"
   },
   "outputs": [
    {
     "data": {
      "text/plain": [
       "[]"
      ]
     },
     "execution_count": 350,
     "metadata": {},
     "output_type": "execute_result"
    },
    {
     "data": {
      "image/png": "[encoded data removed]",
      "text/plain": [
       "<Figure size 432x288 with 1 Axes>"
      ]
     },
     "metadata": {
      "needs_background": "light"
     },
     "output_type": "display_data"
    }
   ],
   "source": [
    "plt.plot(history_nicotine.history['accuracy'])\n",
    "plt.plot(history_nicotine.history['val_accuracy'])\n",
    "plt.title('Accuracy - Nicotine')\n",
    "plt.legend(['train_acc', 'validation_acc'])\n",
    "plt.plot()"
   ]
  },
  {
   "cell_type": "code",
   "execution_count": 351,
   "metadata": {
    "colab": {
     "base_uri": "https://localhost:8080/"
    },
    "id": "e-CRxIPHAbRQ",
    "outputId": "be8df286-3152-4b02-8ec7-89ec48cce343"
   },
   "outputs": [
    {
     "name": "stdout",
     "output_type": "stream",
     "text": [
      "12/12 [==============================] - 0s 2ms/step - loss: 1.6970 - accuracy: 0.3528\n",
      "\n",
      " Accuracy is:  0.3527851402759552\n"
     ]
    }
   ],
   "source": [
    "score = model_nicotine.evaluate(X_nicotine_test_np, y_nicotine_test_ohe)\n",
    "print(\"\\n Accuracy is: \", score[1])"
   ]
  },
  {
   "cell_type": "markdown",
   "metadata": {
    "id": "wTHdblZCBQzB"
   },
   "source": [
    "----------------------------------------------------------------------------"
   ]
  },
  {
   "cell_type": "markdown",
   "metadata": {
    "id": "7jYjgHm9KaT5"
   },
   "source": []
  }
 ],
 "metadata": {
  "colab": {
   "provenance": []
  },
  "kernelspec": {
   "display_name": "Python 3",
   "language": "python",
   "name": "python3"
  },
  "language_info": {
   "codemirror_mode": {
    "name": "ipython",
    "version": 3
   },
   "file_extension": ".py",
   "mimetype": "text/x-python",
   "name": "python",
   "nbconvert_exporter": "python",
   "pygments_lexer": "ipython3",
   "version": "3.8.3"
  }
 },
 "nbformat": 4,
 "nbformat_minor": 5
}
